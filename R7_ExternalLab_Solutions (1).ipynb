{
  "nbformat": 4,
  "nbformat_minor": 0,
  "metadata": {
    "colab": {
      "name": "R7_ExternalLab_Solutions.ipynb",
      "provenance": [],
      "collapsed_sections": [],
      "toc_visible": true
    },
    "kernelspec": {
      "display_name": "Python 3",
      "language": "python",
      "name": "python3"
    },
    "language_info": {
      "codemirror_mode": {
        "name": "ipython",
        "version": 3
      },
      "file_extension": ".py",
      "mimetype": "text/x-python",
      "name": "python",
      "nbconvert_exporter": "python",
      "pygments_lexer": "ipython3",
      "version": "3.6.5"
    }
  },
  "cells": [
    {
      "cell_type": "markdown",
      "metadata": {
        "colab_type": "text",
        "id": "4WH1Pr4KQlCh"
      },
      "source": [
        "### Build a DNN using Keras with `RELU` and `ADAM`"
      ]
    },
    {
      "cell_type": "markdown",
      "metadata": {
        "colab_type": "text",
        "id": "TbvI8LqlQlCl"
      },
      "source": [
        "#### 1. Load tensorflow (1 Mark)"
      ]
    },
    {
      "cell_type": "code",
      "metadata": {
        "id": "OSuiKPgIOF0L",
        "colab_type": "code",
        "colab": {
          "base_uri": "https://localhost:8080/",
          "height": 62
        },
        "outputId": "9175c3c9-53d3-462e-f0a7-78648de042ac"
      },
      "source": [
        "import tensorflow as tf\n",
        "import numpy as np"
      ],
      "execution_count": 1,
      "outputs": [
        {
          "output_type": "display_data",
          "data": {
            "text/html": [
              "<p style=\"color: red;\">\n",
              "The default version of TensorFlow in Colab will soon switch to TensorFlow 2.x.<br>\n",
              "We recommend you <a href=\"https://www.tensorflow.org/guide/migrate\" target=\"_blank\">upgrade</a> now \n",
              "or ensure your notebook will continue to use TensorFlow 1.x via the <code>%tensorflow_version 1.x</code> magic:\n",
              "<a href=\"https://colab.research.google.com/notebooks/tensorflow_version.ipynb\" target=\"_blank\">more info</a>.</p>\n"
            ],
            "text/plain": [
              "<IPython.core.display.HTML object>"
            ]
          },
          "metadata": {
            "tags": []
          }
        }
      ]
    },
    {
      "cell_type": "markdown",
      "metadata": {
        "colab_type": "text",
        "id": "74cQBsi5QlCw"
      },
      "source": [
        "#### 2. Collect Fashion mnist data from tf.keras.datasets (1 Mark)"
      ]
    },
    {
      "cell_type": "code",
      "metadata": {
        "id": "ZYRpyxOpOF0U",
        "colab_type": "code",
        "colab": {
          "base_uri": "https://localhost:8080/",
          "height": 150
        },
        "outputId": "ac9ed97b-f1ca-45ac-8ec3-ef72840b6057"
      },
      "source": [
        "(train_x, train_y), (test_x, test_y) = tf.keras.datasets.fashion_mnist.load_data()"
      ],
      "execution_count": 2,
      "outputs": [
        {
          "output_type": "stream",
          "text": [
            "Downloading data from https://storage.googleapis.com/tensorflow/tf-keras-datasets/train-labels-idx1-ubyte.gz\n",
            "32768/29515 [=================================] - 0s 0us/step\n",
            "Downloading data from https://storage.googleapis.com/tensorflow/tf-keras-datasets/train-images-idx3-ubyte.gz\n",
            "26427392/26421880 [==============================] - 0s 0us/step\n",
            "Downloading data from https://storage.googleapis.com/tensorflow/tf-keras-datasets/t10k-labels-idx1-ubyte.gz\n",
            "8192/5148 [===============================================] - 0s 0us/step\n",
            "Downloading data from https://storage.googleapis.com/tensorflow/tf-keras-datasets/t10k-images-idx3-ubyte.gz\n",
            "4423680/4422102 [==============================] - 0s 0us/step\n"
          ],
          "name": "stdout"
        }
      ]
    },
    {
      "cell_type": "markdown",
      "metadata": {
        "id": "FPZtz4CdOF0X",
        "colab_type": "text"
      },
      "source": [
        "#### Please run this cell as class names are not included, need to create them to plot the images"
      ]
    },
    {
      "cell_type": "code",
      "metadata": {
        "id": "4mhlOR75OF0Y",
        "colab_type": "code",
        "colab": {}
      },
      "source": [
        "class_names = ['T-shirt/top', 'Trouser', 'Pullover', 'Dress', 'Coat', 'Sandal', 'Shirt', 'Sneaker', 'Bag', 'Ankle boot']"
      ],
      "execution_count": 0,
      "outputs": []
    },
    {
      "cell_type": "markdown",
      "metadata": {
        "id": "n4R7FNP8OF0c",
        "colab_type": "text"
      },
      "source": [
        "#### 3(a). Display Shapes of Train and Test sets (0.5 Mark)"
      ]
    },
    {
      "cell_type": "code",
      "metadata": {
        "id": "MoP4ItmiOF0d",
        "colab_type": "code",
        "colab": {
          "base_uri": "https://localhost:8080/",
          "height": 33
        },
        "outputId": "6d7926a9-384d-4151-a87c-d81d43db1c17"
      },
      "source": [
        "train_x.shape"
      ],
      "execution_count": 4,
      "outputs": [
        {
          "output_type": "execute_result",
          "data": {
            "text/plain": [
              "(60000, 28, 28)"
            ]
          },
          "metadata": {
            "tags": []
          },
          "execution_count": 4
        }
      ]
    },
    {
      "cell_type": "code",
      "metadata": {
        "id": "5KUm3N9XQU5H",
        "colab_type": "code",
        "colab": {
          "base_uri": "https://localhost:8080/",
          "height": 33
        },
        "outputId": "d0bad94d-6b0b-45ac-c2b3-0004e7809d9e"
      },
      "source": [
        "test_x.shape"
      ],
      "execution_count": 5,
      "outputs": [
        {
          "output_type": "execute_result",
          "data": {
            "text/plain": [
              "(10000, 28, 28)"
            ]
          },
          "metadata": {
            "tags": []
          },
          "execution_count": 5
        }
      ]
    },
    {
      "cell_type": "code",
      "metadata": {
        "id": "OAfRc1VlQU8x",
        "colab_type": "code",
        "colab": {}
      },
      "source": [
        ""
      ],
      "execution_count": 0,
      "outputs": []
    },
    {
      "cell_type": "markdown",
      "metadata": {
        "id": "mDBItmDkOF0j",
        "colab_type": "text"
      },
      "source": [
        "#### 3(b). Check how many classes (unique categories) we have in target column (0.5 Mark)\n",
        "\n",
        "#### Hint: np.unique"
      ]
    },
    {
      "cell_type": "code",
      "metadata": {
        "id": "CTNBR4vOQT_h",
        "colab_type": "code",
        "colab": {
          "base_uri": "https://localhost:8080/",
          "height": 33
        },
        "outputId": "b81a2ec0-bf4d-4312-b529-1e2e24193104"
      },
      "source": [
        "np.unique(test_y)"
      ],
      "execution_count": 6,
      "outputs": [
        {
          "output_type": "execute_result",
          "data": {
            "text/plain": [
              "array([0, 1, 2, 3, 4, 5, 6, 7, 8, 9], dtype=uint8)"
            ]
          },
          "metadata": {
            "tags": []
          },
          "execution_count": 6
        }
      ]
    },
    {
      "cell_type": "code",
      "metadata": {
        "id": "-Z2gERQhQT7t",
        "colab_type": "code",
        "colab": {}
      },
      "source": [
        ""
      ],
      "execution_count": 0,
      "outputs": []
    },
    {
      "cell_type": "code",
      "metadata": {
        "id": "RBYGAbVdOF0k",
        "colab_type": "code",
        "colab": {}
      },
      "source": [
        ""
      ],
      "execution_count": 0,
      "outputs": []
    },
    {
      "cell_type": "markdown",
      "metadata": {
        "id": "rVcdNzwGOF0p",
        "colab_type": "text"
      },
      "source": [
        "#### 4. Plot/Visualize the first image from the training dataset using matplotlib's imshow and display the class name below the image (2 Marks)"
      ]
    },
    {
      "cell_type": "code",
      "metadata": {
        "id": "7Tjfv_8KOF0r",
        "colab_type": "code",
        "colab": {}
      },
      "source": [
        "import matplotlib.pyplot as plt"
      ],
      "execution_count": 0,
      "outputs": []
    },
    {
      "cell_type": "code",
      "metadata": {
        "id": "vuGoILzTOF0w",
        "colab_type": "code",
        "colab": {
          "base_uri": "https://localhost:8080/",
          "height": 294
        },
        "outputId": "63263148-412a-4fa3-93ad-1cead651b93e"
      },
      "source": [
        "#img_num = np.random.randint(0, test_x.shape[0]) #Get a random integer between 0 and number of examples in test dataset\n",
        "plt.imshow(test_x[0],cmap='gray') #Show the image from test dataset\n",
        "plt.suptitle('Number: ' + str(test_y[0]))\n",
        "plt.show()"
      ],
      "execution_count": 9,
      "outputs": [
        {
          "output_type": "display_data",
          "data": {
            "image/png": "[encoded data removed]",
            "text/plain": [
              "<Figure size 432x288 with 1 Axes>"
            ]
          },
          "metadata": {
            "tags": []
          }
        }
      ]
    },
    {
      "cell_type": "markdown",
      "metadata": {
        "colab_type": "text",
        "id": "no7aWYZyQlC1"
      },
      "source": [
        "#### 5. Change train and test labels into one-hot vectors (1 Mark)"
      ]
    },
    {
      "cell_type": "code",
      "metadata": {
        "colab_type": "code",
        "id": "UX6otc4wQlC2",
        "colab": {
          "base_uri": "https://localhost:8080/",
          "height": 33
        },
        "outputId": "3858f8b8-555f-4733-9bd8-da2e09eb8481"
      },
      "source": [
        "test_y[0]"
      ],
      "execution_count": 10,
      "outputs": [
        {
          "output_type": "execute_result",
          "data": {
            "text/plain": [
              "9"
            ]
          },
          "metadata": {
            "tags": []
          },
          "execution_count": 10
        }
      ]
    },
    {
      "cell_type": "code",
      "metadata": {
        "id": "boJ6yn-ER0mC",
        "colab_type": "code",
        "colab": {}
      },
      "source": [
        "trainY = tf.keras.utils.to_categorical(train_y, num_classes=10)\n",
        "testY = tf.keras.utils.to_categorical(test_y, num_classes=10)"
      ],
      "execution_count": 0,
      "outputs": []
    },
    {
      "cell_type": "code",
      "metadata": {
        "id": "Q2vVL4idR0sA",
        "colab_type": "code",
        "colab": {
          "base_uri": "https://localhost:8080/",
          "height": 33
        },
        "outputId": "90eb6c6a-c7e5-4256-e979-570e75db6cf8"
      },
      "source": [
        "testY[0]"
      ],
      "execution_count": 13,
      "outputs": [
        {
          "output_type": "execute_result",
          "data": {
            "text/plain": [
              "array([0., 0., 0., 0., 0., 0., 0., 0., 0., 1.], dtype=float32)"
            ]
          },
          "metadata": {
            "tags": []
          },
          "execution_count": 13
        }
      ]
    },
    {
      "cell_type": "code",
      "metadata": {
        "id": "1PffLaiDR0pr",
        "colab_type": "code",
        "colab": {}
      },
      "source": [
        ""
      ],
      "execution_count": 0,
      "outputs": []
    },
    {
      "cell_type": "markdown",
      "metadata": {
        "colab_type": "text",
        "id": "QjNrRTdoQlC5"
      },
      "source": [
        "### Build the Graph"
      ]
    },
    {
      "cell_type": "markdown",
      "metadata": {
        "colab_type": "text",
        "id": "CDJ9DHVNQlC7"
      },
      "source": [
        "#### 6.Initialize model, reshape & batch normalize data (1 Mark)"
      ]
    },
    {
      "cell_type": "code",
      "metadata": {
        "colab_type": "code",
        "id": "pCDQs_g1QlC8",
        "colab": {}
      },
      "source": [
        "tf.keras.backend.clear_session()\n",
        "\n",
        "#Initialize Sequential model\n",
        "model = tf.keras.models.Sequential()\n",
        "\n",
        "#Reshape data from 2D to 1D -> 28x28 to 784\n",
        "model.add(tf.keras.layers.Reshape((784,),input_shape=(28,28,)))\n",
        "\n",
        "#Normalize the data\n",
        "model.add(tf.keras.layers.BatchNormalization())"
      ],
      "execution_count": 0,
      "outputs": []
    },
    {
      "cell_type": "markdown",
      "metadata": {
        "colab_type": "text",
        "id": "kBGwTTilQlDD"
      },
      "source": [
        "#### 7(a). Add two fully connected layers with 200 and 100 neurons respectively with `relu` activations. (1 Mark)"
      ]
    },
    {
      "cell_type": "code",
      "metadata": {
        "colab_type": "code",
        "id": "IXbfpfOzQlDF",
        "colab": {}
      },
      "source": [
        "model.add(tf.keras.layers.Dense(200,activation=\"relu\"))\n",
        "model.add(tf.keras.layers.BatchNormalization())\n",
        "model.add(tf.keras.layers.Dense(100,activation=\"relu\"))\n",
        "model.add(tf.keras.layers.BatchNormalization())\n",
        "model.add(tf.keras.layers.Dense(100,activation=\"relu\"))\n",
        "model.add(tf.keras.layers.BatchNormalization())"
      ],
      "execution_count": 0,
      "outputs": []
    },
    {
      "cell_type": "markdown",
      "metadata": {
        "id": "7NzKJOBoOF1H",
        "colab_type": "text"
      },
      "source": [
        "#### 7(b). Add a dropout layer with `p=0.25` (1 Mark)"
      ]
    },
    {
      "cell_type": "code",
      "metadata": {
        "id": "ScuJ6WyJOF1J",
        "colab_type": "code",
        "colab": {}
      },
      "source": [
        "model.add(tf.keras.layers.Dropout(0.25))"
      ],
      "execution_count": 0,
      "outputs": []
    },
    {
      "cell_type": "markdown",
      "metadata": {
        "id": "mo03PKtqOF1N",
        "colab_type": "text"
      },
      "source": [
        "#### 8. Add the output layer with a fully connected layer with 10 neurons with `softmax` activation. (1 Mark)"
      ]
    },
    {
      "cell_type": "code",
      "metadata": {
        "id": "-0IBTt5hOF1Q",
        "colab_type": "code",
        "colab": {}
      },
      "source": [
        "model.add(tf.keras.layers.Dense(10,activation='softmax'))"
      ],
      "execution_count": 0,
      "outputs": []
    },
    {
      "cell_type": "markdown",
      "metadata": {
        "colab_type": "text",
        "id": "5I8f5otcQlDJ"
      },
      "source": [
        "### Compile Model\n",
        "#### 9. Use `categorical_crossentropy` loss, `adam` optimizer, `accuracy` metric and compile the model. (1 Mark)"
      ]
    },
    {
      "cell_type": "code",
      "metadata": {
        "id": "aHCOMO6Lbjem",
        "colab_type": "code",
        "colab": {}
      },
      "source": [
        "adam=tf.keras.optimizers.Adam(lr=0.01,decay=0.001)"
      ],
      "execution_count": 0,
      "outputs": []
    },
    {
      "cell_type": "code",
      "metadata": {
        "colab_type": "code",
        "id": "E25kuP_NQlDM",
        "colab": {}
      },
      "source": [
        "model.compile(optimizer='adam',loss='categorical_crossentropy',metrics=['accuracy'])"
      ],
      "execution_count": 0,
      "outputs": []
    },
    {
      "cell_type": "markdown",
      "metadata": {
        "id": "vsYg2aYZOF1d",
        "colab_type": "text"
      },
      "source": [
        "### Model Training\n",
        "#### 10. Fit your model on train set, using validation_split=0.2, epochs=10 and batch_size=32 and assign it to a variable \"hist_model\" which can be used to plot loss and accuracy curves using saved history. (5 Marks)"
      ]
    },
    {
      "cell_type": "code",
      "metadata": {
        "id": "JH1KlkOKOF1e",
        "colab_type": "code",
        "colab": {
          "base_uri": "https://localhost:8080/",
          "height": 367
        },
        "outputId": "1db7c54e-16d9-4a03-b19c-83eede1413be"
      },
      "source": [
        "history=model.fit(train_x,trainY,\n",
        "          validation_split=(0.2),\n",
        "          epochs=10,\n",
        "          batch_size=32)"
      ],
      "execution_count": 79,
      "outputs": [
        {
          "output_type": "stream",
          "text": [
            "Train on 48000 samples, validate on 12000 samples\n",
            "Epoch 1/10\n",
            "48000/48000 [==============================] - 9s 195us/sample - loss: 0.5570 - acc: 0.8024 - val_loss: 0.3700 - val_acc: 0.8637\n",
            "Epoch 2/10\n",
            "48000/48000 [==============================] - 9s 186us/sample - loss: 0.4205 - acc: 0.8463 - val_loss: 0.3723 - val_acc: 0.8672\n",
            "Epoch 3/10\n",
            "48000/48000 [==============================] - 9s 181us/sample - loss: 0.3800 - acc: 0.8624 - val_loss: 0.3393 - val_acc: 0.8778\n",
            "Epoch 4/10\n",
            "48000/48000 [==============================] - 8s 176us/sample - loss: 0.3510 - acc: 0.8706 - val_loss: 0.3258 - val_acc: 0.8841\n",
            "Epoch 5/10\n",
            "48000/48000 [==============================] - 9s 181us/sample - loss: 0.3309 - acc: 0.8792 - val_loss: 0.3271 - val_acc: 0.8803\n",
            "Epoch 6/10\n",
            "48000/48000 [==============================] - 9s 182us/sample - loss: 0.3121 - acc: 0.8842 - val_loss: 0.3256 - val_acc: 0.8855\n",
            "Epoch 7/10\n",
            "48000/48000 [==============================] - 9s 192us/sample - loss: 0.2953 - acc: 0.8917 - val_loss: 0.3151 - val_acc: 0.8875\n",
            "Epoch 8/10\n",
            "48000/48000 [==============================] - 9s 191us/sample - loss: 0.2836 - acc: 0.8948 - val_loss: 0.3082 - val_acc: 0.8900\n",
            "Epoch 9/10\n",
            "48000/48000 [==============================] - 9s 185us/sample - loss: 0.2713 - acc: 0.9012 - val_loss: 0.3154 - val_acc: 0.8916\n",
            "Epoch 10/10\n",
            "48000/48000 [==============================] - 9s 180us/sample - loss: 0.2628 - acc: 0.9031 - val_loss: 0.3046 - val_acc: 0.8926\n"
          ],
          "name": "stdout"
        }
      ]
    },
    {
      "cell_type": "code",
      "metadata": {
        "id": "1smp579PX9iU",
        "colab_type": "code",
        "colab": {}
      },
      "source": [
        "model.save('mnist_intern.h5')"
      ],
      "execution_count": 0,
      "outputs": []
    },
    {
      "cell_type": "markdown",
      "metadata": {
        "id": "ngoVIyk2OF1i",
        "colab_type": "text"
      },
      "source": [
        "### Model Evaluation"
      ]
    },
    {
      "cell_type": "code",
      "metadata": {
        "id": "SkaWyk7LZ8VE",
        "colab_type": "code",
        "colab": {}
      },
      "source": [
        "import matplotlib.pyplot as plt"
      ],
      "execution_count": 0,
      "outputs": []
    },
    {
      "cell_type": "markdown",
      "metadata": {
        "id": "HQZCo-o7OF1j",
        "colab_type": "text"
      },
      "source": [
        "#### 11. Visualize/Plot loss curves for training data, val data and provide your inference (2 Marks)"
      ]
    },
    {
      "cell_type": "code",
      "metadata": {
        "id": "ActALuPtbO3Q",
        "colab_type": "code",
        "colab": {
          "base_uri": "https://localhost:8080/",
          "height": 33
        },
        "outputId": "cde470e5-b090-4f7b-ab97-42e43167c01e"
      },
      "source": [
        "import keras as keras"
      ],
      "execution_count": 33,
      "outputs": [
        {
          "output_type": "stream",
          "text": [
            "Using TensorFlow backend.\n"
          ],
          "name": "stderr"
        }
      ]
    },
    {
      "cell_type": "code",
      "metadata": {
        "id": "p_fq1tl4bHp7",
        "colab_type": "code",
        "colab": {}
      },
      "source": [
        ""
      ],
      "execution_count": 0,
      "outputs": []
    },
    {
      "cell_type": "code",
      "metadata": {
        "id": "4ToUZPlbahBs",
        "colab_type": "code",
        "colab": {
          "base_uri": "https://localhost:8080/",
          "height": 33
        },
        "outputId": "ac1c2fc9-b2e2-47ab-fe7f-05b5976fc44a"
      },
      "source": [
        "print(history.history.keys())"
      ],
      "execution_count": 49,
      "outputs": [
        {
          "output_type": "stream",
          "text": [
            "dict_keys(['loss', 'acc', 'val_loss', 'val_acc'])\n"
          ],
          "name": "stdout"
        }
      ]
    },
    {
      "cell_type": "code",
      "metadata": {
        "id": "bSQ2Y5bzOF1k",
        "colab_type": "code",
        "colab": {
          "base_uri": "https://localhost:8080/",
          "height": 295
        },
        "outputId": "bfeee4a9-54ff-4858-f858-b9ab25cf6c43"
      },
      "source": [
        "plt.plot(history.history['loss'])\n",
        "plt.plot(history.history['val_loss'])\n",
        "plt.title('model loss')\n",
        "plt.ylabel('loss')\n",
        "plt.xlabel('epoch')\n",
        "plt.legend(['train', 'test'], loc='upper left')\n",
        "plt.show()"
      ],
      "execution_count": 81,
      "outputs": [
        {
          "output_type": "display_data",
          "data": {
            "image/png": "[encoded data removed]",
            "text/plain": [
              "<Figure size 432x288 with 1 Axes>"
            ]
          },
          "metadata": {
            "tags": []
          }
        }
      ]
    },
    {
      "cell_type": "markdown",
      "metadata": {
        "id": "UO8FdiopiPuE",
        "colab_type": "text"
      },
      "source": [
        "As we trying to tune the hyperparameters like learning rate,batch size ,activation function the loss of training and validation data has decreasing...."
      ]
    },
    {
      "cell_type": "markdown",
      "metadata": {
        "id": "kj05nQdwOF1o",
        "colab_type": "text"
      },
      "source": [
        "#### 12. Visualize/Plot accuracy curves for training data, val data and provide your inference (2 Marks)"
      ]
    },
    {
      "cell_type": "markdown",
      "metadata": {
        "id": "Jc03oOj0iMwl",
        "colab_type": "text"
      },
      "source": [
        ""
      ]
    },
    {
      "cell_type": "code",
      "metadata": {
        "id": "a4oNgyTNOF1o",
        "colab_type": "code",
        "colab": {
          "base_uri": "https://localhost:8080/",
          "height": 295
        },
        "outputId": "2fdecb05-0242-417e-8bed-ffbc3b656fe1"
      },
      "source": [
        "plt.plot(history.history['acc'])\n",
        "plt.plot(history.history['val_acc'])\n",
        "plt.title('model accuracy')\n",
        "plt.ylabel('accuracy')\n",
        "plt.xlabel('epoch')\n",
        "plt.legend(['train', 'test'], loc='upper left')\n",
        "plt.show()"
      ],
      "execution_count": 82,
      "outputs": [
        {
          "output_type": "display_data",
          "data": {
            "image/png": "[encoded data removed]",
            "text/plain": [
              "<Figure size 432x288 with 1 Axes>"
            ]
          },
          "metadata": {
            "tags": []
          }
        }
      ]
    },
    {
      "cell_type": "markdown",
      "metadata": {
        "id": "EUX-JsKei-WG",
        "colab_type": "text"
      },
      "source": [
        "As the loss decreases by the process of hyperparameter tuning, the accuracy of training and testing is increases."
      ]
    },
    {
      "cell_type": "markdown",
      "metadata": {
        "id": "rcseVnNpixQQ",
        "colab_type": "text"
      },
      "source": [
        ""
      ]
    },
    {
      "cell_type": "code",
      "metadata": {
        "colab_type": "code",
        "id": "xcrTglsQud1W",
        "colab": {}
      },
      "source": [
        "#### 13. Evaluate the above model on test set and report test loss & accuracy (1 Mark)\n",
        "#### Hint: model.evaluate()"
      ],
      "execution_count": 0,
      "outputs": []
    },
    {
      "cell_type": "code",
      "metadata": {
        "id": "gPL9zjwzOF1u",
        "colab_type": "code",
        "colab": {
          "base_uri": "https://localhost:8080/",
          "height": 50
        },
        "outputId": "fa4baed3-c961-48d9-a529-abfb186e8285"
      },
      "source": [
        "model.evaluate(test_x,testY)"
      ],
      "execution_count": 86,
      "outputs": [
        {
          "output_type": "stream",
          "text": [
            "10000/10000 [==============================] - 1s 50us/sample - loss: 0.3384 - acc: 0.8827\n"
          ],
          "name": "stdout"
        },
        {
          "output_type": "execute_result",
          "data": {
            "text/plain": [
              "[0.33842802803516386, 0.8827]"
            ]
          },
          "metadata": {
            "tags": []
          },
          "execution_count": 86
        }
      ]
    },
    {
      "cell_type": "markdown",
      "metadata": {
        "id": "Nh8pB6OcOF1x",
        "colab_type": "text"
      },
      "source": [
        "#### 14. Predict the labels for test set and store in a variable named \"predictions\" (1 Mark)\n",
        "\n",
        "#### Hint: model.predict()"
      ]
    },
    {
      "cell_type": "code",
      "metadata": {
        "id": "kugOIjw9OF1z",
        "colab_type": "code",
        "colab": {}
      },
      "source": [
        "predictions=model.predict(test_x)"
      ],
      "execution_count": 0,
      "outputs": []
    },
    {
      "cell_type": "markdown",
      "metadata": {
        "id": "5TVp_Jo9OF13",
        "colab_type": "text"
      },
      "source": [
        "#### 15. Write a for loop to visualize, display actual label, predicted label along with class names for 0th, 100th and 200th images in test set.  \n",
        "#### (3 Marks)"
      ]
    },
    {
      "cell_type": "code",
      "metadata": {
        "id": "V8OCvTkvOF14",
        "colab_type": "code",
        "colab": {
          "base_uri": "https://localhost:8080/",
          "height": 811
        },
        "outputId": "a19ad5fb-e728-4e1d-c7b9-bf1929be69b3"
      },
      "source": [
        "  for i in [0,100,200]:\n",
        "    #print(i)\n",
        "     plt.imshow(test_x[i],cmap='gray')\n",
        "     print(np.argmax(predictions[i]),\":\",class_names[np.argmax(predictions[i])])\n",
        "     plt.show()"
      ],
      "execution_count": 96,
      "outputs": [
        {
          "output_type": "stream",
          "text": [
            "9 : Ankle boot\n"
          ],
          "name": "stdout"
        },
        {
          "output_type": "display_data",
          "data": {
            "image/png": "[encoded data removed]",
            "text/plain": [
              "<Figure size 432x288 with 1 Axes>"
            ]
          },
          "metadata": {
            "tags": []
          }
        },
        {
          "output_type": "stream",
          "text": [
            "3 : Dress\n"
          ],
          "name": "stdout"
        },
        {
          "output_type": "display_data",
          "data": {
            "image/png": "[encoded data removed]",
            "text/plain": [
              "<Figure size 432x288 with 1 Axes>"
            ]
          },
          "metadata": {
            "tags": []
          }
        },
        {
          "output_type": "stream",
          "text": [
            "1 : Trouser\n"
          ],
          "name": "stdout"
        },
        {
          "output_type": "display_data",
          "data": {
            "image/png": "[encoded data removed]",
            "text/plain": [
              "<Figure size 432x288 with 1 Axes>"
            ]
          },
          "metadata": {
            "tags": []
          }
        }
      ]
    },
    {
      "cell_type": "code",
      "metadata": {
        "id": "G7xusTxapofp",
        "colab_type": "code",
        "colab": {}
      },
      "source": [
        ""
      ],
      "execution_count": 0,
      "outputs": []
    }
  ]
}