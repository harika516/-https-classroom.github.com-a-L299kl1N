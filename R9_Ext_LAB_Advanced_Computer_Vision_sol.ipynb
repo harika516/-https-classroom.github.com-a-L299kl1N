{
  "nbformat": 4,
  "nbformat_minor": 0,
  "metadata": {
    "colab": {
      "name": "LAB - Advanced Computer Vision.ipynb",
      "provenance": [],
      "collapsed_sections": []
    },
    "kernelspec": {
      "name": "python3",
      "display_name": "Python 3"
    }
  },
  "cells": [
    {
      "cell_type": "markdown",
      "metadata": {
        "id": "I-P5m4iA_xe7",
        "colab_type": "text"
      },
      "source": [
        "# Bounding box detection - Racoon data\n",
        "\n",
        "\n",
        "## Data files\n",
        "- images_racoon.rar: contain images of racoons\n",
        "- train_labels.cv: contains coordinates for bounding box for every image"
      ]
    },
    {
      "cell_type": "markdown",
      "metadata": {
        "colab_type": "text",
        "id": "d8M5gzwKWGiU"
      },
      "source": [
        "### Import the necessary libraries"
      ]
    },
    {
      "cell_type": "code",
      "metadata": {
        "colab_type": "code",
        "id": "VOMKpZJcWGiV",
        "colab": {}
      },
      "source": [
        "import numpy as np\n",
        "import pandas as pd\n",
        "from keras import models\n",
        "from keras.applications.mobilenet import MobileNet,preprocess_input\n",
        "from keras.callbacks import ModelCheckpoint,EarlyStopping,ReduceLROnPlateau,Callback\n",
        "from keras.layers import Conv2D,Reshape\n",
        "from keras.backend import epsilon\n",
        "import tensorflow as tf\n",
        "np.random.seed(1)\n",
        "from csv import reader\n",
        "import os\n"
      ],
      "execution_count": null,
      "outputs": []
    },
    {
      "cell_type": "code",
      "metadata": {
        "id": "U9xWwY26BvH6",
        "colab_type": "code",
        "colab": {
          "base_uri": "https://localhost:8080/",
          "height": 35
        },
        "outputId": "012aaf33-8440-4b2b-9c74-f091ea799419"
      },
      "source": [
        "from google.colab import drive\n",
        "drive.mount('/content/drive')"
      ],
      "execution_count": null,
      "outputs": [
        {
          "output_type": "stream",
          "text": [
            "Mounted at /content/drive\n"
          ],
          "name": "stdout"
        }
      ]
    },
    {
      "cell_type": "markdown",
      "metadata": {
        "id": "Z_INIZOi_tUW",
        "colab_type": "text"
      },
      "source": [
        "### Change directory"
      ]
    },
    {
      "cell_type": "code",
      "metadata": {
        "id": "Sxgw3GT1AR9Y",
        "colab_type": "code",
        "colab": {
          "base_uri": "https://localhost:8080/",
          "height": 35
        },
        "outputId": "c700209e-99f3-4f16-e477-29622095b8ef"
      },
      "source": [
        "pwd"
      ],
      "execution_count": null,
      "outputs": [
        {
          "output_type": "execute_result",
          "data": {
            "application/vnd.google.colaboratory.intrinsic+json": {
              "type": "string"
            },
            "text/plain": [
              "'/content'"
            ]
          },
          "metadata": {
            "tags": []
          },
          "execution_count": 3
        }
      ]
    },
    {
      "cell_type": "code",
      "metadata": {
        "id": "N0lNFoq7CAEW",
        "colab_type": "code",
        "colab": {}
      },
      "source": [
        "os.chdir(\"/content/drive/My Drive/LAB\")"
      ],
      "execution_count": null,
      "outputs": []
    },
    {
      "cell_type": "markdown",
      "metadata": {
        "colab_type": "text",
        "id": "lwxBtvYRWGii"
      },
      "source": [
        "### Load the training data from train.csv file"
      ]
    },
    {
      "cell_type": "code",
      "metadata": {
        "colab_type": "code",
        "id": "wiTjjKtpWGij",
        "colab": {}
      },
      "source": [
        "df=pd.read_csv(\"train_labels.csv\")"
      ],
      "execution_count": null,
      "outputs": []
    },
    {
      "cell_type": "code",
      "metadata": {
        "id": "QIGeGAx3Dv7N",
        "colab_type": "code",
        "colab": {
          "base_uri": "https://localhost:8080/",
          "height": 35
        },
        "outputId": "035f898c-c563-4cae-c3b0-0a5c0630a726"
      },
      "source": [
        "df.shape"
      ],
      "execution_count": null,
      "outputs": [
        {
          "output_type": "execute_result",
          "data": {
            "text/plain": [
              "(173, 8)"
            ]
          },
          "metadata": {
            "tags": []
          },
          "execution_count": 13
        }
      ]
    },
    {
      "cell_type": "markdown",
      "metadata": {
        "colab_type": "text",
        "id": "-F3CkYxUWGin"
      },
      "source": [
        "### Print the shape of the train dataset"
      ]
    },
    {
      "cell_type": "code",
      "metadata": {
        "colab_type": "code",
        "id": "uRz_MtnvWGip",
        "colab": {
          "base_uri": "https://localhost:8080/",
          "height": 35
        },
        "outputId": "7a22c393-9b0f-471e-ec2b-e24d051f5f3a"
      },
      "source": [
        "df.shape"
      ],
      "execution_count": null,
      "outputs": [
        {
          "output_type": "execute_result",
          "data": {
            "text/plain": [
              "(173, 8)"
            ]
          },
          "metadata": {
            "tags": []
          },
          "execution_count": 14
        }
      ]
    },
    {
      "cell_type": "code",
      "metadata": {
        "id": "16U619UBD5_W",
        "colab_type": "code",
        "colab": {
          "base_uri": "https://localhost:8080/",
          "height": 202
        },
        "outputId": "f77f0293-90d1-440c-879e-e141e61ccd00"
      },
      "source": [
        "df.head()"
      ],
      "execution_count": null,
      "outputs": [
        {
          "output_type": "execute_result",
          "data": {
            "text/html": [
              "<div>\n",
              "<style scoped>\n",
              "    .dataframe tbody tr th:only-of-type {\n",
              "        vertical-align: middle;\n",
              "    }\n",
              "\n",
              "    .dataframe tbody tr th {\n",
              "        vertical-align: top;\n",
              "    }\n",
              "\n",
              "    .dataframe thead th {\n",
              "        text-align: right;\n",
              "    }\n",
              "</style>\n",
              "<table border=\"1\" class=\"dataframe\">\n",
              "  <thead>\n",
              "    <tr style=\"text-align: right;\">\n",
              "      <th></th>\n",
              "      <th>filename</th>\n",
              "      <th>width</th>\n",
              "      <th>height</th>\n",
              "      <th>class</th>\n",
              "      <th>xmin</th>\n",
              "      <th>ymin</th>\n",
              "      <th>xmax</th>\n",
              "      <th>ymax</th>\n",
              "    </tr>\n",
              "  </thead>\n",
              "  <tbody>\n",
              "    <tr>\n",
              "      <th>0</th>\n",
              "      <td>raccoon-17.jpg</td>\n",
              "      <td>259</td>\n",
              "      <td>194</td>\n",
              "      <td>raccoon</td>\n",
              "      <td>95</td>\n",
              "      <td>60</td>\n",
              "      <td>167</td>\n",
              "      <td>118</td>\n",
              "    </tr>\n",
              "    <tr>\n",
              "      <th>1</th>\n",
              "      <td>raccoon-11.jpg</td>\n",
              "      <td>660</td>\n",
              "      <td>432</td>\n",
              "      <td>raccoon</td>\n",
              "      <td>3</td>\n",
              "      <td>1</td>\n",
              "      <td>461</td>\n",
              "      <td>431</td>\n",
              "    </tr>\n",
              "    <tr>\n",
              "      <th>2</th>\n",
              "      <td>raccoon-63.jpg</td>\n",
              "      <td>600</td>\n",
              "      <td>400</td>\n",
              "      <td>raccoon</td>\n",
              "      <td>74</td>\n",
              "      <td>107</td>\n",
              "      <td>280</td>\n",
              "      <td>290</td>\n",
              "    </tr>\n",
              "    <tr>\n",
              "      <th>3</th>\n",
              "      <td>raccoon-63.jpg</td>\n",
              "      <td>600</td>\n",
              "      <td>400</td>\n",
              "      <td>raccoon</td>\n",
              "      <td>227</td>\n",
              "      <td>93</td>\n",
              "      <td>403</td>\n",
              "      <td>298</td>\n",
              "    </tr>\n",
              "    <tr>\n",
              "      <th>4</th>\n",
              "      <td>raccoon-60.jpg</td>\n",
              "      <td>273</td>\n",
              "      <td>185</td>\n",
              "      <td>raccoon</td>\n",
              "      <td>58</td>\n",
              "      <td>33</td>\n",
              "      <td>197</td>\n",
              "      <td>127</td>\n",
              "    </tr>\n",
              "  </tbody>\n",
              "</table>\n",
              "</div>"
            ],
            "text/plain": [
              "         filename  width  height    class  xmin  ymin  xmax  ymax\n",
              "0  raccoon-17.jpg    259     194  raccoon    95    60   167   118\n",
              "1  raccoon-11.jpg    660     432  raccoon     3     1   461   431\n",
              "2  raccoon-63.jpg    600     400  raccoon    74   107   280   290\n",
              "3  raccoon-63.jpg    600     400  raccoon   227    93   403   298\n",
              "4  raccoon-60.jpg    273     185  raccoon    58    33   197   127"
            ]
          },
          "metadata": {
            "tags": []
          },
          "execution_count": 15
        }
      ]
    },
    {
      "cell_type": "markdown",
      "metadata": {
        "colab_type": "text",
        "id": "axf5m10eWGis"
      },
      "source": [
        "### Declare a variable IMAGE_SIZE = 128 as we will be using MobileNet which will be taking Input shape as 128 * 128 "
      ]
    },
    {
      "cell_type": "code",
      "metadata": {
        "colab_type": "code",
        "id": "7ayEk2c9WGit",
        "colab": {}
      },
      "source": [
        "IMAGE_SIZE = 128 "
      ],
      "execution_count": null,
      "outputs": []
    },
    {
      "cell_type": "markdown",
      "metadata": {
        "colab_type": "text",
        "id": "wbrrYb5IWGix"
      },
      "source": [
        "### With the help of csv.reader write a for loop which can load the train.csv file and store the path, width, height, x0,y0,x1,y1 in induvidual variables. <br>\n",
        "1. Create a list variable known as 'path' which has all the path for all the training images\n",
        "2. Create an array 'coords' which has the resized coordinates of the bounding box for the training images\n",
        "\n",
        "<u>Note:</u> All the training images should be downsampled to 128 * 128 as it is the input shape of MobileNet (which we will be using for Object detection). Hence the corresponding coordinates of the bounding boxes should be changed to match the image dimension of 128 * 128 "
      ]
    },
    {
      "cell_type": "code",
      "metadata": {
        "colab_type": "code",
        "id": "twSTiPpRWGiy",
        "colab": {
          "base_uri": "https://localhost:8080/",
          "height": 1000
        },
        "outputId": "f46678e1-6b4b-4544-b25e-f228e2cefcc3"
      },
      "source": [
        "import csv\n",
        "with open('train_labels.csv','r') as csvfile:\n",
        "  paths=[]\n",
        "  coords=np.zeros((sum(1 for line in csvfile) -1,4))\n",
        "  spamreader=csv.reader(csvfile,delimiter=',')\n",
        "  csvfile.seek(0)\n",
        "  next(spamreader,None)\n",
        "  for i,row in enumerate(spamreader):\n",
        "    for j,r in enumerate(row):\n",
        "      if((j!=0) & (j!=3)):\n",
        "        row[j]=int(r)\n",
        "    path,width,height,class_,xmin,ymin,xmax,ymax=row\n",
        "    paths.append(path)\n",
        "\n",
        "    coords[i,0]=xmin * IMAGE_SIZE/width\n",
        "    coords[i,1]= ymin * IMAGE_SIZE/height   \n",
        "    coords[i,2]= xmax * IMAGE_SIZE/width \n",
        "    coords[i,3]= ymax * IMAGE_SIZE/height\n",
        "print(coords) "
      ],
      "execution_count": null,
      "outputs": [
        {
          "output_type": "stream",
          "text": [
            "[[4.69498069e+01 3.95876289e+01 8.25328185e+01 7.78556701e+01]\n",
            " [5.81818182e-01 2.96296296e-01 8.94060606e+01 1.27703704e+02]\n",
            " [1.57866667e+01 3.42400000e+01 5.97333333e+01 9.28000000e+01]\n",
            " [4.84266667e+01 2.97600000e+01 8.59733333e+01 9.53600000e+01]\n",
            " [2.71941392e+01 2.28324324e+01 9.23663004e+01 8.78702703e+01]\n",
            " [7.49268293e+00 5.72357724e+00 1.17385366e+02 1.24878049e+02]\n",
            " [2.53866667e+01 6.72000000e+00 7.85066667e+01 1.27680000e+02]\n",
            " [5.24750958e+01 6.63212435e+00 1.22114943e+02 1.10093264e+02]\n",
            " [5.14056225e-01 6.33663366e-01 7.91646586e+01 1.11524752e+02]\n",
            " [4.29961390e+01 5.27835052e+00 8.99459459e+01 5.87216495e+01]\n",
            " [1.30957096e+01 4.62650602e+00 8.32211221e+01 1.25686747e+02]\n",
            " [8.40154440e+00 2.57319588e+01 1.18115830e+02 9.69896907e+01]\n",
            " [4.35200000e+00 3.12320000e+01 7.14240000e+01 1.27744000e+02]\n",
            " [6.83333333e+00 6.66666667e-01 1.13833333e+02 1.22266667e+02]\n",
            " [1.19322034e+01 5.70700637e+00 1.17152542e+02 1.25554140e+02]\n",
            " [2.40000000e+01 3.01176471e-01 1.13600000e+02 1.28000000e+02]\n",
            " [3.36573705e+01 1.84676617e+01 1.18820717e+02 1.20995025e+02]\n",
            " [3.55555556e-01 6.87407407e+00 1.28000000e+02 1.19229630e+02]\n",
            " [2.68422877e+01 2.57500000e+01 9.09532062e+01 9.58750000e+01]\n",
            " [9.88416988e+00 3.95876289e+00 8.74749035e+01 1.10185567e+02]\n",
            " [1.14285714e+00 5.68888889e-01 1.13714286e+02 1.25724444e+02]\n",
            " [2.58000000e+01 1.53239437e+01 1.25600000e+02 1.12075117e+02]\n",
            " [2.29120000e+01 2.01650413e+00 8.66560000e+01 1.07450863e+02]\n",
            " [1.59507692e+01 2.70119904e+01 1.02793846e+02 1.25237410e+02]\n",
            " [4.03772358e+01 3.12958435e-01 1.14263415e+02 1.28000000e+02]\n",
            " [1.02400000e+00 2.56000000e-01 1.07861333e+02 1.28000000e+02]\n",
            " [9.77454545e+00 7.69398907e+00 9.30909091e+01 1.28000000e+02]\n",
            " [1.72000000e+01 1.59248826e+01 8.00000000e+01 1.06967136e+02]\n",
            " [3.69777778e+01 5.17171717e-01 1.26862222e+02 1.26189899e+02]\n",
            " [4.21463415e+01 2.57662338e+01 8.11707317e+01 9.97402597e+01]\n",
            " [1.62000000e+01 1.54000000e+01 1.13400000e+02 1.23400000e+02]\n",
            " [3.45945946e+00 1.12164948e+01 1.27011583e+02 1.18762887e+02]\n",
            " [2.50181818e+01 4.14016173e+00 9.89090909e+01 1.14199461e+02]\n",
            " [2.13750000e+01 2.70000000e+01 1.01375000e+02 1.23333333e+02]\n",
            " [3.37920000e+01 1.70666667e+01 7.80800000e+01 8.39680000e+01]\n",
            " [5.04000000e+01 2.24373957e+01 1.23520000e+02 1.15392321e+02]\n",
            " [2.66666667e-01 2.31111111e+01 6.37333333e+01 1.12355556e+02]\n",
            " [5.60000000e+01 1.32413793e+01 1.10000000e+02 1.23586207e+02]\n",
            " [3.27441860e+01 9.78512397e+00 1.03739535e+02 1.16363636e+02]\n",
            " [3.68876081e+00 1.75686275e+00 1.28000000e+02 1.18211765e+02]\n",
            " [2.74618182e+01 8.39344262e+00 1.12640000e+02 1.25901639e+02]\n",
            " [1.66106870e+01 2.65284974e+00 1.13832061e+02 1.28000000e+02]\n",
            " [4.94208494e-01 3.28205128e+00 8.64864865e+01 1.28000000e+02]\n",
            " [1.65847176e+01 1.88790560e+00 1.09926910e+02 1.25734513e+02]\n",
            " [3.22000000e+01 3.55555556e-01 1.25400000e+02 1.17333333e+02]\n",
            " [2.27335907e+01 6.00412371e+01 7.06718147e+01 1.11505155e+02]\n",
            " [8.89575290e+00 3.95876289e+00 1.11196911e+02 1.16123711e+02]\n",
            " [1.82857143e+00 1.82857143e-01 1.11908571e+02 1.28000000e+02]\n",
            " [2.13333333e-01 5.00622222e+01 5.76000000e+01 1.21457778e+02]\n",
            " [1.53239437e+01 2.60000000e+01 1.05464789e+02 1.11200000e+02]\n",
            " [4.94208494e-01 6.59793814e-01 1.22069498e+02 1.28000000e+02]\n",
            " [1.06666667e+01 3.65714286e+00 1.19466667e+02 1.22514286e+02]\n",
            " [1.92000000e+01 1.06666667e+01 1.05386667e+02 1.25714286e+02]\n",
            " [2.76480000e+01 8.93023256e+00 1.28000000e+02 1.23534884e+02]\n",
            " [4.76862745e+01 1.71122995e+00 1.28000000e+02 1.15336898e+02]\n",
            " [2.22393822e+01 2.24329897e+01 7.95675676e+01 1.21402062e+02]\n",
            " [2.61930502e+01 1.78144330e+01 1.25528958e+02 1.14144330e+02]\n",
            " [5.69281768e+01 4.01568627e+01 1.03248619e+02 9.89579832e+01]\n",
            " [4.94208494e-01 6.59793814e-01 9.83474903e+01 1.21402062e+02]\n",
            " [1.66666667e+01 8.61345853e+00 7.84000000e+01 1.05564945e+02]\n",
            " [4.93333333e+00 6.40000000e+00 9.72000000e+01 1.08600000e+02]\n",
            " [4.64353312e+00 3.23004695e+01 8.88328076e+01 1.24845070e+02]\n",
            " [2.76756757e+01 3.56288660e+01 1.11691120e+02 9.89690722e+01]\n",
            " [5.81818182e-01 5.58951965e-01 8.37818182e+01 1.16820961e+02]\n",
            " [2.09801325e+01 1.41039501e+01 8.51920530e+01 1.23476091e+02]\n",
            " [5.81818182e-01 2.96296296e-01 8.45575758e+01 1.27407407e+02]\n",
            " [2.00000000e+01 3.54285714e+01 5.32000000e+01 9.25714286e+01]\n",
            " [6.84000000e+01 2.88571429e+01 1.14000000e+02 8.48571429e+01]\n",
            " [1.38378378e+01 1.38556701e+01 6.22702703e+01 1.19422680e+02]\n",
            " [4.20077220e+01 2.17731959e+01 1.16138996e+02 1.27340206e+02]\n",
            " [1.53962264e+01 3.56000000e+01 1.07169811e+02 1.26400000e+02]\n",
            " [8.80000000e+00 2.70422535e+01 1.15400000e+02 1.28000000e+02]\n",
            " [3.50000000e+00 2.72893401e+01 8.10000000e+01 1.28000000e+02]\n",
            " [2.00000000e-01 2.00000000e-01 1.28000000e+02 9.18000000e+01]\n",
            " [5.60000000e+00 1.91401869e+01 1.06000000e+02 1.20224299e+02]\n",
            " [2.56000000e-01 1.04223919e+01 8.78080000e+01 9.99898219e+01]\n",
            " [7.23478261e+00 2.39788918e+01 1.01843478e+02 1.12802111e+02]\n",
            " [2.60413793e+01 1.47126437e+00 9.53379310e+01 1.25793103e+02]\n",
            " [4.65454545e-01 6.99453552e-01 7.63345455e+01 1.28000000e+02]\n",
            " [4.87225806e+01 2.39483871e+01 1.23458065e+02 1.18090323e+02]\n",
            " [3.24000000e+01 1.16658228e+01 1.22200000e+02 1.28000000e+02]\n",
            " [2.75200000e+01 1.08528678e+01 1.01333333e+02 1.28000000e+02]\n",
            " [4.94208494e-01 1.31958763e+00 1.12185328e+02 1.28000000e+02]\n",
            " [4.55965665e+01 5.15555556e+01 1.15914163e+02 1.25037037e+02]\n",
            " [1.55826087e+01 1.46118721e+01 1.12973913e+02 1.02283105e+02]\n",
            " [1.77777778e-01 2.66666667e-01 1.28000000e+02 1.26933333e+02]\n",
            " [9.60000000e+00 1.13926702e+01 7.39200000e+01 1.11469459e+02]\n",
            " [1.68000000e+01 2.40150094e+00 8.03200000e+01 1.20315197e+02]\n",
            " [8.53333333e-01 1.53600000e+01 1.22453333e+02 1.16622222e+02]\n",
            " [2.09600000e+01 3.88013937e+01 1.24000000e+02 1.25547038e+02]\n",
            " [1.70666667e+01 2.05128205e+01 1.07200000e+02 1.06666667e+02]\n",
            " [2.83428571e+01 2.74089936e+00 9.92914286e+01 1.21970021e+02]\n",
            " [2.88000000e+01 1.10222222e+01 9.36000000e+01 1.09511111e+02]\n",
            " [2.01696970e+01 1.03504043e+00 9.87151515e+01 1.27309973e+02]\n",
            " [2.26000000e+01 8.07476636e+00 9.36000000e+01 1.28000000e+02]\n",
            " [3.67761194e+01 3.26808511e+01 8.54925373e+01 1.06212766e+02]\n",
            " [6.63880597e+01 5.24255319e+01 9.64776119e+01 9.87234043e+01]\n",
            " [1.42222222e+01 6.31466667e+01 1.12071111e+02 1.28000000e+02]\n",
            " [1.21135647e+00 1.50407674e+01 5.04731861e+01 9.82254197e+01]\n",
            " [5.53186120e+01 8.28776978e+00 1.13665615e+02 1.25851319e+02]\n",
            " [1.39305994e+01 2.99002625e+01 7.14700315e+01 1.26992126e+02]\n",
            " [3.09677419e+00 4.41379310e+00 1.23870968e+02 9.89950739e+01]\n",
            " [2.10881226e+01 1.85699482e+01 1.17701149e+02 1.16725389e+02]\n",
            " [1.53600000e+01 1.36533333e+00 1.07776000e+02 1.25952000e+02]\n",
            " [5.12000000e+00 1.48893058e+01 1.15840000e+02 8.47729831e+01]\n",
            " [6.75200000e+01 8.62138837e+01 8.86400000e+01 9.65403377e+01]\n",
            " [6.33600000e+01 9.41388368e+01 8.96000000e+01 1.13590994e+02]\n",
            " [2.32000000e+01 1.09333333e+01 1.05200000e+02 1.16266667e+02]\n",
            " [4.39124088e+01 4.38260870e+01 9.10948905e+01 1.02956522e+02]\n",
            " [6.63357664e+01 2.71304348e+01 9.95036496e+01 7.51304348e+01]\n",
            " [1.17333333e+01 1.09072682e+01 8.87466667e+01 1.20942356e+02]\n",
            " [2.25600000e+01 1.44090056e+00 7.55200000e+01 1.21275797e+02]\n",
            " [2.08979592e+00 1.20000000e+00 1.24342857e+02 1.26200000e+02]\n",
            " [3.71014493e+00 1.25901639e+01 7.28115942e+01 1.24502732e+02]\n",
            " [6.77101449e+01 9.09289617e+00 1.21971014e+02 1.02120219e+02]\n",
            " [7.92920354e+00 6.31390135e+00 1.26300885e+02 1.26852018e+02]\n",
            " [3.50888031e+01 2.96907216e+01 9.73590734e+01 1.12824742e+02]\n",
            " [2.96525097e+00 1.31958763e+00 1.18610039e+02 8.64329897e+01]\n",
            " [2.81698842e+01 1.38556701e+01 7.80849421e+01 1.21402062e+02]\n",
            " [5.53513514e+01 2.11134021e+01 9.83474903e+01 1.04247423e+02]\n",
            " [2.45333333e+01 1.08000000e+01 1.22666667e+02 1.09000000e+02]\n",
            " [3.22222222e+01 8.05031447e-01 9.40000000e+01 1.28000000e+02]\n",
            " [1.67563636e+01 1.39890710e+00 8.09890909e+01 1.20306011e+02]\n",
            " [3.20000000e+00 2.15851602e-01 1.23076923e+02 1.27784148e+02]\n",
            " [5.35040000e+01 2.69279539e+01 9.85600000e+01 6.86109510e+01]\n",
            " [1.18518519e-01 7.46666667e+00 1.04888889e+02 1.23496296e+02]\n",
            " [1.80224000e+01 2.83759036e+01 9.68704000e+01 1.01166265e+02]\n",
            " [6.26000000e+01 2.16888889e+01 1.22800000e+02 1.28000000e+02]\n",
            " [3.90610329e+00 2.00000000e-01 1.28000000e+02 9.72000000e+01]\n",
            " [2.38933333e+01 5.34755556e+01 6.14400000e+01 1.27431111e+02]\n",
            " [1.19466667e+01 1.53600000e+01 1.00693333e+02 1.03537778e+02]\n",
            " [2.66666667e-01 1.56444444e+01 8.18666667e+01 1.12355556e+02]\n",
            " [2.91446154e+01 1.71073986e+01 1.01809231e+02 1.05699284e+02]\n",
            " [1.98000000e+01 2.40375587e+00 1.21000000e+02 1.21389671e+02]\n",
            " [3.11428571e+01 1.33602694e+01 8.77142857e+01 1.28000000e+02]\n",
            " [3.72363636e+01 4.33661202e+01 8.70400000e+01 1.18207650e+02]\n",
            " [4.94208494e-01 6.59793814e-01 5.83166023e+01 1.00288660e+02]\n",
            " [4.46000000e+01 1.86291080e+01 9.94000000e+01 9.22441315e+01]\n",
            " [9.06000000e+01 1.23192488e+01 1.28000000e+02 1.27098592e+02]\n",
            " [2.87219512e+01 3.28311688e+01 8.46048780e+01 1.09714286e+02]\n",
            " [4.22400000e+01 1.04951768e+01 1.26976000e+02 1.21414791e+02]\n",
            " [4.70109091e+01 6.92783505e+00 1.19854545e+02 1.27670103e+02]\n",
            " [1.73668342e+01 5.56521739e+00 1.24783920e+02 1.15351779e+02]\n",
            " [6.25867508e+00 1.63744150e+01 6.56151420e+01 1.28000000e+02]\n",
            " [8.47058824e+00 1.17621622e+01 1.05411765e+02 1.16237838e+02]\n",
            " [1.06666667e+01 7.24040404e+00 7.62181818e+01 8.09373737e+01]\n",
            " [2.01892744e+01 2.56000000e+01 9.65047319e+01 9.52089888e+01]\n",
            " [2.89032258e+01 2.06451613e+00 9.37290323e+01 1.27311828e+02]\n",
            " [4.44745763e+01 1.25607477e+01 1.01423729e+02 1.17831776e+02]\n",
            " [5.96610169e+00 3.28971963e+01 4.33898305e+01 8.67289720e+01]\n",
            " [3.80878049e+01 1.96069364e+01 8.30439024e+01 1.11722543e+02]\n",
            " [7.30666667e+01 2.22222222e+00 1.27200000e+02 1.15555556e+02]\n",
            " [8.19200000e+00 6.04160000e+01 4.45440000e+01 1.07861333e+02]\n",
            " [7.91040000e+01 5.87093333e+01 1.09568000e+02 1.07520000e+02]\n",
            " [5.33745174e+01 6.59793814e-01 1.27505792e+02 1.28000000e+02]\n",
            " [3.75338346e+01 1.68421053e+01 8.75789474e+01 1.19242105e+02]\n",
            " [1.89235880e+01 1.82206406e+00 1.26086379e+02 1.28000000e+02]\n",
            " [2.55000000e+01 1.55939086e+01 9.90000000e+01 1.24751269e+02]\n",
            " [4.95616000e+01 1.07177033e+01 1.07110400e+02 8.08421053e+01]\n",
            " [7.96444444e+00 5.68888889e-01 1.20604444e+02 7.50933333e+01]\n",
            " [4.03200000e+01 1.72631579e+01 7.25333333e+01 1.04842105e+02]\n",
            " [6.00000000e+00 4.94208494e-01 1.18000000e+02 1.24540541e+02]\n",
            " [5.00000000e-01 1.94923858e+00 1.03000000e+02 1.24101523e+02]\n",
            " [2.00000000e-01 2.66666667e-01 7.68000000e+01 1.16266667e+02]\n",
            " [1.60717489e+01 8.49557522e+00 1.26852018e+02 1.22336283e+02]\n",
            " [3.28000000e+01 9.60000000e+00 9.01333333e+01 1.00977778e+02]\n",
            " [5.03370787e+00 3.16607774e+00 1.25123596e+02 8.95547703e+01]\n",
            " [2.52394366e+01 1.15706215e+01 1.23492958e+02 1.20045198e+02]\n",
            " [2.84000000e+01 4.26666667e+00 1.21600000e+02 1.24266667e+02]\n",
            " [6.17142857e+01 1.19466667e+01 1.02857143e+02 6.54222222e+01]\n",
            " [3.85482625e+01 3.56288660e+01 7.56138996e+01 8.90721649e+01]\n",
            " [5.04000000e+01 2.70222222e+01 9.32000000e+01 1.19111111e+02]\n",
            " [1.90836364e+01 4.19672131e+01 1.03796364e+02 1.08415301e+02]]\n"
          ],
          "name": "stdout"
        }
      ]
    },
    {
      "cell_type": "code",
      "metadata": {
        "id": "qaETnqnZG8mM",
        "colab_type": "code",
        "colab": {
          "base_uri": "https://localhost:8080/",
          "height": 35
        },
        "outputId": "8af9206f-011f-48d6-a2aa-dbf375aae491"
      },
      "source": [
        "len(coords)"
      ],
      "execution_count": null,
      "outputs": [
        {
          "output_type": "execute_result",
          "data": {
            "text/plain": [
              "173"
            ]
          },
          "metadata": {
            "tags": []
          },
          "execution_count": 19
        }
      ]
    },
    {
      "cell_type": "markdown",
      "metadata": {
        "colab_type": "text",
        "id": "Z9iZWEpKWGi2"
      },
      "source": [
        "### Write a for loop which can load all the training images into a variable 'batch_images' using the paths from the 'paths' variable\n",
        "<u>Note:</u> Convert the image to RGB scale as the MobileNet accepts 3 channels as inputs   "
      ]
    },
    {
      "cell_type": "code",
      "metadata": {
        "id": "roYSJp1WJL6W",
        "colab_type": "code",
        "colab": {
          "base_uri": "https://localhost:8080/",
          "height": 35
        },
        "outputId": "01252ae3-496d-40fe-ab29-bd98df5b3550"
      },
      "source": [
        "pwd"
      ],
      "execution_count": null,
      "outputs": [
        {
          "output_type": "execute_result",
          "data": {
            "application/vnd.google.colaboratory.intrinsic+json": {
              "type": "string"
            },
            "text/plain": [
              "'/content/drive/My Drive/LAB'"
            ]
          },
          "metadata": {
            "tags": []
          },
          "execution_count": 22
        }
      ]
    },
    {
      "cell_type": "code",
      "metadata": {
        "id": "iILWTfRoG8CS",
        "colab_type": "code",
        "colab": {}
      },
      "source": [
        "from PIL import Image\n",
        "batch_images=np.zeros((len(paths),IMAGE_SIZE,IMAGE_SIZE,3), dtype=np.float32)\n",
        "\n",
        "for i,f in enumerate(paths):\n",
        "  img=Image.open('/content/drive/My Drive/LAB/images/images/'+ f)\n",
        "  img=img.resize((IMAGE_SIZE,IMAGE_SIZE))\n",
        "  img=img.convert(\"RGB\")\n",
        "  batch_images[i]=preprocess_input(np.array(img,dtype=np.float32))\n",
        "  \n",
        "  "
      ],
      "execution_count": null,
      "outputs": []
    },
    {
      "cell_type": "markdown",
      "metadata": {
        "colab_type": "text",
        "id": "C9KU6pUTWGi9"
      },
      "source": [
        "### Import MobileNet and load MobileNet into a variable named 'model' which takes input shape of 128 * 128 * 3. Freeze all the layers. Add convolution and reshape layers at the end to ensure the output is 4 coordinates"
      ]
    },
    {
      "cell_type": "code",
      "metadata": {
        "id": "4c9rX0BrNws7",
        "colab_type": "code",
        "colab": {}
      },
      "source": [
        "ALPHA=1.0\n",
        "from keras import Model"
      ],
      "execution_count": null,
      "outputs": []
    },
    {
      "cell_type": "code",
      "metadata": {
        "colab_type": "code",
        "id": "nosEtf1lWGi-",
        "colab": {}
      },
      "source": [
        "model = MobileNet(input_shape=(IMAGE_SIZE, IMAGE_SIZE, 3), include_top=False, alpha=ALPHA) # Load pre-trained mobilenet\n",
        "# Do not include classification (top) layer\n",
        "\n",
        "# to freeze layers, except the new top layer, of course, which will be added below\n",
        "for layer in model.layers:\n",
        "    layer.trainable = False\n",
        "\n",
        "# Add new top layer which is a conv layer of the same size as the previous layer so that only 4 coords of BBox can be output\n",
        "x = model.layers[-1].output\n",
        "x = Conv2D(4, kernel_size=4, name=\"coords\")(x)\n",
        "# In the line above kernel size should be 3 for img size 96, 4 for img size 128, 5 for img size 160 etc.\n",
        "x = Reshape((4,))(x) # These are the 4 predicted coordinates of one BBox\n",
        "\n",
        "model = Model(inputs=model.input, outputs=x)"
      ],
      "execution_count": null,
      "outputs": []
    },
    {
      "cell_type": "markdown",
      "metadata": {
        "colab_type": "text",
        "id": "nsQSHWgpWGjC"
      },
      "source": [
        "### Define a custom loss function IoU which calculates Intersection Over Union"
      ]
    },
    {
      "cell_type": "code",
      "metadata": {
        "colab_type": "code",
        "id": "7Ig_Gsn-WGjD",
        "colab": {}
      },
      "source": [
        "def loss(gt,pred):\n",
        "    intersections = 0\n",
        "    unions = 0\n",
        "    diff_width = np.minimum(gt[:,0] + gt[:,2], pred[:,0] + pred[:,2]) - np.maximum(gt[:,0], pred[:,0])\n",
        "    diff_height = np.minimum(gt[:,1] + gt[:,3], pred[:,1] + pred[:,3]) - np.maximum(gt[:,1], pred[:,1])\n",
        "    intersection = diff_width * diff_height\n",
        "    \n",
        "    # Compute union\n",
        "    area_gt = gt[:,2] * gt[:,3]\n",
        "    area_pred = pred[:,2] * pred[:,3]\n",
        "    union = area_gt + area_pred - intersection\n",
        "\n",
        "#     Compute intersection and union over multiple boxes\n",
        "    for j, _ in enumerate(union):\n",
        "        if union[j] > 0 and intersection[j] > 0 and union[j] >= intersection[j]:\n",
        "            intersections += intersection[j]\n",
        "            unions += union[j]\n",
        "\n",
        "    # Compute IOU. Use epsilon to prevent division by zero\n",
        "    iou = np.round(intersections / (unions + epsilon()), 4)\n",
        "    iou = iou.astype(np.float32)\n",
        "    return iou\n",
        "\n",
        "def IoU(y_true, y_pred):\n",
        "    iou = tf.py_function(loss, [y_true, y_pred], tf.float32)\n",
        "    return iou"
      ],
      "execution_count": null,
      "outputs": []
    },
    {
      "cell_type": "markdown",
      "metadata": {
        "colab_type": "text",
        "id": "2Zs7VcSVWGjF"
      },
      "source": [
        "### Write model.compile function & model.fit function with: <br>\n",
        "1. Optimizer = Adam, Loss = 'mse' and metrics = IoU\n",
        "2. Epochs = 30, batch_size = 32, verbose = 1"
      ]
    },
    {
      "cell_type": "code",
      "metadata": {
        "id": "QwGVZ5vXS4LL",
        "colab_type": "code",
        "colab": {}
      },
      "source": [
        "PATIENCE=10"
      ],
      "execution_count": null,
      "outputs": []
    },
    {
      "cell_type": "code",
      "metadata": {
        "id": "3Sp63nk0WmZu",
        "colab_type": "code",
        "colab": {}
      },
      "source": [
        "import tensorflow.compat.v1 as tf\n"
      ],
      "execution_count": null,
      "outputs": []
    },
    {
      "cell_type": "code",
      "metadata": {
        "colab_type": "code",
        "id": "f35dLEJlWGjG",
        "colab": {
          "base_uri": "https://localhost:8080/",
          "height": 399
        },
        "outputId": "49bac064-a8d4-4ee1-face-d27c0502f2b2"
      },
      "source": [
        "gt=coords\n",
        "\n",
        "model.compile(optimizer='Adam', loss='mse', metrics=[IoU]) # Regression loss is MSE\n",
        "\n",
        "checkpoint = ModelCheckpoint(\"model-{val_iou:.2f}.h5\", verbose=1, save_best_only=True,\n",
        "                             save_weights_only=True, mode=\"max\", period=1) # Checkpoint best validation model\n",
        "stop = EarlyStopping(monitor=\"val_iou\", patience=PATIENCE, mode=\"max\") # Stop early, if the validation error deteriorates\n",
        "\n",
        "reduce_lr = ReduceLROnPlateau(monitor=\"val_iou\", factor=0.2, patience=10, min_lr=1e-7, verbose=1, mode=\"max\")\n",
        "# Reduce learning rate if Validation IOU does not improve\n",
        "\n",
        "model.fit(batch_images,gt,\n",
        "            epochs=10,batch_size = 32,\n",
        "            verbose=1)"
      ],
      "execution_count": null,
      "outputs": [
        {
          "output_type": "stream",
          "text": [
            "WARNING:tensorflow:`period` argument is deprecated. Please use `save_freq` to specify the frequency in number of batches seen.\n",
            "Epoch 1/10\n",
            "6/6 [==============================] - 2s 310ms/step - loss: 3982.6614 - IoU: 0.0870\n",
            "Epoch 2/10\n",
            "6/6 [==============================] - 2s 314ms/step - loss: 751.0896 - IoU: 0.4300\n",
            "Epoch 3/10\n",
            "6/6 [==============================] - 2s 313ms/step - loss: 482.5220 - IoU: 0.5686\n",
            "Epoch 4/10\n",
            "6/6 [==============================] - 2s 310ms/step - loss: 608.5266 - IoU: 0.5424\n",
            "Epoch 5/10\n",
            "6/6 [==============================] - 2s 314ms/step - loss: 326.8789 - IoU: 0.6255\n",
            "Epoch 6/10\n",
            "6/6 [==============================] - 2s 312ms/step - loss: 198.7577 - IoU: 0.6661\n",
            "Epoch 7/10\n",
            "6/6 [==============================] - 2s 314ms/step - loss: 203.1104 - IoU: 0.6354\n",
            "Epoch 8/10\n",
            "6/6 [==============================] - 2s 316ms/step - loss: 157.8246 - IoU: 0.7072\n",
            "Epoch 9/10\n",
            "6/6 [==============================] - 2s 313ms/step - loss: 124.7745 - IoU: 0.7413\n",
            "Epoch 10/10\n",
            "6/6 [==============================] - 2s 310ms/step - loss: 115.3731 - IoU: 0.7513\n"
          ],
          "name": "stdout"
        },
        {
          "output_type": "execute_result",
          "data": {
            "text/plain": [
              "<tensorflow.python.keras.callbacks.History at 0x7f6794c65358>"
            ]
          },
          "metadata": {
            "tags": []
          },
          "execution_count": 57
        }
      ]
    },
    {
      "cell_type": "markdown",
      "metadata": {
        "colab_type": "text",
        "id": "II1itmqiWGjK"
      },
      "source": [
        "### Pick a test image from the given data"
      ]
    },
    {
      "cell_type": "code",
      "metadata": {
        "colab_type": "code",
        "id": "0ULErYeSWGjK",
        "colab": {}
      },
      "source": [
        "import cv2\n",
        "filename = '/content/drive/My Drive/LAB/images/raccoon-106.jpg'\n",
        "unscaled = cv2.imread(filename) # Original image for display"
      ],
      "execution_count": null,
      "outputs": []
    },
    {
      "cell_type": "markdown",
      "metadata": {
        "colab_type": "text",
        "id": "h99SC9MjWGjO"
      },
      "source": [
        "### Resize the image to 128 * 128 and preprocess the image for the MobileNet model"
      ]
    },
    {
      "cell_type": "code",
      "metadata": {
        "colab_type": "code",
        "id": "J3jbKm7_WGjP",
        "colab": {}
      },
      "source": [
        "image_height, image_width, _ = unscaled.shape\n",
        "image = cv2.resize(unscaled, (IMAGE_SIZE, IMAGE_SIZE)) # Rescaled image to run the network\n",
        "feat_scaled = preprocess_input(np.array(image, dtype=np.float32))"
      ],
      "execution_count": null,
      "outputs": []
    },
    {
      "cell_type": "code",
      "metadata": {
        "id": "-7oMC-u6ZgrI",
        "colab_type": "code",
        "colab": {}
      },
      "source": [
        ""
      ],
      "execution_count": null,
      "outputs": []
    },
    {
      "cell_type": "markdown",
      "metadata": {
        "colab_type": "text",
        "id": "aGK4IjdaWGjR"
      },
      "source": [
        "### Predict the coordinates of the bounding box for the given test image"
      ]
    },
    {
      "cell_type": "code",
      "metadata": {
        "colab_type": "code",
        "id": "abnXH5F7WGjS",
        "colab": {}
      },
      "source": [
        "region = model.predict(x=np.array([feat_scaled]))[0]"
      ],
      "execution_count": null,
      "outputs": []
    },
    {
      "cell_type": "markdown",
      "metadata": {
        "colab_type": "text",
        "id": "CXbjVdLWWGjW"
      },
      "source": [
        "### Plot the test image using .imshow and draw a boundary box around the image with the coordinates obtained from the model"
      ]
    },
    {
      "cell_type": "code",
      "metadata": {
        "colab_type": "code",
        "id": "t4Ah05MlWGjY",
        "colab": {
          "base_uri": "https://localhost:8080/",
          "height": 269
        },
        "outputId": "488359a8-3db1-4ad8-d118-74d4b394db6e"
      },
      "source": [
        "x0 = int(region[0] * image_width / IMAGE_SIZE) # Scale the BBox\n",
        "y0 = int(region[1] * image_height / IMAGE_SIZE)\n",
        "\n",
        "x1 = int((region[2]) * image_width / IMAGE_SIZE)\n",
        "y1 = int((region[3]) * image_height / IMAGE_SIZE)\n",
        "\n",
        "\n",
        "import matplotlib.pyplot as plt\n",
        "import matplotlib.patches as patches\n",
        "from PIL import Image\n",
        "import numpy as np\n",
        "\n",
        "\n",
        "# Create figure and axes\n",
        "fig,ax = plt.subplots(1)\n",
        "\n",
        "# Display the image\n",
        "ax.imshow(unscaled)\n",
        "\n",
        "# Create a Rectangle patch\n",
        "rect = patches.Rectangle((x0, y0), (x1 - x0) , (y1 - y0) , linewidth=2, edgecolor='r', facecolor='none')\n",
        "\n",
        "# Add the patch to the Axes\n",
        "ax.add_patch(rect)\n",
        "\n",
        "plt.show()"
      ],
      "execution_count": null,
      "outputs": [
        {
          "output_type": "display_data",
          "data": {
            "image/png": "[encoded data removed]",
            "text/plain": [
              "<Figure size 432x288 with 1 Axes>"
            ]
          },
          "metadata": {
            "tags": [],
            "needs_background": "light"
          }
        }
      ]
    },
    {
      "cell_type": "code",
      "metadata": {
        "colab_type": "code",
        "id": "FHbIWp-D7Jyn",
        "colab": {}
      },
      "source": [
        ""
      ],
      "execution_count": null,
      "outputs": []
    }
  ]
}