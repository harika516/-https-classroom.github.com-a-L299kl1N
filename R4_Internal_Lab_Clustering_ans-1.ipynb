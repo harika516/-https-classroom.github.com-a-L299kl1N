{
 "cells": [
  {
   "cell_type": "markdown",
   "metadata": {
    "colab_type": "text",
    "id": "zfsiaKcDho8W"
   },
   "source": [
    "### The data set has information about features of silhouette extracted from the images of different cars\n",
    "\n",
    "Four \"Corgie\" model vehicles were used for the experiment: a double decker bus, Cheverolet van, Saab 9000 and an Opel Manta 400 cars. This particular combination of vehicles was chosen with the expectation that the bus, van and either one of the cars would be readily distinguishable, but it would be more difficult to distinguish between the cars.\n",
    "\n"
   ]
  },
  {
   "cell_type": "markdown",
   "metadata": {
    "colab_type": "text",
    "id": "kVtZqLhGho8c"
   },
   "source": [
    "### 1. Read the dataset using function .dropna() - to avoid dealing with NAs as of now"
   ]
  },
  {
   "cell_type": "code",
   "execution_count": 6,
   "metadata": {
    "colab": {},
    "colab_type": "code",
    "id": "VbKTspg4ho8g"
   },
   "outputs": [],
   "source": [
    "import numpy as np\n",
    "import pandas as pd\n",
    "import seaborn as sns\n",
    "import matplotlib.pyplot as plt"
   ]
  },
  {
   "cell_type": "code",
   "execution_count": 7,
   "metadata": {},
   "outputs": [],
   "source": [
    "df=pd.read_csv(\"vehicle.csv\").dropna()"
   ]
  },
  {
   "cell_type": "code",
   "execution_count": 8,
   "metadata": {},
   "outputs": [
    {
     "data": {
      "text/html": [
       "<div>\n",
       "<style scoped>\n",
       "    .dataframe tbody tr th:only-of-type {\n",
       "        vertical-align: middle;\n",
       "    }\n",
       "\n",
       "    .dataframe tbody tr th {\n",
       "        vertical-align: top;\n",
       "    }\n",
       "\n",
       "    .dataframe thead th {\n",
       "        text-align: right;\n",
       "    }\n",
       "</style>\n",
       "<table border=\"1\" class=\"dataframe\">\n",
       "  <thead>\n",
       "    <tr style=\"text-align: right;\">\n",
       "      <th></th>\n",
       "      <th>compactness</th>\n",
       "      <th>circularity</th>\n",
       "      <th>distance_circularity</th>\n",
       "      <th>radius_ratio</th>\n",
       "      <th>pr.axis_aspect_ratio</th>\n",
       "      <th>max.length_aspect_ratio</th>\n",
       "      <th>scatter_ratio</th>\n",
       "      <th>elongatedness</th>\n",
       "      <th>pr.axis_rectangularity</th>\n",
       "      <th>max.length_rectangularity</th>\n",
       "      <th>scaled_variance</th>\n",
       "      <th>scaled_variance.1</th>\n",
       "      <th>scaled_radius_of_gyration</th>\n",
       "      <th>scaled_radius_of_gyration.1</th>\n",
       "      <th>skewness_about</th>\n",
       "      <th>skewness_about.1</th>\n",
       "      <th>skewness_about.2</th>\n",
       "      <th>hollows_ratio</th>\n",
       "      <th>class</th>\n",
       "    </tr>\n",
       "  </thead>\n",
       "  <tbody>\n",
       "    <tr>\n",
       "      <th>0</th>\n",
       "      <td>95</td>\n",
       "      <td>48.0</td>\n",
       "      <td>83.0</td>\n",
       "      <td>178.0</td>\n",
       "      <td>72.0</td>\n",
       "      <td>10</td>\n",
       "      <td>162.0</td>\n",
       "      <td>42.0</td>\n",
       "      <td>20.0</td>\n",
       "      <td>159</td>\n",
       "      <td>176.0</td>\n",
       "      <td>379.0</td>\n",
       "      <td>184.0</td>\n",
       "      <td>70.0</td>\n",
       "      <td>6.0</td>\n",
       "      <td>16.0</td>\n",
       "      <td>187.0</td>\n",
       "      <td>197</td>\n",
       "      <td>van</td>\n",
       "    </tr>\n",
       "    <tr>\n",
       "      <th>1</th>\n",
       "      <td>91</td>\n",
       "      <td>41.0</td>\n",
       "      <td>84.0</td>\n",
       "      <td>141.0</td>\n",
       "      <td>57.0</td>\n",
       "      <td>9</td>\n",
       "      <td>149.0</td>\n",
       "      <td>45.0</td>\n",
       "      <td>19.0</td>\n",
       "      <td>143</td>\n",
       "      <td>170.0</td>\n",
       "      <td>330.0</td>\n",
       "      <td>158.0</td>\n",
       "      <td>72.0</td>\n",
       "      <td>9.0</td>\n",
       "      <td>14.0</td>\n",
       "      <td>189.0</td>\n",
       "      <td>199</td>\n",
       "      <td>van</td>\n",
       "    </tr>\n",
       "    <tr>\n",
       "      <th>2</th>\n",
       "      <td>104</td>\n",
       "      <td>50.0</td>\n",
       "      <td>106.0</td>\n",
       "      <td>209.0</td>\n",
       "      <td>66.0</td>\n",
       "      <td>10</td>\n",
       "      <td>207.0</td>\n",
       "      <td>32.0</td>\n",
       "      <td>23.0</td>\n",
       "      <td>158</td>\n",
       "      <td>223.0</td>\n",
       "      <td>635.0</td>\n",
       "      <td>220.0</td>\n",
       "      <td>73.0</td>\n",
       "      <td>14.0</td>\n",
       "      <td>9.0</td>\n",
       "      <td>188.0</td>\n",
       "      <td>196</td>\n",
       "      <td>car</td>\n",
       "    </tr>\n",
       "    <tr>\n",
       "      <th>3</th>\n",
       "      <td>93</td>\n",
       "      <td>41.0</td>\n",
       "      <td>82.0</td>\n",
       "      <td>159.0</td>\n",
       "      <td>63.0</td>\n",
       "      <td>9</td>\n",
       "      <td>144.0</td>\n",
       "      <td>46.0</td>\n",
       "      <td>19.0</td>\n",
       "      <td>143</td>\n",
       "      <td>160.0</td>\n",
       "      <td>309.0</td>\n",
       "      <td>127.0</td>\n",
       "      <td>63.0</td>\n",
       "      <td>6.0</td>\n",
       "      <td>10.0</td>\n",
       "      <td>199.0</td>\n",
       "      <td>207</td>\n",
       "      <td>van</td>\n",
       "    </tr>\n",
       "    <tr>\n",
       "      <th>4</th>\n",
       "      <td>85</td>\n",
       "      <td>44.0</td>\n",
       "      <td>70.0</td>\n",
       "      <td>205.0</td>\n",
       "      <td>103.0</td>\n",
       "      <td>52</td>\n",
       "      <td>149.0</td>\n",
       "      <td>45.0</td>\n",
       "      <td>19.0</td>\n",
       "      <td>144</td>\n",
       "      <td>241.0</td>\n",
       "      <td>325.0</td>\n",
       "      <td>188.0</td>\n",
       "      <td>127.0</td>\n",
       "      <td>9.0</td>\n",
       "      <td>11.0</td>\n",
       "      <td>180.0</td>\n",
       "      <td>183</td>\n",
       "      <td>bus</td>\n",
       "    </tr>\n",
       "    <tr>\n",
       "      <th>6</th>\n",
       "      <td>97</td>\n",
       "      <td>43.0</td>\n",
       "      <td>73.0</td>\n",
       "      <td>173.0</td>\n",
       "      <td>65.0</td>\n",
       "      <td>6</td>\n",
       "      <td>153.0</td>\n",
       "      <td>42.0</td>\n",
       "      <td>19.0</td>\n",
       "      <td>143</td>\n",
       "      <td>176.0</td>\n",
       "      <td>361.0</td>\n",
       "      <td>172.0</td>\n",
       "      <td>66.0</td>\n",
       "      <td>13.0</td>\n",
       "      <td>1.0</td>\n",
       "      <td>200.0</td>\n",
       "      <td>204</td>\n",
       "      <td>bus</td>\n",
       "    </tr>\n",
       "    <tr>\n",
       "      <th>7</th>\n",
       "      <td>90</td>\n",
       "      <td>43.0</td>\n",
       "      <td>66.0</td>\n",
       "      <td>157.0</td>\n",
       "      <td>65.0</td>\n",
       "      <td>9</td>\n",
       "      <td>137.0</td>\n",
       "      <td>48.0</td>\n",
       "      <td>18.0</td>\n",
       "      <td>146</td>\n",
       "      <td>162.0</td>\n",
       "      <td>281.0</td>\n",
       "      <td>164.0</td>\n",
       "      <td>67.0</td>\n",
       "      <td>3.0</td>\n",
       "      <td>3.0</td>\n",
       "      <td>193.0</td>\n",
       "      <td>202</td>\n",
       "      <td>van</td>\n",
       "    </tr>\n",
       "    <tr>\n",
       "      <th>8</th>\n",
       "      <td>86</td>\n",
       "      <td>34.0</td>\n",
       "      <td>62.0</td>\n",
       "      <td>140.0</td>\n",
       "      <td>61.0</td>\n",
       "      <td>7</td>\n",
       "      <td>122.0</td>\n",
       "      <td>54.0</td>\n",
       "      <td>17.0</td>\n",
       "      <td>127</td>\n",
       "      <td>141.0</td>\n",
       "      <td>223.0</td>\n",
       "      <td>112.0</td>\n",
       "      <td>64.0</td>\n",
       "      <td>2.0</td>\n",
       "      <td>14.0</td>\n",
       "      <td>200.0</td>\n",
       "      <td>208</td>\n",
       "      <td>van</td>\n",
       "    </tr>\n",
       "    <tr>\n",
       "      <th>10</th>\n",
       "      <td>86</td>\n",
       "      <td>36.0</td>\n",
       "      <td>70.0</td>\n",
       "      <td>143.0</td>\n",
       "      <td>61.0</td>\n",
       "      <td>9</td>\n",
       "      <td>133.0</td>\n",
       "      <td>50.0</td>\n",
       "      <td>18.0</td>\n",
       "      <td>130</td>\n",
       "      <td>153.0</td>\n",
       "      <td>266.0</td>\n",
       "      <td>127.0</td>\n",
       "      <td>66.0</td>\n",
       "      <td>2.0</td>\n",
       "      <td>10.0</td>\n",
       "      <td>194.0</td>\n",
       "      <td>202</td>\n",
       "      <td>van</td>\n",
       "    </tr>\n",
       "    <tr>\n",
       "      <th>11</th>\n",
       "      <td>90</td>\n",
       "      <td>34.0</td>\n",
       "      <td>66.0</td>\n",
       "      <td>136.0</td>\n",
       "      <td>55.0</td>\n",
       "      <td>6</td>\n",
       "      <td>123.0</td>\n",
       "      <td>54.0</td>\n",
       "      <td>17.0</td>\n",
       "      <td>118</td>\n",
       "      <td>148.0</td>\n",
       "      <td>224.0</td>\n",
       "      <td>118.0</td>\n",
       "      <td>65.0</td>\n",
       "      <td>5.0</td>\n",
       "      <td>26.0</td>\n",
       "      <td>196.0</td>\n",
       "      <td>202</td>\n",
       "      <td>car</td>\n",
       "    </tr>\n",
       "  </tbody>\n",
       "</table>\n",
       "</div>"
      ],
      "text/plain": [
       "    compactness  circularity  distance_circularity  radius_ratio  \\\n",
       "0            95         48.0                  83.0         178.0   \n",
       "1            91         41.0                  84.0         141.0   \n",
       "2           104         50.0                 106.0         209.0   \n",
       "3            93         41.0                  82.0         159.0   \n",
       "4            85         44.0                  70.0         205.0   \n",
       "6            97         43.0                  73.0         173.0   \n",
       "7            90         43.0                  66.0         157.0   \n",
       "8            86         34.0                  62.0         140.0   \n",
       "10           86         36.0                  70.0         143.0   \n",
       "11           90         34.0                  66.0         136.0   \n",
       "\n",
       "    pr.axis_aspect_ratio  max.length_aspect_ratio  scatter_ratio  \\\n",
       "0                   72.0                       10          162.0   \n",
       "1                   57.0                        9          149.0   \n",
       "2                   66.0                       10          207.0   \n",
       "3                   63.0                        9          144.0   \n",
       "4                  103.0                       52          149.0   \n",
       "6                   65.0                        6          153.0   \n",
       "7                   65.0                        9          137.0   \n",
       "8                   61.0                        7          122.0   \n",
       "10                  61.0                        9          133.0   \n",
       "11                  55.0                        6          123.0   \n",
       "\n",
       "    elongatedness  pr.axis_rectangularity  max.length_rectangularity  \\\n",
       "0            42.0                    20.0                        159   \n",
       "1            45.0                    19.0                        143   \n",
       "2            32.0                    23.0                        158   \n",
       "3            46.0                    19.0                        143   \n",
       "4            45.0                    19.0                        144   \n",
       "6            42.0                    19.0                        143   \n",
       "7            48.0                    18.0                        146   \n",
       "8            54.0                    17.0                        127   \n",
       "10           50.0                    18.0                        130   \n",
       "11           54.0                    17.0                        118   \n",
       "\n",
       "    scaled_variance  scaled_variance.1  scaled_radius_of_gyration  \\\n",
       "0             176.0              379.0                      184.0   \n",
       "1             170.0              330.0                      158.0   \n",
       "2             223.0              635.0                      220.0   \n",
       "3             160.0              309.0                      127.0   \n",
       "4             241.0              325.0                      188.0   \n",
       "6             176.0              361.0                      172.0   \n",
       "7             162.0              281.0                      164.0   \n",
       "8             141.0              223.0                      112.0   \n",
       "10            153.0              266.0                      127.0   \n",
       "11            148.0              224.0                      118.0   \n",
       "\n",
       "    scaled_radius_of_gyration.1  skewness_about  skewness_about.1  \\\n",
       "0                          70.0             6.0              16.0   \n",
       "1                          72.0             9.0              14.0   \n",
       "2                          73.0            14.0               9.0   \n",
       "3                          63.0             6.0              10.0   \n",
       "4                         127.0             9.0              11.0   \n",
       "6                          66.0            13.0               1.0   \n",
       "7                          67.0             3.0               3.0   \n",
       "8                          64.0             2.0              14.0   \n",
       "10                         66.0             2.0              10.0   \n",
       "11                         65.0             5.0              26.0   \n",
       "\n",
       "    skewness_about.2  hollows_ratio class  \n",
       "0              187.0            197   van  \n",
       "1              189.0            199   van  \n",
       "2              188.0            196   car  \n",
       "3              199.0            207   van  \n",
       "4              180.0            183   bus  \n",
       "6              200.0            204   bus  \n",
       "7              193.0            202   van  \n",
       "8              200.0            208   van  \n",
       "10             194.0            202   van  \n",
       "11             196.0            202   car  "
      ]
     },
     "execution_count": 8,
     "metadata": {},
     "output_type": "execute_result"
    }
   ],
   "source": [
    "df.head(10)"
   ]
  },
  {
   "cell_type": "code",
   "execution_count": 9,
   "metadata": {},
   "outputs": [
    {
     "name": "stdout",
     "output_type": "stream",
     "text": [
      "<class 'pandas.core.frame.DataFrame'>\n",
      "Int64Index: 813 entries, 0 to 845\n",
      "Data columns (total 19 columns):\n",
      "compactness                    813 non-null int64\n",
      "circularity                    813 non-null float64\n",
      "distance_circularity           813 non-null float64\n",
      "radius_ratio                   813 non-null float64\n",
      "pr.axis_aspect_ratio           813 non-null float64\n",
      "max.length_aspect_ratio        813 non-null int64\n",
      "scatter_ratio                  813 non-null float64\n",
      "elongatedness                  813 non-null float64\n",
      "pr.axis_rectangularity         813 non-null float64\n",
      "max.length_rectangularity      813 non-null int64\n",
      "scaled_variance                813 non-null float64\n",
      "scaled_variance.1              813 non-null float64\n",
      "scaled_radius_of_gyration      813 non-null float64\n",
      "scaled_radius_of_gyration.1    813 non-null float64\n",
      "skewness_about                 813 non-null float64\n",
      "skewness_about.1               813 non-null float64\n",
      "skewness_about.2               813 non-null float64\n",
      "hollows_ratio                  813 non-null int64\n",
      "class                          813 non-null object\n",
      "dtypes: float64(14), int64(4), object(1)\n",
      "memory usage: 127.0+ KB\n"
     ]
    }
   ],
   "source": [
    "df.info()"
   ]
  },
  {
   "cell_type": "code",
   "execution_count": 10,
   "metadata": {},
   "outputs": [
    {
     "data": {
      "text/html": [
       "<div>\n",
       "<style scoped>\n",
       "    .dataframe tbody tr th:only-of-type {\n",
       "        vertical-align: middle;\n",
       "    }\n",
       "\n",
       "    .dataframe tbody tr th {\n",
       "        vertical-align: top;\n",
       "    }\n",
       "\n",
       "    .dataframe thead th {\n",
       "        text-align: right;\n",
       "    }\n",
       "</style>\n",
       "<table border=\"1\" class=\"dataframe\">\n",
       "  <thead>\n",
       "    <tr style=\"text-align: right;\">\n",
       "      <th></th>\n",
       "      <th>compactness</th>\n",
       "      <th>circularity</th>\n",
       "      <th>distance_circularity</th>\n",
       "      <th>radius_ratio</th>\n",
       "      <th>pr.axis_aspect_ratio</th>\n",
       "      <th>max.length_aspect_ratio</th>\n",
       "      <th>scatter_ratio</th>\n",
       "      <th>elongatedness</th>\n",
       "      <th>pr.axis_rectangularity</th>\n",
       "      <th>max.length_rectangularity</th>\n",
       "      <th>scaled_variance</th>\n",
       "      <th>scaled_variance.1</th>\n",
       "      <th>scaled_radius_of_gyration</th>\n",
       "      <th>scaled_radius_of_gyration.1</th>\n",
       "      <th>skewness_about</th>\n",
       "      <th>skewness_about.1</th>\n",
       "      <th>skewness_about.2</th>\n",
       "      <th>hollows_ratio</th>\n",
       "    </tr>\n",
       "  </thead>\n",
       "  <tbody>\n",
       "    <tr>\n",
       "      <th>count</th>\n",
       "      <td>813.000000</td>\n",
       "      <td>813.000000</td>\n",
       "      <td>813.00000</td>\n",
       "      <td>813.000000</td>\n",
       "      <td>813.000000</td>\n",
       "      <td>813.000000</td>\n",
       "      <td>813.000000</td>\n",
       "      <td>813.00000</td>\n",
       "      <td>813.000000</td>\n",
       "      <td>813.000000</td>\n",
       "      <td>813.000000</td>\n",
       "      <td>813.000000</td>\n",
       "      <td>813.000000</td>\n",
       "      <td>813.000000</td>\n",
       "      <td>813.000000</td>\n",
       "      <td>813.000000</td>\n",
       "      <td>813.000000</td>\n",
       "      <td>813.000000</td>\n",
       "    </tr>\n",
       "    <tr>\n",
       "      <th>mean</th>\n",
       "      <td>93.656827</td>\n",
       "      <td>44.803198</td>\n",
       "      <td>82.04305</td>\n",
       "      <td>169.098401</td>\n",
       "      <td>61.774908</td>\n",
       "      <td>8.599016</td>\n",
       "      <td>168.563346</td>\n",
       "      <td>40.98893</td>\n",
       "      <td>20.558426</td>\n",
       "      <td>147.891759</td>\n",
       "      <td>188.377614</td>\n",
       "      <td>438.382534</td>\n",
       "      <td>174.252153</td>\n",
       "      <td>72.399754</td>\n",
       "      <td>6.351784</td>\n",
       "      <td>12.687577</td>\n",
       "      <td>188.979090</td>\n",
       "      <td>195.729397</td>\n",
       "    </tr>\n",
       "    <tr>\n",
       "      <th>std</th>\n",
       "      <td>8.233751</td>\n",
       "      <td>6.146659</td>\n",
       "      <td>15.78307</td>\n",
       "      <td>33.615402</td>\n",
       "      <td>7.973000</td>\n",
       "      <td>4.677174</td>\n",
       "      <td>33.082186</td>\n",
       "      <td>7.80338</td>\n",
       "      <td>2.573184</td>\n",
       "      <td>14.504648</td>\n",
       "      <td>31.165873</td>\n",
       "      <td>175.270368</td>\n",
       "      <td>32.332161</td>\n",
       "      <td>7.475994</td>\n",
       "      <td>4.921476</td>\n",
       "      <td>8.926951</td>\n",
       "      <td>6.153681</td>\n",
       "      <td>7.398781</td>\n",
       "    </tr>\n",
       "    <tr>\n",
       "      <th>min</th>\n",
       "      <td>73.000000</td>\n",
       "      <td>33.000000</td>\n",
       "      <td>40.00000</td>\n",
       "      <td>104.000000</td>\n",
       "      <td>47.000000</td>\n",
       "      <td>2.000000</td>\n",
       "      <td>112.000000</td>\n",
       "      <td>26.00000</td>\n",
       "      <td>17.000000</td>\n",
       "      <td>118.000000</td>\n",
       "      <td>130.000000</td>\n",
       "      <td>184.000000</td>\n",
       "      <td>109.000000</td>\n",
       "      <td>59.000000</td>\n",
       "      <td>0.000000</td>\n",
       "      <td>0.000000</td>\n",
       "      <td>176.000000</td>\n",
       "      <td>181.000000</td>\n",
       "    </tr>\n",
       "    <tr>\n",
       "      <th>25%</th>\n",
       "      <td>87.000000</td>\n",
       "      <td>40.000000</td>\n",
       "      <td>70.00000</td>\n",
       "      <td>141.000000</td>\n",
       "      <td>57.000000</td>\n",
       "      <td>7.000000</td>\n",
       "      <td>146.000000</td>\n",
       "      <td>33.00000</td>\n",
       "      <td>19.000000</td>\n",
       "      <td>137.000000</td>\n",
       "      <td>167.000000</td>\n",
       "      <td>318.000000</td>\n",
       "      <td>149.000000</td>\n",
       "      <td>67.000000</td>\n",
       "      <td>2.000000</td>\n",
       "      <td>6.000000</td>\n",
       "      <td>184.000000</td>\n",
       "      <td>191.000000</td>\n",
       "    </tr>\n",
       "    <tr>\n",
       "      <th>50%</th>\n",
       "      <td>93.000000</td>\n",
       "      <td>44.000000</td>\n",
       "      <td>79.00000</td>\n",
       "      <td>167.000000</td>\n",
       "      <td>61.000000</td>\n",
       "      <td>8.000000</td>\n",
       "      <td>157.000000</td>\n",
       "      <td>43.00000</td>\n",
       "      <td>20.000000</td>\n",
       "      <td>146.000000</td>\n",
       "      <td>179.000000</td>\n",
       "      <td>364.000000</td>\n",
       "      <td>173.000000</td>\n",
       "      <td>71.000000</td>\n",
       "      <td>6.000000</td>\n",
       "      <td>11.000000</td>\n",
       "      <td>189.000000</td>\n",
       "      <td>197.000000</td>\n",
       "    </tr>\n",
       "    <tr>\n",
       "      <th>75%</th>\n",
       "      <td>100.000000</td>\n",
       "      <td>49.000000</td>\n",
       "      <td>98.00000</td>\n",
       "      <td>195.000000</td>\n",
       "      <td>65.000000</td>\n",
       "      <td>10.000000</td>\n",
       "      <td>198.000000</td>\n",
       "      <td>46.00000</td>\n",
       "      <td>23.000000</td>\n",
       "      <td>159.000000</td>\n",
       "      <td>217.000000</td>\n",
       "      <td>586.000000</td>\n",
       "      <td>198.000000</td>\n",
       "      <td>75.000000</td>\n",
       "      <td>9.000000</td>\n",
       "      <td>19.000000</td>\n",
       "      <td>193.000000</td>\n",
       "      <td>201.000000</td>\n",
       "    </tr>\n",
       "    <tr>\n",
       "      <th>max</th>\n",
       "      <td>119.000000</td>\n",
       "      <td>59.000000</td>\n",
       "      <td>112.00000</td>\n",
       "      <td>333.000000</td>\n",
       "      <td>138.000000</td>\n",
       "      <td>55.000000</td>\n",
       "      <td>265.000000</td>\n",
       "      <td>61.00000</td>\n",
       "      <td>29.000000</td>\n",
       "      <td>188.000000</td>\n",
       "      <td>320.000000</td>\n",
       "      <td>1018.000000</td>\n",
       "      <td>268.000000</td>\n",
       "      <td>135.000000</td>\n",
       "      <td>22.000000</td>\n",
       "      <td>41.000000</td>\n",
       "      <td>206.000000</td>\n",
       "      <td>211.000000</td>\n",
       "    </tr>\n",
       "  </tbody>\n",
       "</table>\n",
       "</div>"
      ],
      "text/plain": [
       "       compactness  circularity  distance_circularity  radius_ratio  \\\n",
       "count   813.000000   813.000000             813.00000    813.000000   \n",
       "mean     93.656827    44.803198              82.04305    169.098401   \n",
       "std       8.233751     6.146659              15.78307     33.615402   \n",
       "min      73.000000    33.000000              40.00000    104.000000   \n",
       "25%      87.000000    40.000000              70.00000    141.000000   \n",
       "50%      93.000000    44.000000              79.00000    167.000000   \n",
       "75%     100.000000    49.000000              98.00000    195.000000   \n",
       "max     119.000000    59.000000             112.00000    333.000000   \n",
       "\n",
       "       pr.axis_aspect_ratio  max.length_aspect_ratio  scatter_ratio  \\\n",
       "count            813.000000               813.000000     813.000000   \n",
       "mean              61.774908                 8.599016     168.563346   \n",
       "std                7.973000                 4.677174      33.082186   \n",
       "min               47.000000                 2.000000     112.000000   \n",
       "25%               57.000000                 7.000000     146.000000   \n",
       "50%               61.000000                 8.000000     157.000000   \n",
       "75%               65.000000                10.000000     198.000000   \n",
       "max              138.000000                55.000000     265.000000   \n",
       "\n",
       "       elongatedness  pr.axis_rectangularity  max.length_rectangularity  \\\n",
       "count      813.00000              813.000000                 813.000000   \n",
       "mean        40.98893               20.558426                 147.891759   \n",
       "std          7.80338                2.573184                  14.504648   \n",
       "min         26.00000               17.000000                 118.000000   \n",
       "25%         33.00000               19.000000                 137.000000   \n",
       "50%         43.00000               20.000000                 146.000000   \n",
       "75%         46.00000               23.000000                 159.000000   \n",
       "max         61.00000               29.000000                 188.000000   \n",
       "\n",
       "       scaled_variance  scaled_variance.1  scaled_radius_of_gyration  \\\n",
       "count       813.000000         813.000000                 813.000000   \n",
       "mean        188.377614         438.382534                 174.252153   \n",
       "std          31.165873         175.270368                  32.332161   \n",
       "min         130.000000         184.000000                 109.000000   \n",
       "25%         167.000000         318.000000                 149.000000   \n",
       "50%         179.000000         364.000000                 173.000000   \n",
       "75%         217.000000         586.000000                 198.000000   \n",
       "max         320.000000        1018.000000                 268.000000   \n",
       "\n",
       "       scaled_radius_of_gyration.1  skewness_about  skewness_about.1  \\\n",
       "count                   813.000000      813.000000        813.000000   \n",
       "mean                     72.399754        6.351784         12.687577   \n",
       "std                       7.475994        4.921476          8.926951   \n",
       "min                      59.000000        0.000000          0.000000   \n",
       "25%                      67.000000        2.000000          6.000000   \n",
       "50%                      71.000000        6.000000         11.000000   \n",
       "75%                      75.000000        9.000000         19.000000   \n",
       "max                     135.000000       22.000000         41.000000   \n",
       "\n",
       "       skewness_about.2  hollows_ratio  \n",
       "count        813.000000     813.000000  \n",
       "mean         188.979090     195.729397  \n",
       "std            6.153681       7.398781  \n",
       "min          176.000000     181.000000  \n",
       "25%          184.000000     191.000000  \n",
       "50%          189.000000     197.000000  \n",
       "75%          193.000000     201.000000  \n",
       "max          206.000000     211.000000  "
      ]
     },
     "execution_count": 10,
     "metadata": {},
     "output_type": "execute_result"
    }
   ],
   "source": [
    "df.describe()"
   ]
  },
  {
   "cell_type": "code",
   "execution_count": 11,
   "metadata": {},
   "outputs": [],
   "source": [
    "df.dropna(inplace=True)"
   ]
  },
  {
   "cell_type": "code",
   "execution_count": 12,
   "metadata": {},
   "outputs": [
    {
     "name": "stdout",
     "output_type": "stream",
     "text": [
      "<class 'pandas.core.frame.DataFrame'>\n",
      "Int64Index: 813 entries, 0 to 845\n",
      "Data columns (total 19 columns):\n",
      "compactness                    813 non-null int64\n",
      "circularity                    813 non-null float64\n",
      "distance_circularity           813 non-null float64\n",
      "radius_ratio                   813 non-null float64\n",
      "pr.axis_aspect_ratio           813 non-null float64\n",
      "max.length_aspect_ratio        813 non-null int64\n",
      "scatter_ratio                  813 non-null float64\n",
      "elongatedness                  813 non-null float64\n",
      "pr.axis_rectangularity         813 non-null float64\n",
      "max.length_rectangularity      813 non-null int64\n",
      "scaled_variance                813 non-null float64\n",
      "scaled_variance.1              813 non-null float64\n",
      "scaled_radius_of_gyration      813 non-null float64\n",
      "scaled_radius_of_gyration.1    813 non-null float64\n",
      "skewness_about                 813 non-null float64\n",
      "skewness_about.1               813 non-null float64\n",
      "skewness_about.2               813 non-null float64\n",
      "hollows_ratio                  813 non-null int64\n",
      "class                          813 non-null object\n",
      "dtypes: float64(14), int64(4), object(1)\n",
      "memory usage: 127.0+ KB\n"
     ]
    }
   ],
   "source": [
    "df.info()"
   ]
  },
  {
   "cell_type": "markdown",
   "metadata": {
    "colab_type": "text",
    "id": "Ku4eS0ZAho8s"
   },
   "source": [
    "### 2. Print/ Plot the dependent (categorical variable) - Class column"
   ]
  },
  {
   "cell_type": "markdown",
   "metadata": {
    "colab_type": "text",
    "id": "R1mfF_hiho8v"
   },
   "source": [
    "Since the variable is categorical, you can use value_counts function"
   ]
  },
  {
   "cell_type": "code",
   "execution_count": 13,
   "metadata": {
    "colab": {},
    "colab_type": "code",
    "id": "_dP5-zpUho81"
   },
   "outputs": [
    {
     "data": {
      "text/plain": [
       "<matplotlib.axes._subplots.AxesSubplot at 0x21abfd22940>"
      ]
     },
     "execution_count": 13,
     "metadata": {},
     "output_type": "execute_result"
    },
    {
     "data": {
      "image/png": "[encoded data removed]",
      "text/plain": [
       "<Figure size 432x288 with 1 Axes>"
      ]
     },
     "metadata": {
      "needs_background": "light"
     },
     "output_type": "display_data"
    }
   ],
   "source": [
    "sns.countplot(x='class',data=df)"
   ]
  },
  {
   "cell_type": "markdown",
   "metadata": {
    "colab_type": "text",
    "id": "ZFsXYI5qho9E"
   },
   "source": [
    "### Check for any missing values in the data "
   ]
  },
  {
   "cell_type": "code",
   "execution_count": null,
   "metadata": {
    "colab": {},
    "colab_type": "code",
    "id": "qb77DNfwho9J"
   },
   "outputs": [],
   "source": []
  },
  {
   "cell_type": "markdown",
   "metadata": {
    "colab_type": "text",
    "id": "AwUdJm9qho9U"
   },
   "source": [
    "### 3. Standardize the data "
   ]
  },
  {
   "cell_type": "code",
   "execution_count": 14,
   "metadata": {
    "colab": {},
    "colab_type": "code",
    "id": "pqgzFHh_ho9X"
   },
   "outputs": [],
   "source": [
    "df=df.drop(labels='class',axis=1)"
   ]
  },
  {
   "cell_type": "code",
   "execution_count": 15,
   "metadata": {},
   "outputs": [
    {
     "data": {
      "text/plain": [
       "Index(['compactness', 'circularity', 'distance_circularity', 'radius_ratio',\n",
       "       'pr.axis_aspect_ratio', 'max.length_aspect_ratio', 'scatter_ratio',\n",
       "       'elongatedness', 'pr.axis_rectangularity', 'max.length_rectangularity',\n",
       "       'scaled_variance', 'scaled_variance.1', 'scaled_radius_of_gyration',\n",
       "       'scaled_radius_of_gyration.1', 'skewness_about', 'skewness_about.1',\n",
       "       'skewness_about.2', 'hollows_ratio'],\n",
       "      dtype='object')"
      ]
     },
     "execution_count": 15,
     "metadata": {},
     "output_type": "execute_result"
    }
   ],
   "source": [
    "df.columns"
   ]
  },
  {
   "cell_type": "markdown",
   "metadata": {
    "colab_type": "text",
    "id": "x6z10bgjho9j"
   },
   "source": [
    "Since the dimensions of the data are not really known to us, it would be wise to standardize the data using z scores before we go for any clustering methods.\n",
    "You can use zscore function to do this"
   ]
  },
  {
   "cell_type": "code",
   "execution_count": 16,
   "metadata": {
    "colab": {},
    "colab_type": "code",
    "id": "qed3MlPjho9n"
   },
   "outputs": [],
   "source": [
    "from scipy import stats"
   ]
  },
  {
   "cell_type": "code",
   "execution_count": 17,
   "metadata": {
    "colab": {},
    "colab_type": "code",
    "id": "pbGN_7mhho9y"
   },
   "outputs": [],
   "source": [
    "df_z=df.apply(stats.zscore)"
   ]
  },
  {
   "cell_type": "code",
   "execution_count": 18,
   "metadata": {},
   "outputs": [
    {
     "data": {
      "text/html": [
       "<div>\n",
       "<style scoped>\n",
       "    .dataframe tbody tr th:only-of-type {\n",
       "        vertical-align: middle;\n",
       "    }\n",
       "\n",
       "    .dataframe tbody tr th {\n",
       "        vertical-align: top;\n",
       "    }\n",
       "\n",
       "    .dataframe thead th {\n",
       "        text-align: right;\n",
       "    }\n",
       "</style>\n",
       "<table border=\"1\" class=\"dataframe\">\n",
       "  <thead>\n",
       "    <tr style=\"text-align: right;\">\n",
       "      <th></th>\n",
       "      <th>compactness</th>\n",
       "      <th>circularity</th>\n",
       "      <th>distance_circularity</th>\n",
       "      <th>radius_ratio</th>\n",
       "      <th>pr.axis_aspect_ratio</th>\n",
       "      <th>max.length_aspect_ratio</th>\n",
       "      <th>scatter_ratio</th>\n",
       "      <th>elongatedness</th>\n",
       "      <th>pr.axis_rectangularity</th>\n",
       "      <th>max.length_rectangularity</th>\n",
       "      <th>scaled_variance</th>\n",
       "      <th>scaled_variance.1</th>\n",
       "      <th>scaled_radius_of_gyration</th>\n",
       "      <th>scaled_radius_of_gyration.1</th>\n",
       "      <th>skewness_about</th>\n",
       "      <th>skewness_about.1</th>\n",
       "      <th>skewness_about.2</th>\n",
       "      <th>hollows_ratio</th>\n",
       "    </tr>\n",
       "  </thead>\n",
       "  <tbody>\n",
       "    <tr>\n",
       "      <th>0</th>\n",
       "      <td>0.163231</td>\n",
       "      <td>0.520408</td>\n",
       "      <td>0.060669</td>\n",
       "      <td>0.264970</td>\n",
       "      <td>1.283254</td>\n",
       "      <td>0.299721</td>\n",
       "      <td>-0.198517</td>\n",
       "      <td>0.129648</td>\n",
       "      <td>-0.217151</td>\n",
       "      <td>0.766312</td>\n",
       "      <td>-0.397397</td>\n",
       "      <td>-0.339014</td>\n",
       "      <td>0.301676</td>\n",
       "      <td>-0.321192</td>\n",
       "      <td>-0.071523</td>\n",
       "      <td>0.371287</td>\n",
       "      <td>-0.321809</td>\n",
       "      <td>0.171837</td>\n",
       "    </tr>\n",
       "    <tr>\n",
       "      <th>1</th>\n",
       "      <td>-0.322874</td>\n",
       "      <td>-0.619123</td>\n",
       "      <td>0.124067</td>\n",
       "      <td>-0.836393</td>\n",
       "      <td>-0.599253</td>\n",
       "      <td>0.085785</td>\n",
       "      <td>-0.591720</td>\n",
       "      <td>0.514333</td>\n",
       "      <td>-0.606014</td>\n",
       "      <td>-0.337462</td>\n",
       "      <td>-0.590034</td>\n",
       "      <td>-0.618754</td>\n",
       "      <td>-0.502972</td>\n",
       "      <td>-0.053505</td>\n",
       "      <td>0.538425</td>\n",
       "      <td>0.147109</td>\n",
       "      <td>0.003400</td>\n",
       "      <td>0.442318</td>\n",
       "    </tr>\n",
       "    <tr>\n",
       "      <th>2</th>\n",
       "      <td>1.256966</td>\n",
       "      <td>0.845988</td>\n",
       "      <td>1.518823</td>\n",
       "      <td>1.187734</td>\n",
       "      <td>0.530251</td>\n",
       "      <td>0.299721</td>\n",
       "      <td>1.162569</td>\n",
       "      <td>-1.152637</td>\n",
       "      <td>0.949438</td>\n",
       "      <td>0.697326</td>\n",
       "      <td>1.111591</td>\n",
       "      <td>1.122486</td>\n",
       "      <td>1.415804</td>\n",
       "      <td>0.080339</td>\n",
       "      <td>1.555006</td>\n",
       "      <td>-0.413338</td>\n",
       "      <td>-0.159204</td>\n",
       "      <td>0.036596</td>\n",
       "    </tr>\n",
       "    <tr>\n",
       "      <th>3</th>\n",
       "      <td>-0.079822</td>\n",
       "      <td>-0.619123</td>\n",
       "      <td>-0.002729</td>\n",
       "      <td>-0.300595</td>\n",
       "      <td>0.153750</td>\n",
       "      <td>0.085785</td>\n",
       "      <td>-0.742952</td>\n",
       "      <td>0.642562</td>\n",
       "      <td>-0.606014</td>\n",
       "      <td>-0.337462</td>\n",
       "      <td>-0.911095</td>\n",
       "      <td>-0.738643</td>\n",
       "      <td>-1.462359</td>\n",
       "      <td>-1.258099</td>\n",
       "      <td>-0.071523</td>\n",
       "      <td>-0.301249</td>\n",
       "      <td>1.629444</td>\n",
       "      <td>1.524243</td>\n",
       "    </tr>\n",
       "    <tr>\n",
       "      <th>4</th>\n",
       "      <td>-1.052030</td>\n",
       "      <td>-0.130753</td>\n",
       "      <td>-0.763506</td>\n",
       "      <td>1.068668</td>\n",
       "      <td>5.173770</td>\n",
       "      <td>9.285029</td>\n",
       "      <td>-0.591720</td>\n",
       "      <td>0.514333</td>\n",
       "      <td>-0.606014</td>\n",
       "      <td>-0.268476</td>\n",
       "      <td>1.689501</td>\n",
       "      <td>-0.647299</td>\n",
       "      <td>0.425468</td>\n",
       "      <td>7.307905</td>\n",
       "      <td>0.538425</td>\n",
       "      <td>-0.189159</td>\n",
       "      <td>-1.460039</td>\n",
       "      <td>-1.721531</td>\n",
       "    </tr>\n",
       "  </tbody>\n",
       "</table>\n",
       "</div>"
      ],
      "text/plain": [
       "   compactness  circularity  distance_circularity  radius_ratio  \\\n",
       "0     0.163231     0.520408              0.060669      0.264970   \n",
       "1    -0.322874    -0.619123              0.124067     -0.836393   \n",
       "2     1.256966     0.845988              1.518823      1.187734   \n",
       "3    -0.079822    -0.619123             -0.002729     -0.300595   \n",
       "4    -1.052030    -0.130753             -0.763506      1.068668   \n",
       "\n",
       "   pr.axis_aspect_ratio  max.length_aspect_ratio  scatter_ratio  \\\n",
       "0              1.283254                 0.299721      -0.198517   \n",
       "1             -0.599253                 0.085785      -0.591720   \n",
       "2              0.530251                 0.299721       1.162569   \n",
       "3              0.153750                 0.085785      -0.742952   \n",
       "4              5.173770                 9.285029      -0.591720   \n",
       "\n",
       "   elongatedness  pr.axis_rectangularity  max.length_rectangularity  \\\n",
       "0       0.129648               -0.217151                   0.766312   \n",
       "1       0.514333               -0.606014                  -0.337462   \n",
       "2      -1.152637                0.949438                   0.697326   \n",
       "3       0.642562               -0.606014                  -0.337462   \n",
       "4       0.514333               -0.606014                  -0.268476   \n",
       "\n",
       "   scaled_variance  scaled_variance.1  scaled_radius_of_gyration  \\\n",
       "0        -0.397397          -0.339014                   0.301676   \n",
       "1        -0.590034          -0.618754                  -0.502972   \n",
       "2         1.111591           1.122486                   1.415804   \n",
       "3        -0.911095          -0.738643                  -1.462359   \n",
       "4         1.689501          -0.647299                   0.425468   \n",
       "\n",
       "   scaled_radius_of_gyration.1  skewness_about  skewness_about.1  \\\n",
       "0                    -0.321192       -0.071523          0.371287   \n",
       "1                    -0.053505        0.538425          0.147109   \n",
       "2                     0.080339        1.555006         -0.413338   \n",
       "3                    -1.258099       -0.071523         -0.301249   \n",
       "4                     7.307905        0.538425         -0.189159   \n",
       "\n",
       "   skewness_about.2  hollows_ratio  \n",
       "0         -0.321809       0.171837  \n",
       "1          0.003400       0.442318  \n",
       "2         -0.159204       0.036596  \n",
       "3          1.629444       1.524243  \n",
       "4         -1.460039      -1.721531  "
      ]
     },
     "execution_count": 18,
     "metadata": {},
     "output_type": "execute_result"
    }
   ],
   "source": [
    "df_z.head()"
   ]
  },
  {
   "cell_type": "markdown",
   "metadata": {
    "colab_type": "text",
    "id": "weIwi8cxho-C"
   },
   "source": [
    "### K - Means Clustering"
   ]
  },
  {
   "cell_type": "markdown",
   "metadata": {
    "colab_type": "text",
    "id": "YdA5yJ1m61-L"
   },
   "source": [
    "### Assign a dummy array called distortion"
   ]
  },
  {
   "cell_type": "code",
   "execution_count": 19,
   "metadata": {
    "colab": {},
    "colab_type": "code",
    "id": "PRcbAApuho-g"
   },
   "outputs": [],
   "source": [
    "distortion=[]"
   ]
  },
  {
   "cell_type": "markdown",
   "metadata": {
    "colab_type": "text",
    "id": "ywuVdFe2ho-t"
   },
   "source": [
    "### 5. Calculating distortion - C distance"
   ]
  },
  {
   "cell_type": "markdown",
   "metadata": {
    "colab_type": "text",
    "id": "PJznnrkc68nf"
   },
   "source": [
    "Iterating values of k from 1 to 10 fit K means model\n",
    "Using c distance - Get the measure for Sum of squares error."
   ]
  },
  {
   "cell_type": "code",
   "execution_count": 20,
   "metadata": {
    "colab": {},
    "colab_type": "code",
    "id": "uc49grvmho-2"
   },
   "outputs": [],
   "source": [
    "from sklearn.cluster import KMeans\n",
    "#for k in range(1,11):\n",
    "model=KMeans(n_clusters=2)\n",
    "model.fit(df_z)\n",
    "prediction=model.predict(df_z)\n",
    "    "
   ]
  },
  {
   "cell_type": "code",
   "execution_count": 21,
   "metadata": {},
   "outputs": [
    {
     "data": {
      "text/plain": [
       "2412.0282211070235"
      ]
     },
     "execution_count": 21,
     "metadata": {},
     "output_type": "execute_result"
    }
   ],
   "source": [
    "from scipy.spatial.distance import cdist\n",
    "clusters=range(1,10)\n",
    "meanDistortions=[]\n",
    "cdist(df_z, model.cluster_centers_, 'euclidean')\n",
    "np.min(cdist(df_z, model.cluster_centers_, 'euclidean'), axis=1)\n",
    "distortions = sum(np.min(cdist(df_z, model.cluster_centers_, 'euclidean'), axis=1))\n",
    "distortions"
   ]
  },
  {
   "cell_type": "code",
   "execution_count": 22,
   "metadata": {},
   "outputs": [
    {
     "data": {
      "text/plain": [
       "2.966824380205441"
      ]
     },
     "execution_count": 22,
     "metadata": {},
     "output_type": "execute_result"
    }
   ],
   "source": [
    "distortions/df_z.shape[0]"
   ]
  },
  {
   "cell_type": "markdown",
   "metadata": {
    "colab_type": "text",
    "id": "EZUUCt5kho_C"
   },
   "source": [
    "Iterating values of k from 1 to 10 fit K means model\n",
    "Using c distance - Get the measure for Sum of squares error."
   ]
  },
  {
   "cell_type": "code",
   "execution_count": null,
   "metadata": {
    "colab": {},
    "colab_type": "code",
    "id": "0pPvfX1nho_F"
   },
   "outputs": [],
   "source": []
  },
  {
   "cell_type": "code",
   "execution_count": null,
   "metadata": {
    "colab": {},
    "colab_type": "code",
    "id": "NRJo1wzqho_Q"
   },
   "outputs": [],
   "source": []
  },
  {
   "cell_type": "markdown",
   "metadata": {
    "colab_type": "text",
    "id": "JIcSiPyoho_a"
   },
   "source": [
    "### 6. Plotting Elbow/ Scree Plot"
   ]
  },
  {
   "cell_type": "code",
   "execution_count": 23,
   "metadata": {
    "colab": {},
    "colab_type": "code",
    "id": "jQqEQcXcho_g"
   },
   "outputs": [],
   "source": [
    "for k in clusters:\n",
    "    model=KMeans(n_clusters=k)\n",
    "    model.fit(df_z)\n",
    "    prediction=model.predict(df_z)\n",
    "    distortions = sum(np.min(cdist(df_z, model.cluster_centers_, 'euclidean'), axis=1))\n",
    "    meanDistortions.append( distortions / df_z.shape[0])"
   ]
  },
  {
   "cell_type": "code",
   "execution_count": 24,
   "metadata": {},
   "outputs": [
    {
     "data": {
      "text/plain": [
       "Text(0.5, 1.0, 'Selecting k with the Elbow Method')"
      ]
     },
     "execution_count": 24,
     "metadata": {},
     "output_type": "execute_result"
    },
    {
     "data": {
      "image/png": "[encoded data removed]",
      "text/plain": [
       "<Figure size 432x288 with 1 Axes>"
      ]
     },
     "metadata": {
      "needs_background": "light"
     },
     "output_type": "display_data"
    }
   ],
   "source": [
    "plt.plot(clusters, meanDistortions, 'bx-')\n",
    "plt.xlabel('k')\n",
    "plt.ylabel('Average distortion')\n",
    "plt.title('Selecting k with the Elbow Method')"
   ]
  },
  {
   "cell_type": "markdown",
   "metadata": {
    "colab_type": "text",
    "id": "Z8Yw5XEsho_r"
   },
   "source": [
    "Use Matplotlib to plot the scree plot - Note: Scree plot plots distortion vs the no of clusters"
   ]
  },
  {
   "cell_type": "markdown",
   "metadata": {
    "colab_type": "text",
    "id": "sGx_Q_4Iho_7"
   },
   "source": [
    "### Find out the optimal value of K"
   ]
  },
  {
   "cell_type": "markdown",
   "metadata": {
    "colab": {},
    "colab_type": "code",
    "id": "i2JjEPrcho__"
   },
   "source": [
    "k=3 is the optimal value of clusters.after the point k=3 there less deviation in distortion."
   ]
  },
  {
   "cell_type": "code",
   "execution_count": null,
   "metadata": {
    "colab": {},
    "colab_type": "code",
    "id": "9zk5p_YKhpAJ"
   },
   "outputs": [],
   "source": []
  },
  {
   "cell_type": "markdown",
   "metadata": {
    "colab_type": "text",
    "id": "5EoRD5PHhpAT"
   },
   "source": [
    "### Using optimal value of K - Cluster the data. \n",
    "Note: Since the data has more than 2 dimension we cannot visualize the data. As an alternative, we can observe the centroids and note how they are distributed across different dimensions"
   ]
  },
  {
   "cell_type": "code",
   "execution_count": 25,
   "metadata": {
    "colab": {},
    "colab_type": "code",
    "id": "68oQ0c2ThpAZ"
   },
   "outputs": [
    {
     "name": "stdout",
     "output_type": "stream",
     "text": [
      "2.643166318298665\n"
     ]
    }
   ],
   "source": [
    "model=KMeans(n_clusters=3)\n",
    "model.fit(df_z)\n",
    "prediction=model.predict(df_z)\n",
    "distortions = sum(np.min(cdist(df_z, model.cluster_centers_, 'euclidean'), axis=1))\n",
    "print( distortions / df_z.shape[0])"
   ]
  },
  {
   "cell_type": "markdown",
   "metadata": {
    "colab_type": "text",
    "id": "fY5IjhFihpAm"
   },
   "source": [
    "You can use kmeans.cluster_centers_ function to pull the centroid information from the instance"
   ]
  },
  {
   "cell_type": "code",
   "execution_count": 26,
   "metadata": {
    "colab": {},
    "colab_type": "code",
    "id": "vS3GhD4UhpAx"
   },
   "outputs": [
    {
     "name": "stdout",
     "output_type": "stream",
     "text": [
      "[[ 1.13076532  1.17094237  1.19500584  1.01909505  0.21505188  0.34250798\n",
      "   1.27180461 -1.19061224  1.27548416  1.09266768  1.22038121  1.28132727\n",
      "   1.07954232 -0.02879497  0.16229031  0.26566456 -0.00535553  0.18380067]\n",
      " [-0.89640009 -0.48207061 -0.85196226 -1.02675826 -0.46581606 -0.20340912\n",
      "  -0.75933016  0.83667858 -0.72743741 -0.43998661 -0.76300107 -0.76675888\n",
      "  -0.35618264  0.79769971 -0.08839932 -0.30124859 -1.02685623 -1.06510664]\n",
      " [-0.22403254 -0.60827051 -0.31718356 -0.01731624  0.20645992 -0.12529856\n",
      "  -0.46186223  0.32626501 -0.49194739 -0.57592328 -0.41419948 -0.46385031\n",
      "  -0.63522265 -0.64777111 -0.06610151  0.02381036  0.87062354  0.73894602]]\n"
     ]
    }
   ],
   "source": [
    "centroids=model.cluster_centers_ \n",
    "print(centroids)"
   ]
  },
  {
   "cell_type": "markdown",
   "metadata": {
    "colab_type": "text",
    "id": "A2T8SxBdhpBL"
   },
   "source": [
    "### 7. Store the centroids in a dataframe with column names from the original dataset given "
   ]
  },
  {
   "cell_type": "code",
   "execution_count": 27,
   "metadata": {},
   "outputs": [
    {
     "data": {
      "text/plain": [
       "(813, 18)"
      ]
     },
     "execution_count": 27,
     "metadata": {},
     "output_type": "execute_result"
    }
   ],
   "source": [
    "df_z.shape"
   ]
  },
  {
   "cell_type": "code",
   "execution_count": null,
   "metadata": {},
   "outputs": [],
   "source": []
  },
  {
   "cell_type": "code",
   "execution_count": 28,
   "metadata": {
    "colab": {},
    "colab_type": "code",
    "id": "xpjTngRNhpBP"
   },
   "outputs": [
    {
     "data": {
      "text/html": [
       "<div>\n",
       "<style scoped>\n",
       "    .dataframe tbody tr th:only-of-type {\n",
       "        vertical-align: middle;\n",
       "    }\n",
       "\n",
       "    .dataframe tbody tr th {\n",
       "        vertical-align: top;\n",
       "    }\n",
       "\n",
       "    .dataframe thead th {\n",
       "        text-align: right;\n",
       "    }\n",
       "</style>\n",
       "<table border=\"1\" class=\"dataframe\">\n",
       "  <thead>\n",
       "    <tr style=\"text-align: right;\">\n",
       "      <th></th>\n",
       "      <th>compactness</th>\n",
       "      <th>circularity</th>\n",
       "      <th>distance_circularity</th>\n",
       "      <th>radius_ratio</th>\n",
       "      <th>pr.axis_aspect_ratio</th>\n",
       "      <th>max.length_aspect_ratio</th>\n",
       "      <th>scatter_ratio</th>\n",
       "      <th>elongatedness</th>\n",
       "      <th>pr.axis_rectangularity</th>\n",
       "      <th>max.length_rectangularity</th>\n",
       "      <th>scaled_variance</th>\n",
       "      <th>scaled_variance.1</th>\n",
       "      <th>scaled_radius_of_gyration</th>\n",
       "      <th>scaled_radius_of_gyration.1</th>\n",
       "      <th>skewness_about</th>\n",
       "      <th>skewness_about.1</th>\n",
       "      <th>skewness_about.2</th>\n",
       "      <th>hollows_ratio</th>\n",
       "    </tr>\n",
       "  </thead>\n",
       "  <tbody>\n",
       "    <tr>\n",
       "      <th>0</th>\n",
       "      <td>1.130765</td>\n",
       "      <td>1.170942</td>\n",
       "      <td>1.195006</td>\n",
       "      <td>1.019095</td>\n",
       "      <td>0.215052</td>\n",
       "      <td>0.342508</td>\n",
       "      <td>1.271805</td>\n",
       "      <td>-1.190612</td>\n",
       "      <td>1.275484</td>\n",
       "      <td>1.092668</td>\n",
       "      <td>1.220381</td>\n",
       "      <td>1.281327</td>\n",
       "      <td>1.079542</td>\n",
       "      <td>-0.028795</td>\n",
       "      <td>0.162290</td>\n",
       "      <td>0.265665</td>\n",
       "      <td>-0.005356</td>\n",
       "      <td>0.183801</td>\n",
       "    </tr>\n",
       "    <tr>\n",
       "      <th>1</th>\n",
       "      <td>-0.896400</td>\n",
       "      <td>-0.482071</td>\n",
       "      <td>-0.851962</td>\n",
       "      <td>-1.026758</td>\n",
       "      <td>-0.465816</td>\n",
       "      <td>-0.203409</td>\n",
       "      <td>-0.759330</td>\n",
       "      <td>0.836679</td>\n",
       "      <td>-0.727437</td>\n",
       "      <td>-0.439987</td>\n",
       "      <td>-0.763001</td>\n",
       "      <td>-0.766759</td>\n",
       "      <td>-0.356183</td>\n",
       "      <td>0.797700</td>\n",
       "      <td>-0.088399</td>\n",
       "      <td>-0.301249</td>\n",
       "      <td>-1.026856</td>\n",
       "      <td>-1.065107</td>\n",
       "    </tr>\n",
       "    <tr>\n",
       "      <th>2</th>\n",
       "      <td>-0.224033</td>\n",
       "      <td>-0.608271</td>\n",
       "      <td>-0.317184</td>\n",
       "      <td>-0.017316</td>\n",
       "      <td>0.206460</td>\n",
       "      <td>-0.125299</td>\n",
       "      <td>-0.461862</td>\n",
       "      <td>0.326265</td>\n",
       "      <td>-0.491947</td>\n",
       "      <td>-0.575923</td>\n",
       "      <td>-0.414199</td>\n",
       "      <td>-0.463850</td>\n",
       "      <td>-0.635223</td>\n",
       "      <td>-0.647771</td>\n",
       "      <td>-0.066102</td>\n",
       "      <td>0.023810</td>\n",
       "      <td>0.870624</td>\n",
       "      <td>0.738946</td>\n",
       "    </tr>\n",
       "  </tbody>\n",
       "</table>\n",
       "</div>"
      ],
      "text/plain": [
       "   compactness  circularity  distance_circularity  radius_ratio  \\\n",
       "0     1.130765     1.170942              1.195006      1.019095   \n",
       "1    -0.896400    -0.482071             -0.851962     -1.026758   \n",
       "2    -0.224033    -0.608271             -0.317184     -0.017316   \n",
       "\n",
       "   pr.axis_aspect_ratio  max.length_aspect_ratio  scatter_ratio  \\\n",
       "0              0.215052                 0.342508       1.271805   \n",
       "1             -0.465816                -0.203409      -0.759330   \n",
       "2              0.206460                -0.125299      -0.461862   \n",
       "\n",
       "   elongatedness  pr.axis_rectangularity  max.length_rectangularity  \\\n",
       "0      -1.190612                1.275484                   1.092668   \n",
       "1       0.836679               -0.727437                  -0.439987   \n",
       "2       0.326265               -0.491947                  -0.575923   \n",
       "\n",
       "   scaled_variance  scaled_variance.1  scaled_radius_of_gyration  \\\n",
       "0         1.220381           1.281327                   1.079542   \n",
       "1        -0.763001          -0.766759                  -0.356183   \n",
       "2        -0.414199          -0.463850                  -0.635223   \n",
       "\n",
       "   scaled_radius_of_gyration.1  skewness_about  skewness_about.1  \\\n",
       "0                    -0.028795        0.162290          0.265665   \n",
       "1                     0.797700       -0.088399         -0.301249   \n",
       "2                    -0.647771       -0.066102          0.023810   \n",
       "\n",
       "   skewness_about.2  hollows_ratio  \n",
       "0         -0.005356       0.183801  \n",
       "1         -1.026856      -1.065107  \n",
       "2          0.870624       0.738946  "
      ]
     },
     "execution_count": 28,
     "metadata": {},
     "output_type": "execute_result"
    }
   ],
   "source": [
    "df_centroid=pd.DataFrame(centroids,columns=df_z.columns)\n",
    "df_centroid.head()"
   ]
  },
  {
   "cell_type": "markdown",
   "metadata": {
    "colab_type": "text",
    "id": "SvWlZ_FzhpBY"
   },
   "source": [
    "Hint: Use pd.Dataframe function "
   ]
  },
  {
   "cell_type": "code",
   "execution_count": null,
   "metadata": {
    "colab": {},
    "colab_type": "code",
    "id": "EZ6nJ3BdhpBZ"
   },
   "outputs": [],
   "source": []
  },
  {
   "cell_type": "code",
   "execution_count": null,
   "metadata": {
    "colab": {},
    "colab_type": "code",
    "id": "HPey2b-DhpBh"
   },
   "outputs": [],
   "source": []
  },
  {
   "cell_type": "markdown",
   "metadata": {
    "colab_type": "text",
    "id": "n2kFVi2GhpBn"
   },
   "source": [
    "### Use kmeans.labels_ function to print out the labels of the classes"
   ]
  },
  {
   "cell_type": "code",
   "execution_count": 29,
   "metadata": {
    "colab": {},
    "colab_type": "code",
    "id": "Ahx91q_ghpBp"
   },
   "outputs": [
    {
     "data": {
      "text/plain": [
       "array([2, 2, 0, 2, 1, 2, 2, 2, 2, 2, 2, 2, 2, 0, 1, 2, 0, 1, 1, 2, 2, 0,\n",
       "       2, 1, 0, 0, 1, 2, 2, 2, 0, 2, 1, 0, 0, 1, 0, 1, 1, 2, 0, 1, 1, 1,\n",
       "       1, 2, 1, 2, 0, 2, 0, 2, 2, 1, 0, 1, 0, 1, 1, 1, 2, 1, 0, 2, 0, 0,\n",
       "       2, 1, 2, 0, 2, 1, 1, 0, 2, 1, 2, 0, 2, 1, 2, 1, 0, 2, 0, 1, 1, 0,\n",
       "       1, 1, 0, 1, 1, 2, 2, 1, 0, 0, 1, 1, 0, 2, 2, 1, 1, 1, 2, 0, 0, 2,\n",
       "       1, 1, 2, 1, 1, 1, 1, 1, 2, 0, 0, 2, 2, 1, 0, 0, 1, 2, 1, 2, 2, 0,\n",
       "       1, 2, 0, 2, 2, 2, 2, 0, 2, 2, 0, 2, 0, 2, 1, 2, 1, 0, 2, 2, 0, 0,\n",
       "       2, 0, 1, 1, 0, 0, 2, 0, 1, 2, 2, 2, 1, 0, 1, 2, 1, 0, 2, 2, 2, 0,\n",
       "       2, 0, 2, 0, 2, 1, 0, 1, 1, 1, 1, 2, 0, 0, 2, 2, 2, 1, 0, 2, 2, 2,\n",
       "       0, 1, 1, 0, 1, 2, 0, 1, 1, 1, 2, 0, 2, 0, 1, 1, 1, 1, 0, 2, 1, 2,\n",
       "       0, 1, 2, 2, 1, 0, 1, 1, 2, 2, 0, 1, 0, 1, 2, 1, 0, 2, 2, 0, 0, 1,\n",
       "       2, 2, 2, 0, 1, 2, 2, 1, 1, 2, 2, 0, 2, 1, 1, 0, 2, 2, 1, 1, 0, 1,\n",
       "       2, 0, 1, 2, 0, 2, 2, 0, 2, 0, 1, 2, 2, 0, 2, 2, 2, 1, 2, 0, 0, 0,\n",
       "       0, 1, 1, 0, 1, 1, 1, 2, 1, 0, 0, 1, 0, 2, 1, 0, 1, 2, 2, 0, 0, 1,\n",
       "       0, 0, 1, 0, 2, 2, 2, 1, 1, 0, 0, 0, 2, 2, 2, 0, 1, 2, 1, 0, 2, 2,\n",
       "       0, 2, 0, 0, 0, 2, 1, 1, 0, 1, 1, 1, 1, 2, 2, 2, 1, 0, 0, 1, 1, 0,\n",
       "       1, 0, 1, 0, 2, 1, 2, 1, 0, 0, 1, 2, 2, 1, 0, 2, 2, 2, 2, 0, 2, 0,\n",
       "       2, 0, 2, 1, 1, 2, 2, 2, 1, 1, 2, 1, 0, 2, 2, 1, 1, 0, 2, 1, 2, 2,\n",
       "       0, 2, 0, 2, 0, 0, 1, 1, 0, 2, 1, 1, 2, 0, 0, 1, 2, 0, 0, 1, 0, 0,\n",
       "       0, 2, 2, 2, 2, 2, 0, 1, 1, 2, 0, 2, 2, 0, 2, 1, 0, 1, 1, 0, 2, 1,\n",
       "       0, 0, 0, 1, 0, 0, 1, 2, 1, 0, 0, 2, 2, 1, 1, 0, 2, 1, 0, 0, 2, 1,\n",
       "       0, 0, 2, 1, 1, 0, 0, 0, 1, 1, 0, 0, 0, 2, 2, 0, 1, 2, 0, 2, 1, 1,\n",
       "       2, 0, 1, 2, 2, 1, 2, 0, 2, 0, 0, 2, 1, 2, 0, 0, 1, 1, 2, 0, 2, 0,\n",
       "       0, 2, 2, 2, 2, 1, 1, 1, 2, 2, 0, 1, 1, 2, 1, 0, 2, 0, 1, 1, 0, 0,\n",
       "       2, 0, 2, 2, 2, 0, 2, 1, 2, 0, 2, 2, 1, 0, 0, 0, 0, 2, 1, 1, 1, 0,\n",
       "       0, 0, 2, 0, 1, 2, 0, 1, 1, 1, 2, 1, 0, 2, 2, 2, 2, 2, 2, 0, 2, 2,\n",
       "       0, 2, 2, 2, 1, 0, 1, 1, 2, 1, 2, 2, 1, 1, 0, 0, 1, 2, 0, 2, 0, 2,\n",
       "       2, 0, 2, 1, 0, 1, 0, 1, 1, 2, 1, 2, 0, 0, 1, 0, 2, 2, 1, 2, 1, 0,\n",
       "       2, 0, 1, 2, 2, 2, 1, 1, 1, 2, 0, 2, 0, 1, 2, 2, 1, 2, 0, 2, 1, 0,\n",
       "       2, 0, 2, 2, 0, 1, 0, 1, 2, 1, 2, 1, 0, 2, 1, 2, 0, 1, 0, 2, 1, 0,\n",
       "       1, 2, 1, 2, 2, 1, 2, 0, 0, 2, 2, 0, 0, 2, 2, 1, 2, 0, 0, 0, 0, 2,\n",
       "       0, 2, 2, 0, 0, 2, 0, 2, 0, 2, 1, 0, 2, 1, 0, 0, 0, 2, 0, 1, 1, 0,\n",
       "       0, 0, 2, 0, 2, 2, 0, 2, 1, 2, 1, 2, 0, 2, 1, 2, 2, 2, 1, 0, 1, 1,\n",
       "       1, 0, 0, 1, 0, 0, 1, 2, 2, 0, 2, 1, 0, 0, 1, 2, 2, 0, 0, 0, 1, 0,\n",
       "       2, 0, 0, 1, 1, 0, 1, 0, 2, 1, 2, 0, 0, 2, 1, 2, 0, 0, 2, 2, 1, 2,\n",
       "       2, 0, 1, 1, 0, 1, 1, 0, 1, 2, 1, 1, 1, 1, 0, 0, 2, 1, 0, 2, 0, 0,\n",
       "       1, 2, 0, 1, 1, 2, 2, 0, 1, 1, 0, 1, 2, 2, 2, 2, 2, 2, 0, 2, 1])"
      ]
     },
     "execution_count": 29,
     "metadata": {},
     "output_type": "execute_result"
    }
   ],
   "source": [
    "model.labels_"
   ]
  },
  {
   "cell_type": "code",
   "execution_count": null,
   "metadata": {
    "colab": {},
    "colab_type": "code",
    "id": "hm0AtttihpBv"
   },
   "outputs": [],
   "source": []
  },
  {
   "cell_type": "markdown",
   "metadata": {
    "colab_type": "text",
    "id": "SmQyHhmFhpB3"
   },
   "source": [
    "## Hierarchical Clustering "
   ]
  },
  {
   "cell_type": "markdown",
   "metadata": {
    "colab_type": "text",
    "id": "_zAMRDe_hpB5"
   },
   "source": [
    "### 8. Variable creation"
   ]
  },
  {
   "cell_type": "markdown",
   "metadata": {
    "colab_type": "text",
    "id": "VESIKt49hpB6"
   },
   "source": [
    "For Hierarchical clustering, we will create datasets using multivariate normal distribution to visually observe how the clusters are formed at the end"
   ]
  },
  {
   "cell_type": "code",
   "execution_count": 30,
   "metadata": {
    "colab": {},
    "colab_type": "code",
    "id": "qpUh49bKhpB8"
   },
   "outputs": [],
   "source": [
    "np.random.seed(101)  # for repeatability of this dataset\n",
    "a = np.random.multivariate_normal([10, 0], [[3, 1], [1, 4]], size=[100,])\n",
    "b = np.random.multivariate_normal([0, 20], [[3, 1], [1, 4]], size=[50,])\n",
    "c = np.random.multivariate_normal([10, 20], [[3, 1], [1, 4]], size=[100,])"
   ]
  },
  {
   "cell_type": "code",
   "execution_count": null,
   "metadata": {},
   "outputs": [],
   "source": []
  },
  {
   "cell_type": "markdown",
   "metadata": {
    "colab_type": "raw",
    "id": "cu8DfP8shpCA"
   },
   "source": [
    "a = np.random.multivariate_normal([10, 0], [[3, 1], [1, 4]], size=[100,])\n",
    "b = np.random.multivariate_normal([0, 20], [[3, 1], [1, 4]], size=[50,])\n",
    "c = np.random.multivariate_normal([10, 20], [[3, 1], [1, 4]], size=[100,])"
   ]
  },
  {
   "cell_type": "markdown",
   "metadata": {
    "colab_type": "text",
    "id": "Eui7Qgc8hpCH"
   },
   "source": [
    "### 9. Combine all three arrays a,b,c into a dataframe"
   ]
  },
  {
   "cell_type": "code",
   "execution_count": 31,
   "metadata": {
    "colab": {},
    "colab_type": "code",
    "id": "Nle34XhhhpCI"
   },
   "outputs": [
    {
     "data": {
      "text/plain": [
       "(100, 2)"
      ]
     },
     "execution_count": 31,
     "metadata": {},
     "output_type": "execute_result"
    }
   ],
   "source": [
    "a.shape"
   ]
  },
  {
   "cell_type": "code",
   "execution_count": 32,
   "metadata": {
    "colab": {},
    "colab_type": "code",
    "id": "lov1nQqAhpCa"
   },
   "outputs": [
    {
     "data": {
      "text/plain": [
       "(50, 2)"
      ]
     },
     "execution_count": 32,
     "metadata": {},
     "output_type": "execute_result"
    }
   ],
   "source": [
    "b.shape"
   ]
  },
  {
   "cell_type": "code",
   "execution_count": 33,
   "metadata": {},
   "outputs": [
    {
     "data": {
      "text/plain": [
       "(100, 2)"
      ]
     },
     "execution_count": 33,
     "metadata": {},
     "output_type": "execute_result"
    }
   ],
   "source": [
    "c.shape"
   ]
  },
  {
   "cell_type": "code",
   "execution_count": 34,
   "metadata": {},
   "outputs": [],
   "source": [
    "df1=np.concatenate([a,b,c],axis=0)"
   ]
  },
  {
   "cell_type": "code",
   "execution_count": 35,
   "metadata": {},
   "outputs": [
    {
     "data": {
      "text/plain": [
       "array([[ 1.38827849e+01,  4.43850083e+00],\n",
       "       [ 1.16872556e+01,  1.25098137e+00],\n",
       "       [ 1.03163967e+01,  1.44934627e+00],\n",
       "       [ 9.83741213e+00, -2.04197417e+00],\n",
       "       [ 8.69160067e+00, -4.28977303e+00],\n",
       "       [ 9.82416420e+00,  1.44459041e+00],\n",
       "       [ 9.21688905e+00,  9.60681718e-01],\n",
       "       [ 1.01995087e+01, -2.48089865e+00],\n",
       "       [ 1.28133902e+01, -1.25677560e+00],\n",
       "       [ 1.38415115e+01,  4.20915408e+00],\n",
       "       [ 1.25655687e+01, -8.20998424e-01],\n",
       "       [ 6.55074161e+00, -2.17824976e+00],\n",
       "       [ 1.03603694e+01, -5.63362637e-01],\n",
       "       [ 1.04307903e+01,  1.55400680e-01],\n",
       "       [ 1.10083125e+01,  1.41729996e+00],\n",
       "       [ 1.11544662e+01,  9.00239759e-01],\n",
       "       [ 8.44839444e+00, -2.96866713e-01],\n",
       "       [ 9.57057439e+00, -2.11788583e+00],\n",
       "       [ 1.23648141e+01, -1.75653468e+00],\n",
       "       [ 1.28903591e+01, -1.18477066e+00],\n",
       "       [ 9.13620561e+00, -1.97538292e+00],\n",
       "       [ 8.71632766e+00, -2.07810133e+00],\n",
       "       [ 1.09535405e+01,  2.00257747e+00],\n",
       "       [ 1.08174543e+01, -5.84991544e-01],\n",
       "       [ 1.16333075e+01,  4.43425276e+00],\n",
       "       [ 8.69185205e+00, -1.09966477e+00],\n",
       "       [ 9.53665814e+00,  6.57788186e-01],\n",
       "       [ 1.19767187e+01,  1.89914881e-01],\n",
       "       [ 1.13996534e+01, -3.20402815e+00],\n",
       "       [ 9.52051417e+00, -2.56797311e+00],\n",
       "       [ 1.31721565e+01, -9.85289428e-01],\n",
       "       [ 9.87701819e+00, -8.75175370e-01],\n",
       "       [ 1.21285902e+01,  4.05367537e-01],\n",
       "       [ 1.25116592e+01, -1.63101007e+00],\n",
       "       [ 7.89049665e+00, -1.23561404e+00],\n",
       "       [ 9.24928415e+00,  9.36692232e-01],\n",
       "       [ 1.03839225e+01, -3.73088645e+00],\n",
       "       [ 8.27511570e+00,  3.49492592e+00],\n",
       "       [ 1.26866329e+01,  8.47063531e-01],\n",
       "       [ 1.05145955e+01, -2.96246987e+00],\n",
       "       [ 7.69335922e+00, -2.28173272e+00],\n",
       "       [ 1.04541721e+01, -6.91298012e-01],\n",
       "       [ 1.07342111e+01,  5.37759568e-01],\n",
       "       [ 1.10582410e+01, -2.81447245e+00],\n",
       "       [ 1.00461636e+01,  1.65476208e+00],\n",
       "       [ 1.12052716e+01, -2.18128049e+00],\n",
       "       [ 9.53682497e+00,  1.90762251e+00],\n",
       "       [ 1.09080878e+01, -1.54939065e+00],\n",
       "       [ 6.63329815e+00, -2.90256799e+00],\n",
       "       [ 9.20859033e+00,  2.31001159e+00],\n",
       "       [ 1.03505276e+01,  3.84249822e+00],\n",
       "       [ 6.68917268e+00, -1.45361615e+00],\n",
       "       [ 9.50718139e+00,  4.09317052e-01],\n",
       "       [ 9.27361326e+00, -1.49964131e+00],\n",
       "       [ 9.42379786e+00, -1.67664266e+00],\n",
       "       [ 1.12046308e+01,  8.95410198e-01],\n",
       "       [ 9.96403335e+00, -2.70731818e+00],\n",
       "       [ 1.12764291e+01, -3.80175952e-01],\n",
       "       [ 1.05926406e+01,  2.09864504e+00],\n",
       "       [ 9.95421300e+00,  2.00715428e+00],\n",
       "       [ 8.53439978e+00,  2.38831686e+00],\n",
       "       [ 1.07997356e+01,  1.21736290e+00],\n",
       "       [ 8.54237647e+00, -3.33891216e+00],\n",
       "       [ 1.21787117e+01, -2.69167436e+00],\n",
       "       [ 1.32466624e+01, -1.50755170e+00],\n",
       "       [ 9.69051354e+00,  2.03297325e+00],\n",
       "       [ 1.06645537e+01,  3.61386445e-01],\n",
       "       [ 8.92702483e+00,  2.84623626e+00],\n",
       "       [ 8.95642078e+00,  8.61140930e-03],\n",
       "       [ 1.05313490e+01,  2.70319751e-01],\n",
       "       [ 1.12558970e+01,  5.20324633e-02],\n",
       "       [ 1.08275710e+01, -9.51178259e-01],\n",
       "       [ 9.02962555e+00, -3.68483510e-01],\n",
       "       [ 1.06458047e+01,  4.68738477e-01],\n",
       "       [ 1.18194078e+01, -3.60719893e+00],\n",
       "       [ 6.90393118e+00, -5.40509886e-01],\n",
       "       [ 1.19742665e+01,  1.64385946e+00],\n",
       "       [ 9.61675418e+00,  1.23084129e+00],\n",
       "       [ 8.13232154e+00, -2.37814799e+00],\n",
       "       [ 9.96470287e+00, -9.35756237e-02],\n",
       "       [ 1.17347944e+01, -8.35633727e-01],\n",
       "       [ 6.25490066e+00, -4.58454174e-01],\n",
       "       [ 7.38326240e+00,  6.56994279e-01],\n",
       "       [ 8.90672396e+00, -6.23866545e+00],\n",
       "       [ 9.37820131e+00,  8.33989139e-01],\n",
       "       [ 1.18471019e+01, -2.12956236e+00],\n",
       "       [ 1.24553497e+01,  1.33722457e+00],\n",
       "       [ 8.97816738e+00,  1.46737833e+00],\n",
       "       [ 8.61692104e+00,  5.38045890e-01],\n",
       "       [ 1.09192055e+01,  4.55904656e+00],\n",
       "       [ 6.38016403e+00, -1.06332623e+00],\n",
       "       [ 8.71698052e+00,  2.81933325e+00],\n",
       "       [ 1.10639717e+01,  8.80558301e-01],\n",
       "       [ 1.30417660e+01, -2.39979864e+00],\n",
       "       [ 1.00338530e+01, -1.40344054e+00],\n",
       "       [ 7.55580721e+00, -1.61088290e+00],\n",
       "       [ 9.83840522e+00,  2.00497436e+00],\n",
       "       [ 1.08648853e+01, -6.21511604e-01],\n",
       "       [ 9.54701445e+00,  4.85909286e-01],\n",
       "       [ 7.28377367e+00,  1.81428274e+00],\n",
       "       [ 1.07940833e+00,  1.86267748e+01],\n",
       "       [ 2.89254028e+00,  2.26383476e+01],\n",
       "       [ 3.93688172e-01,  2.01448738e+01],\n",
       "       [ 3.98036864e-01,  1.78190648e+01],\n",
       "       [ 3.13790219e-01,  2.20868356e+01],\n",
       "       [-1.17935376e+00,  1.68140158e+01],\n",
       "       [ 8.35379857e-01,  2.26665453e+01],\n",
       "       [ 8.42414801e-01,  2.01518653e+01],\n",
       "       [ 1.79168306e+00,  2.13905716e+01],\n",
       "       [ 6.32047071e-02,  1.76160549e+01],\n",
       "       [-2.98906723e-01,  1.94308096e+01],\n",
       "       [-1.41029030e+00,  2.31175263e+01],\n",
       "       [-4.37745479e-01,  2.24522046e+01],\n",
       "       [ 9.31583447e-01,  1.79580542e+01],\n",
       "       [ 2.80546276e-01,  2.28625251e+01],\n",
       "       [-3.16511627e+00,  1.93551746e+01],\n",
       "       [ 1.13847574e+00,  1.71367889e+01],\n",
       "       [-1.09545925e+00,  2.11455983e+01],\n",
       "       [-1.90181564e+00,  2.08421581e+01],\n",
       "       [ 8.16234119e-01,  1.92699489e+01],\n",
       "       [-4.48615212e-01,  1.67174482e+01],\n",
       "       [ 3.01212487e+00,  2.21445715e+01],\n",
       "       [ 6.14408774e-01,  1.82286211e+01],\n",
       "       [-2.48679936e+00,  1.90729450e+01],\n",
       "       [ 7.82728673e-01,  2.49866537e+01],\n",
       "       [-1.23981620e+00,  1.87380617e+01],\n",
       "       [ 1.83769918e+00,  1.90933676e+01],\n",
       "       [ 2.68230139e+00,  2.03484180e+01],\n",
       "       [ 1.25841886e+00,  2.11724478e+01],\n",
       "       [-1.37847507e+00,  1.73366120e+01],\n",
       "       [-1.76953813e+00,  1.92508165e+01],\n",
       "       [ 2.42231337e+00,  1.77822966e+01],\n",
       "       [ 2.48912145e+00,  2.09981405e+01],\n",
       "       [-1.22188721e+00,  1.80239870e+01],\n",
       "       [ 1.35982783e-01,  1.93604811e+01],\n",
       "       [ 7.58265866e-01,  2.16391585e+01],\n",
       "       [ 1.00859851e+00,  1.96776424e+01],\n",
       "       [ 1.52106737e+00,  2.00895961e+01],\n",
       "       [-4.38496093e+00,  1.57970470e+01],\n",
       "       [-1.50565539e+00,  2.05382800e+01],\n",
       "       [-4.59968246e+00,  2.00956194e+01],\n",
       "       [ 3.09735656e-01,  2.14785014e+01],\n",
       "       [ 1.20369356e+00,  1.69101900e+01],\n",
       "       [ 5.99599294e-01,  1.84452292e+01],\n",
       "       [ 1.07215937e+00,  1.99186277e+01],\n",
       "       [-2.53771914e+00,  1.63830987e+01],\n",
       "       [ 3.96721397e-01,  1.86284242e+01],\n",
       "       [ 5.14691050e+00,  2.38546799e+01],\n",
       "       [-4.83158948e-01,  2.35580589e+01],\n",
       "       [-7.37197939e-02,  2.05867716e+01],\n",
       "       [ 8.81694043e+00,  1.71414898e+01],\n",
       "       [ 1.15710108e+01,  2.15738199e+01],\n",
       "       [ 1.28112185e+01,  2.05880531e+01],\n",
       "       [ 1.21402978e+01,  1.77226486e+01],\n",
       "       [ 8.73857733e+00,  1.86113065e+01],\n",
       "       [ 9.36563772e+00,  2.02627059e+01],\n",
       "       [ 9.69363670e+00,  1.63973295e+01],\n",
       "       [ 1.27550823e+01,  2.29833862e+01],\n",
       "       [ 9.64567744e+00,  2.05084439e+01],\n",
       "       [ 1.12876520e+01,  2.03646051e+01],\n",
       "       [ 9.00252467e+00,  2.01569385e+01],\n",
       "       [ 7.07415068e+00,  1.53596027e+01],\n",
       "       [ 1.16698541e+01,  2.25228918e+01],\n",
       "       [ 7.17943852e+00,  1.78467250e+01],\n",
       "       [ 5.47719903e+00,  1.87553313e+01],\n",
       "       [ 1.19350105e+01,  2.26181042e+01],\n",
       "       [ 7.62681509e+00,  2.26374451e+01],\n",
       "       [ 1.15315439e+01,  2.04281390e+01],\n",
       "       [ 1.00392099e+01,  2.31410225e+01],\n",
       "       [ 1.02285677e+01,  1.66217952e+01],\n",
       "       [ 1.03380985e+01,  2.14208128e+01],\n",
       "       [ 1.31619905e+01,  1.99549801e+01],\n",
       "       [ 1.10426139e+01,  2.01313054e+01],\n",
       "       [ 1.20418106e+01,  2.11130755e+01],\n",
       "       [ 9.95268837e+00,  1.96723656e+01],\n",
       "       [ 6.14643122e+00,  1.76226547e+01],\n",
       "       [ 1.21346217e+01,  2.52521279e+01],\n",
       "       [ 9.83490077e+00,  1.57696035e+01],\n",
       "       [ 1.03088593e+01,  2.43538222e+01],\n",
       "       [ 9.74884695e+00,  2.02400790e+01],\n",
       "       [ 8.54597899e+00,  2.01193561e+01],\n",
       "       [ 8.41249680e+00,  1.88814041e+01],\n",
       "       [ 1.03744187e+01,  2.11650961e+01],\n",
       "       [ 1.04657008e+01,  2.02972850e+01],\n",
       "       [ 8.92275695e+00,  2.01713779e+01],\n",
       "       [ 8.54064790e+00,  1.87351694e+01],\n",
       "       [ 8.10044932e+00,  2.11336306e+01],\n",
       "       [ 1.04001516e+01,  1.77670899e+01],\n",
       "       [ 9.23762459e+00,  1.84074602e+01],\n",
       "       [ 1.00429132e+01,  1.63691218e+01],\n",
       "       [ 1.18648844e+01,  2.22624478e+01],\n",
       "       [ 1.07543003e+01,  1.98523415e+01],\n",
       "       [ 8.91355458e+00,  2.03283631e+01],\n",
       "       [ 1.00216155e+01,  2.21684300e+01],\n",
       "       [ 1.21432088e+01,  1.97299130e+01],\n",
       "       [ 8.45958903e+00,  1.79339108e+01],\n",
       "       [ 7.18410307e+00,  2.17744735e+01],\n",
       "       [ 9.53507833e+00,  1.90370495e+01],\n",
       "       [ 9.85500559e+00,  1.68268032e+01],\n",
       "       [ 1.38288378e+01,  2.18499958e+01],\n",
       "       [ 1.19725918e+01,  2.40484064e+01],\n",
       "       [ 1.17931128e+01,  2.19013354e+01],\n",
       "       [ 7.36445055e+00,  1.85113148e+01],\n",
       "       [ 7.21074177e+00,  2.07107856e+01],\n",
       "       [ 1.00156849e+01,  1.99329813e+01],\n",
       "       [ 1.36634392e+01,  2.50323213e+01],\n",
       "       [ 1.23004067e+01,  2.20811744e+01],\n",
       "       [ 7.95168007e+00,  1.95317424e+01],\n",
       "       [ 8.91279066e+00,  1.92241531e+01],\n",
       "       [ 1.29599917e+01,  2.11170077e+01],\n",
       "       [ 9.23194091e+00,  1.94841087e+01],\n",
       "       [ 8.84913330e+00,  1.86936050e+01],\n",
       "       [ 9.58603589e+00,  2.09551761e+01],\n",
       "       [ 9.32194821e+00,  2.07778909e+01],\n",
       "       [ 1.18283659e+01,  2.22838801e+01],\n",
       "       [ 1.12228850e+01,  1.77999262e+01],\n",
       "       [ 7.84782996e+00,  1.69020319e+01],\n",
       "       [ 1.33838504e+01,  2.18272052e+01],\n",
       "       [ 1.08622147e+01,  2.15028656e+01],\n",
       "       [ 1.21459286e+01,  2.12940042e+01],\n",
       "       [ 9.89590622e+00,  2.28420782e+01],\n",
       "       [ 1.00735995e+01,  2.28146627e+01],\n",
       "       [ 8.52981532e+00,  1.76472489e+01],\n",
       "       [ 1.16154643e+01,  1.88194179e+01],\n",
       "       [ 1.01846111e+01,  1.93446337e+01],\n",
       "       [ 7.21598712e+00,  1.91454154e+01],\n",
       "       [ 1.03594499e+01,  1.88515174e+01],\n",
       "       [ 1.15619991e+01,  2.56525808e+01],\n",
       "       [ 1.16861785e+01,  2.35719892e+01],\n",
       "       [ 9.66492623e+00,  2.38228508e+01],\n",
       "       [ 1.05099326e+01,  2.03533733e+01],\n",
       "       [ 9.12623738e+00,  1.93968685e+01],\n",
       "       [ 1.01700062e+01,  1.98924954e+01],\n",
       "       [ 6.18059942e+00,  1.75385357e+01],\n",
       "       [ 5.33876435e+00,  2.06307105e+01],\n",
       "       [ 9.41334366e+00,  1.68612517e+01],\n",
       "       [ 9.12030833e+00,  2.13234296e+01],\n",
       "       [ 1.10524837e+01,  2.17273540e+01],\n",
       "       [ 9.75431789e+00,  1.77639619e+01],\n",
       "       [ 1.10448577e+01,  2.27379062e+01],\n",
       "       [ 1.12187781e+01,  2.11123764e+01],\n",
       "       [ 8.71263976e+00,  2.16186003e+01],\n",
       "       [ 6.97165677e+00,  1.83981280e+01],\n",
       "       [ 1.02639786e+01,  2.06283016e+01],\n",
       "       [ 1.14870169e+01,  1.86043105e+01],\n",
       "       [ 9.24884822e+00,  2.43462914e+01],\n",
       "       [ 6.95829136e+00,  1.64486547e+01],\n",
       "       [ 1.12600419e+01,  2.03335774e+01],\n",
       "       [ 6.88983527e+00,  2.12382971e+01],\n",
       "       [ 1.12214979e+01,  2.40250934e+01]])"
      ]
     },
     "execution_count": 35,
     "metadata": {},
     "output_type": "execute_result"
    }
   ],
   "source": [
    "df1"
   ]
  },
  {
   "cell_type": "markdown",
   "metadata": {
    "colab_type": "text",
    "id": "v6JlILlihpCe"
   },
   "source": [
    "### 10. Use scatter matrix to print all the 3 distributions"
   ]
  },
  {
   "cell_type": "code",
   "execution_count": 36,
   "metadata": {
    "colab": {},
    "colab_type": "code",
    "id": "i6Nf9LznhpCg"
   },
   "outputs": [],
   "source": [
    "import matplotlib.pyplot as pl\n"
   ]
  },
  {
   "cell_type": "code",
   "execution_count": 76,
   "metadata": {},
   "outputs": [
    {
     "data": {
      "text/html": [
       "<div>\n",
       "<style scoped>\n",
       "    .dataframe tbody tr th:only-of-type {\n",
       "        vertical-align: middle;\n",
       "    }\n",
       "\n",
       "    .dataframe tbody tr th {\n",
       "        vertical-align: top;\n",
       "    }\n",
       "\n",
       "    .dataframe thead th {\n",
       "        text-align: right;\n",
       "    }\n",
       "</style>\n",
       "<table border=\"1\" class=\"dataframe\">\n",
       "  <thead>\n",
       "    <tr style=\"text-align: right;\">\n",
       "      <th></th>\n",
       "      <th>0</th>\n",
       "      <th>1</th>\n",
       "    </tr>\n",
       "  </thead>\n",
       "  <tbody>\n",
       "    <tr>\n",
       "      <th>0</th>\n",
       "      <td>13.882785</td>\n",
       "      <td>4.438501</td>\n",
       "    </tr>\n",
       "    <tr>\n",
       "      <th>1</th>\n",
       "      <td>11.687256</td>\n",
       "      <td>1.250981</td>\n",
       "    </tr>\n",
       "    <tr>\n",
       "      <th>2</th>\n",
       "      <td>10.316397</td>\n",
       "      <td>1.449346</td>\n",
       "    </tr>\n",
       "    <tr>\n",
       "      <th>3</th>\n",
       "      <td>9.837412</td>\n",
       "      <td>-2.041974</td>\n",
       "    </tr>\n",
       "    <tr>\n",
       "      <th>4</th>\n",
       "      <td>8.691601</td>\n",
       "      <td>-4.289773</td>\n",
       "    </tr>\n",
       "  </tbody>\n",
       "</table>\n",
       "</div>"
      ],
      "text/plain": [
       "           0         1\n",
       "0  13.882785  4.438501\n",
       "1  11.687256  1.250981\n",
       "2  10.316397  1.449346\n",
       "3   9.837412 -2.041974\n",
       "4   8.691601 -4.289773"
      ]
     },
     "execution_count": 76,
     "metadata": {},
     "output_type": "execute_result"
    }
   ],
   "source": [
    "df_.head()"
   ]
  },
  {
   "cell_type": "code",
   "execution_count": 79,
   "metadata": {},
   "outputs": [],
   "source": [
    "df_=pd.DataFrame(df1)"
   ]
  },
  {
   "cell_type": "code",
   "execution_count": null,
   "metadata": {},
   "outputs": [],
   "source": []
  },
  {
   "cell_type": "code",
   "execution_count": 39,
   "metadata": {},
   "outputs": [],
   "source": [
    "import seaborn as sns"
   ]
  },
  {
   "cell_type": "code",
   "execution_count": 40,
   "metadata": {
    "colab": {},
    "colab_type": "code",
    "id": "hILsbwkOhpCk",
    "scrolled": true
   },
   "outputs": [
    {
     "data": {
      "text/plain": [
       "<seaborn.axisgrid.PairGrid at 0x21ac1bcd390>"
      ]
     },
     "execution_count": 40,
     "metadata": {},
     "output_type": "execute_result"
    },
    {
     "data": {
      "image/png": "[encoded data removed]",
      "text/plain": [
       "<Figure size 360x360 with 6 Axes>"
      ]
     },
     "metadata": {
      "needs_background": "light"
     },
     "output_type": "display_data"
    }
   ],
   "source": [
    "\n",
    "sns.pairplot(df_,diag_kind=\"kde\")"
   ]
  },
  {
   "cell_type": "markdown",
   "metadata": {
    "colab_type": "text",
    "id": "Ufj36K5NhpCo"
   },
   "source": [
    "### 11. Find out the linkage matrix"
   ]
  },
  {
   "cell_type": "code",
   "execution_count": 41,
   "metadata": {
    "colab": {},
    "colab_type": "code",
    "id": "rXJAOAilhpCp"
   },
   "outputs": [],
   "source": [
    "from scipy.cluster.hierarchy import cophenet, dendrogram, linkage,fcluster\n",
    "from scipy.spatial.distance import pdist"
   ]
  },
  {
   "cell_type": "markdown",
   "metadata": {
    "colab_type": "text",
    "id": "EOxwi5gshpCt"
   },
   "source": [
    "Use ward as linkage metric and distance as Eucledian"
   ]
  },
  {
   "cell_type": "code",
   "execution_count": 42,
   "metadata": {
    "colab": {},
    "colab_type": "code",
    "id": "xJsL16lqhpCu"
   },
   "outputs": [],
   "source": [
    "Z = linkage(df_,  method='ward', metric='euclidean')\n",
    "c, coph_dists = cophenet(Z , pdist(df_))"
   ]
  },
  {
   "cell_type": "code",
   "execution_count": 43,
   "metadata": {
    "colab": {},
    "colab_type": "code",
    "id": "A6YN_sjhhpC4"
   },
   "outputs": [
    {
     "name": "stdout",
     "output_type": "stream",
     "text": [
      "0.9536963071171022\n",
      "[15.12827327 12.18800623 22.5539862  ... 12.51942991 28.21332913\n",
      " 28.21332913]\n"
     ]
    }
   ],
   "source": [
    "print(c)\n",
    "print(coph_dists)"
   ]
  },
  {
   "cell_type": "code",
   "execution_count": 44,
   "metadata": {},
   "outputs": [],
   "source": [
    "distDf = pd.DataFrame(list(coph_dists), columns=['clusterDist'])\n",
    "distDf['ecludianDist'] = pdist(df_)"
   ]
  },
  {
   "cell_type": "code",
   "execution_count": 45,
   "metadata": {},
   "outputs": [
    {
     "data": {
      "text/html": [
       "<div>\n",
       "<style scoped>\n",
       "    .dataframe tbody tr th:only-of-type {\n",
       "        vertical-align: middle;\n",
       "    }\n",
       "\n",
       "    .dataframe tbody tr th {\n",
       "        vertical-align: top;\n",
       "    }\n",
       "\n",
       "    .dataframe thead th {\n",
       "        text-align: right;\n",
       "    }\n",
       "</style>\n",
       "<table border=\"1\" class=\"dataframe\">\n",
       "  <thead>\n",
       "    <tr style=\"text-align: right;\">\n",
       "      <th></th>\n",
       "      <th>clusterDist</th>\n",
       "      <th>ecludianDist</th>\n",
       "    </tr>\n",
       "  </thead>\n",
       "  <tbody>\n",
       "    <tr>\n",
       "      <th>0</th>\n",
       "      <td>15.128273</td>\n",
       "      <td>3.870482</td>\n",
       "    </tr>\n",
       "    <tr>\n",
       "      <th>1</th>\n",
       "      <td>12.188006</td>\n",
       "      <td>4.653404</td>\n",
       "    </tr>\n",
       "    <tr>\n",
       "      <th>2</th>\n",
       "      <td>22.553986</td>\n",
       "      <td>7.639476</td>\n",
       "    </tr>\n",
       "    <tr>\n",
       "      <th>3</th>\n",
       "      <td>22.553986</td>\n",
       "      <td>10.155351</td>\n",
       "    </tr>\n",
       "    <tr>\n",
       "      <th>4</th>\n",
       "      <td>12.188006</td>\n",
       "      <td>5.043402</td>\n",
       "    </tr>\n",
       "  </tbody>\n",
       "</table>\n",
       "</div>"
      ],
      "text/plain": [
       "   clusterDist  ecludianDist\n",
       "0    15.128273      3.870482\n",
       "1    12.188006      4.653404\n",
       "2    22.553986      7.639476\n",
       "3    22.553986     10.155351\n",
       "4    12.188006      5.043402"
      ]
     },
     "execution_count": 45,
     "metadata": {},
     "output_type": "execute_result"
    }
   ],
   "source": [
    "distDf.head()"
   ]
  },
  {
   "cell_type": "markdown",
   "metadata": {
    "colab_type": "text",
    "id": "UnVS8VYMhpC9"
   },
   "source": [
    "### 12. Plot the dendrogram for the consolidated dataframe"
   ]
  },
  {
   "cell_type": "code",
   "execution_count": 46,
   "metadata": {
    "colab": {},
    "colab_type": "code",
    "id": "oeLtemVqhpC_"
   },
   "outputs": [
    {
     "data": {
      "image/png": "[encoded data removed]",
      "text/plain": [
       "<Figure size 720x720 with 1 Axes>"
      ]
     },
     "metadata": {
      "needs_background": "light"
     },
     "output_type": "display_data"
    }
   ],
   "source": [
    "plt.figure(figsize=(10, 10))\n",
    "plt.title('Agglomerative Hierarchical Clustering Dendogram')\n",
    "plt.xlabel('sample index')\n",
    "plt.ylabel('Distance')\n",
    "dendrogram(Z)\n",
    "plt.tight_layout()"
   ]
  },
  {
   "cell_type": "code",
   "execution_count": null,
   "metadata": {
    "colab": {},
    "colab_type": "code",
    "id": "TMfqcHfuhpDH"
   },
   "outputs": [],
   "source": []
  },
  {
   "cell_type": "code",
   "execution_count": null,
   "metadata": {
    "colab": {},
    "colab_type": "code",
    "id": "PJhBRBIwhpDM"
   },
   "outputs": [],
   "source": []
  },
  {
   "cell_type": "markdown",
   "metadata": {
    "colab_type": "text",
    "id": "QXE-T9cHhpDS"
   },
   "source": [
    "### 13. Recreate the dendrogram for last 12 merged clusters "
   ]
  },
  {
   "cell_type": "code",
   "execution_count": 47,
   "metadata": {
    "colab": {},
    "colab_type": "code",
    "id": "2D0Vw56BhpDT"
   },
   "outputs": [
    {
     "data": {
      "image/png": "[encoded data removed]",
      "text/plain": [
       "<Figure size 720x720 with 1 Axes>"
      ]
     },
     "metadata": {
      "needs_background": "light"
     },
     "output_type": "display_data"
    }
   ],
   "source": [
    "plt.figure(figsize=(10, 10))\n",
    "plt.title('Agglomerative Hierarchical Clustering Dendogram')\n",
    "plt.xlabel('sample index')\n",
    "plt.ylabel('Distance')\n",
    "dendrogram(Z,p=12, truncate_mode='lastp')\n",
    "plt.tight_layout()"
   ]
  },
  {
   "cell_type": "markdown",
   "metadata": {
    "colab_type": "text",
    "id": "4PKR3o5QhpDX"
   },
   "source": [
    "Hint: Use truncate_mode='lastp' attribute in dendrogram function to arrive at dendrogram "
   ]
  },
  {
   "cell_type": "code",
   "execution_count": null,
   "metadata": {
    "colab": {},
    "colab_type": "code",
    "id": "GDri9xtAhpDY"
   },
   "outputs": [],
   "source": []
  },
  {
   "cell_type": "code",
   "execution_count": null,
   "metadata": {
    "colab": {},
    "colab_type": "code",
    "id": "k4GVCz44hpDg"
   },
   "outputs": [],
   "source": []
  },
  {
   "cell_type": "markdown",
   "metadata": {
    "colab_type": "text",
    "id": "zjFjCWL5hpDr"
   },
   "source": [
    "### 14. From the truncated dendrogram, find out the optimal distance between clusters which u want to use an input for clustering data"
   ]
  },
  {
   "cell_type": "markdown",
   "metadata": {
    "colab": {},
    "colab_type": "code",
    "id": "DQ5m6orQhpDt"
   },
   "source": [
    "here the optimal distance is 50 as it creating 3 defferent clusters."
   ]
  },
  {
   "cell_type": "markdown",
   "metadata": {
    "colab": {},
    "colab_type": "code",
    "id": "5-yUhkgMhpDx"
   },
   "source": [
    "here the optimal distance is 50 as we create 3 optimal clusters"
   ]
  },
  {
   "cell_type": "markdown",
   "metadata": {
    "colab_type": "text",
    "id": "owSZBbSUhpEC"
   },
   "source": [
    "### 15. Using this distance measure and fcluster function to cluster the data into 3 different groups"
   ]
  },
  {
   "cell_type": "code",
   "execution_count": 51,
   "metadata": {
    "colab": {},
    "colab_type": "code",
    "id": "HLVorGUEhpEE"
   },
   "outputs": [],
   "source": [
    "clust=fcluster(Z,t=50,criterion='distance')"
   ]
  },
  {
   "cell_type": "code",
   "execution_count": 52,
   "metadata": {
    "colab": {},
    "colab_type": "code",
    "id": "Rgty9iOlhpEL"
   },
   "outputs": [
    {
     "name": "stdout",
     "output_type": "stream",
     "text": [
      "[1 1 1 1 1 1 1 1 1 1 1 1 1 1 1 1 1 1 1 1 1 1 1 1 1 1 1 1 1 1 1 1 1 1 1 1 1\n",
      " 1 1 1 1 1 1 1 1 1 1 1 1 1 1 1 1 1 1 1 1 1 1 1 1 1 1 1 1 1 1 1 1 1 1 1 1 1\n",
      " 1 1 1 1 1 1 1 1 1 1 1 1 1 1 1 1 1 1 1 1 1 1 1 1 1 1 2 2 2 2 2 2 2 2 2 2 2\n",
      " 2 2 2 2 2 2 2 2 2 2 2 2 2 2 2 2 2 2 2 2 2 2 2 2 2 2 2 2 2 2 2 2 2 2 2 2 3\n",
      " 2 2 3 3 3 3 3 3 3 3 3 3 3 3 3 3 3 3 3 3 3 3 3 3 3 3 3 3 3 3 3 3 3 3 3 3 3\n",
      " 3 3 3 3 3 3 3 3 3 3 3 3 3 3 3 3 3 3 3 3 3 3 3 3 3 3 3 3 3 3 3 3 3 3 3 3 3\n",
      " 3 3 3 3 3 3 3 3 3 3 3 3 3 3 3 3 3 3 3 3 3 3 3 3 3 3 3 3]\n"
     ]
    }
   ],
   "source": [
    "print(clust)"
   ]
  },
  {
   "cell_type": "code",
   "execution_count": 75,
   "metadata": {},
   "outputs": [
    {
     "data": {
      "text/plain": [
       "RangeIndex(start=0, stop=250, step=1)"
      ]
     },
     "execution_count": 75,
     "metadata": {},
     "output_type": "execute_result"
    }
   ],
   "source": []
  },
  {
   "cell_type": "markdown",
   "metadata": {
    "colab_type": "text",
    "id": "642Ur5TWhpEX"
   },
   "source": [
    "### Use matplotlib to visually observe the clusters in 2D space "
   ]
  },
  {
   "cell_type": "code",
   "execution_count": 82,
   "metadata": {
    "colab": {},
    "colab_type": "code",
    "id": "YHHSylfQhpEX"
   },
   "outputs": [
    {
     "data": {
      "text/plain": [
       "<matplotlib.collections.PathCollection at 0x21ac442f3c8>"
      ]
     },
     "execution_count": 82,
     "metadata": {},
     "output_type": "execute_result"
    },
    {
     "data": {
      "image/png": "[encoded data removed]",
      "text/plain": [
       "<Figure size 432x288 with 1 Axes>"
      ]
     },
     "metadata": {
      "needs_background": "light"
     },
     "output_type": "display_data"
    }
   ],
   "source": [
    "plt.scatter(df_[0],df_[1],c=clust)\n"
   ]
  },
  {
   "cell_type": "code",
   "execution_count": null,
   "metadata": {},
   "outputs": [],
   "source": []
  }
 ],
 "metadata": {
  "colab": {
   "collapsed_sections": [
    "n2kFVi2GhpBn",
    "Ufj36K5NhpCo",
    "zjFjCWL5hpDr",
    "owSZBbSUhpEC",
    "642Ur5TWhpEX"
   ],
   "name": "R4_Internal_Lab_Clustering.ipynb",
   "provenance": []
  },
  "kernelspec": {
   "display_name": "Python 3",
   "language": "python",
   "name": "python3"
  },
  "language_info": {
   "codemirror_mode": {
    "name": "ipython",
    "version": 3
   },
   "file_extension": ".py",
   "mimetype": "text/x-python",
   "name": "python",
   "nbconvert_exporter": "python",
   "pygments_lexer": "ipython3",
   "version": "3.7.3"
  }
 },
 "nbformat": 4,
 "nbformat_minor": 1
}
