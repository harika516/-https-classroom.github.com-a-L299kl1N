{
 "cells": [
  {
   "cell_type": "markdown",
   "metadata": {
    "colab_type": "text",
    "id": "BjiHy_F5EJbT"
   },
   "source": [
    "# ----------------------------------------------------------------------\n",
    "# Supervised Learning - Logistic Regression\n",
    "# ----------------------------------------------------------------------\n",
    "\n",
    "## Building a Student Performace Prediction System\n"
   ]
  },
  {
   "cell_type": "markdown",
   "metadata": {
    "colab_type": "text",
    "id": "LNLSVz7BEJbU"
   },
   "source": [
    "# Classification vs. Regression\n",
    "The aim of this project is to predict how likely a student is to pass. Which type of supervised learning problem is this, classification or regression? Why?\n",
    "Answer:\n",
    "This project is a classification supervised learning problem because the variable to predict, i.e. if a student graduates or fails to graduate, is categorical. On this case this a dichotomous categorical variable where the only two possible values are \"pass\" or \"fail\"."
   ]
  },
  {
   "cell_type": "markdown",
   "metadata": {
    "colab_type": "text",
    "id": "1bZUp68LEJbV"
   },
   "source": [
    "### Overview:\n",
    "\n",
    "1.Read the problem statement.\n",
    "\n",
    "2.Get the dataset.\n",
    "\n",
    "3.Explore the dataset.\n",
    "\n",
    "4.Pre-processing of dataset.\n",
    "\n",
    "5.Transform the dataset for building machine learning model.\n",
    "\n",
    "6.Split data into train, test set.\n",
    "\n",
    "7.Build Model.\n",
    "\n",
    "8.Apply the model.\n",
    "\n",
    "9.Evaluate the model.\n",
    "\n",
    "10.Provide insights."
   ]
  },
  {
   "cell_type": "markdown",
   "metadata": {
    "colab_type": "text",
    "id": "ul8NO9UsEJbW"
   },
   "source": [
    "## Problem Statement \n",
    "\n",
    "Using Logistic Regression **predict the performance of student**. The classification goal is to predict whether the student will pass or fail.\n",
    "\n",
    "## Dataset \n",
    "\n",
    "This data approach student achievement in secondary education of two Portuguese schools. The data attributes include student grades, demographic, social and school related features) and it was collected by using school reports and questionnaires. Two datasets are provided regarding the performance in Mathematics.\n",
    "\n",
    "**Source:** https://archive.ics.uci.edu/ml/datasets/Student+Performance"
   ]
  },
  {
   "cell_type": "markdown",
   "metadata": {
    "colab_type": "text",
    "id": "fE9H3PynEJbW"
   },
   "source": [
    "# Exploring the Data - Reading the dataset file using pandas. Take care about the delimiter.\n"
   ]
  },
  {
   "cell_type": "code",
   "execution_count": 368,
   "metadata": {},
   "outputs": [],
   "source": [
    "import numpy as np\n",
    "import pandas as pd\n",
    "import matplotlib.pyplot as plt "
   ]
  },
  {
   "cell_type": "code",
   "execution_count": 390,
   "metadata": {
    "colab": {},
    "colab_type": "code",
    "id": "w1jC9ya9EJbX"
   },
   "outputs": [],
   "source": [
    "# Read dataset using pandas\n",
    "sd = pd.read_csv(\"students-data.csv\", delimiter=\";\")"
   ]
  },
  {
   "cell_type": "code",
   "execution_count": 391,
   "metadata": {},
   "outputs": [
    {
     "data": {
      "text/html": [
       "<div>\n",
       "<style scoped>\n",
       "    .dataframe tbody tr th:only-of-type {\n",
       "        vertical-align: middle;\n",
       "    }\n",
       "\n",
       "    .dataframe tbody tr th {\n",
       "        vertical-align: top;\n",
       "    }\n",
       "\n",
       "    .dataframe thead th {\n",
       "        text-align: right;\n",
       "    }\n",
       "</style>\n",
       "<table border=\"1\" class=\"dataframe\">\n",
       "  <thead>\n",
       "    <tr style=\"text-align: right;\">\n",
       "      <th></th>\n",
       "      <th>school</th>\n",
       "      <th>sex</th>\n",
       "      <th>age</th>\n",
       "      <th>address</th>\n",
       "      <th>famsize</th>\n",
       "      <th>Pstatus</th>\n",
       "      <th>Medu</th>\n",
       "      <th>Fedu</th>\n",
       "      <th>Mjob</th>\n",
       "      <th>Fjob</th>\n",
       "      <th>...</th>\n",
       "      <th>famrel</th>\n",
       "      <th>freetime</th>\n",
       "      <th>goout</th>\n",
       "      <th>Dalc</th>\n",
       "      <th>Walc</th>\n",
       "      <th>health</th>\n",
       "      <th>absences</th>\n",
       "      <th>G1</th>\n",
       "      <th>G2</th>\n",
       "      <th>G3</th>\n",
       "    </tr>\n",
       "  </thead>\n",
       "  <tbody>\n",
       "    <tr>\n",
       "      <th>0</th>\n",
       "      <td>GP</td>\n",
       "      <td>F</td>\n",
       "      <td>18</td>\n",
       "      <td>U</td>\n",
       "      <td>GT3</td>\n",
       "      <td>A</td>\n",
       "      <td>4</td>\n",
       "      <td>4</td>\n",
       "      <td>at_home</td>\n",
       "      <td>teacher</td>\n",
       "      <td>...</td>\n",
       "      <td>4</td>\n",
       "      <td>3</td>\n",
       "      <td>4</td>\n",
       "      <td>1</td>\n",
       "      <td>1</td>\n",
       "      <td>3</td>\n",
       "      <td>6</td>\n",
       "      <td>5</td>\n",
       "      <td>6</td>\n",
       "      <td>6</td>\n",
       "    </tr>\n",
       "    <tr>\n",
       "      <th>1</th>\n",
       "      <td>GP</td>\n",
       "      <td>F</td>\n",
       "      <td>17</td>\n",
       "      <td>U</td>\n",
       "      <td>GT3</td>\n",
       "      <td>T</td>\n",
       "      <td>1</td>\n",
       "      <td>1</td>\n",
       "      <td>at_home</td>\n",
       "      <td>other</td>\n",
       "      <td>...</td>\n",
       "      <td>5</td>\n",
       "      <td>3</td>\n",
       "      <td>3</td>\n",
       "      <td>1</td>\n",
       "      <td>1</td>\n",
       "      <td>3</td>\n",
       "      <td>4</td>\n",
       "      <td>5</td>\n",
       "      <td>5</td>\n",
       "      <td>6</td>\n",
       "    </tr>\n",
       "    <tr>\n",
       "      <th>2</th>\n",
       "      <td>GP</td>\n",
       "      <td>F</td>\n",
       "      <td>15</td>\n",
       "      <td>U</td>\n",
       "      <td>LE3</td>\n",
       "      <td>T</td>\n",
       "      <td>1</td>\n",
       "      <td>1</td>\n",
       "      <td>at_home</td>\n",
       "      <td>other</td>\n",
       "      <td>...</td>\n",
       "      <td>4</td>\n",
       "      <td>3</td>\n",
       "      <td>2</td>\n",
       "      <td>2</td>\n",
       "      <td>3</td>\n",
       "      <td>3</td>\n",
       "      <td>10</td>\n",
       "      <td>7</td>\n",
       "      <td>8</td>\n",
       "      <td>10</td>\n",
       "    </tr>\n",
       "    <tr>\n",
       "      <th>3</th>\n",
       "      <td>GP</td>\n",
       "      <td>F</td>\n",
       "      <td>15</td>\n",
       "      <td>U</td>\n",
       "      <td>GT3</td>\n",
       "      <td>T</td>\n",
       "      <td>4</td>\n",
       "      <td>2</td>\n",
       "      <td>health</td>\n",
       "      <td>services</td>\n",
       "      <td>...</td>\n",
       "      <td>3</td>\n",
       "      <td>2</td>\n",
       "      <td>2</td>\n",
       "      <td>1</td>\n",
       "      <td>1</td>\n",
       "      <td>5</td>\n",
       "      <td>2</td>\n",
       "      <td>15</td>\n",
       "      <td>14</td>\n",
       "      <td>15</td>\n",
       "    </tr>\n",
       "    <tr>\n",
       "      <th>4</th>\n",
       "      <td>GP</td>\n",
       "      <td>F</td>\n",
       "      <td>16</td>\n",
       "      <td>U</td>\n",
       "      <td>GT3</td>\n",
       "      <td>T</td>\n",
       "      <td>3</td>\n",
       "      <td>3</td>\n",
       "      <td>other</td>\n",
       "      <td>other</td>\n",
       "      <td>...</td>\n",
       "      <td>4</td>\n",
       "      <td>3</td>\n",
       "      <td>2</td>\n",
       "      <td>1</td>\n",
       "      <td>2</td>\n",
       "      <td>5</td>\n",
       "      <td>4</td>\n",
       "      <td>6</td>\n",
       "      <td>10</td>\n",
       "      <td>10</td>\n",
       "    </tr>\n",
       "  </tbody>\n",
       "</table>\n",
       "<p>5 rows × 33 columns</p>\n",
       "</div>"
      ],
      "text/plain": [
       "  school sex  age address famsize Pstatus  Medu  Fedu     Mjob      Fjob  ...  \\\n",
       "0     GP   F   18       U     GT3       A     4     4  at_home   teacher  ...   \n",
       "1     GP   F   17       U     GT3       T     1     1  at_home     other  ...   \n",
       "2     GP   F   15       U     LE3       T     1     1  at_home     other  ...   \n",
       "3     GP   F   15       U     GT3       T     4     2   health  services  ...   \n",
       "4     GP   F   16       U     GT3       T     3     3    other     other  ...   \n",
       "\n",
       "  famrel freetime  goout  Dalc  Walc health absences  G1  G2  G3  \n",
       "0      4        3      4     1     1      3        6   5   6   6  \n",
       "1      5        3      3     1     1      3        4   5   5   6  \n",
       "2      4        3      2     2     3      3       10   7   8  10  \n",
       "3      3        2      2     1     1      5        2  15  14  15  \n",
       "4      4        3      2     1     2      5        4   6  10  10  \n",
       "\n",
       "[5 rows x 33 columns]"
      ]
     },
     "execution_count": 391,
     "metadata": {},
     "output_type": "execute_result"
    }
   ],
   "source": [
    "sd.head()"
   ]
  },
  {
   "cell_type": "markdown",
   "metadata": {
    "colab_type": "text",
    "id": "zcjdej9BEJba"
   },
   "source": [
    "# Q1. Drop missing values\n",
    "*Set the index name of the dataframe to **\"number\"**. Check sample of data to drop if any missing values are there.*\n",
    "*Use .dropna() function to drop the NAs*\n",
    "\n",
    "#### Answer:"
   ]
  },
  {
   "cell_type": "code",
   "execution_count": 392,
   "metadata": {
    "colab": {},
    "colab_type": "code",
    "id": "VzdDCsMdEJba"
   },
   "outputs": [],
   "source": [
    "sd.index.name=\"number\""
   ]
  },
  {
   "cell_type": "code",
   "execution_count": 393,
   "metadata": {},
   "outputs": [
    {
     "data": {
      "text/plain": [
       "'number'"
      ]
     },
     "execution_count": 393,
     "metadata": {},
     "output_type": "execute_result"
    }
   ],
   "source": [
    "sd.index.name\n"
   ]
  },
  {
   "cell_type": "code",
   "execution_count": 394,
   "metadata": {},
   "outputs": [
    {
     "data": {
      "text/html": [
       "<div>\n",
       "<style scoped>\n",
       "    .dataframe tbody tr th:only-of-type {\n",
       "        vertical-align: middle;\n",
       "    }\n",
       "\n",
       "    .dataframe tbody tr th {\n",
       "        vertical-align: top;\n",
       "    }\n",
       "\n",
       "    .dataframe thead th {\n",
       "        text-align: right;\n",
       "    }\n",
       "</style>\n",
       "<table border=\"1\" class=\"dataframe\">\n",
       "  <thead>\n",
       "    <tr style=\"text-align: right;\">\n",
       "      <th></th>\n",
       "      <th>school</th>\n",
       "      <th>sex</th>\n",
       "      <th>age</th>\n",
       "      <th>address</th>\n",
       "      <th>famsize</th>\n",
       "      <th>Pstatus</th>\n",
       "      <th>Medu</th>\n",
       "      <th>Fedu</th>\n",
       "      <th>Mjob</th>\n",
       "      <th>Fjob</th>\n",
       "      <th>...</th>\n",
       "      <th>famrel</th>\n",
       "      <th>freetime</th>\n",
       "      <th>goout</th>\n",
       "      <th>Dalc</th>\n",
       "      <th>Walc</th>\n",
       "      <th>health</th>\n",
       "      <th>absences</th>\n",
       "      <th>G1</th>\n",
       "      <th>G2</th>\n",
       "      <th>G3</th>\n",
       "    </tr>\n",
       "    <tr>\n",
       "      <th>number</th>\n",
       "      <th></th>\n",
       "      <th></th>\n",
       "      <th></th>\n",
       "      <th></th>\n",
       "      <th></th>\n",
       "      <th></th>\n",
       "      <th></th>\n",
       "      <th></th>\n",
       "      <th></th>\n",
       "      <th></th>\n",
       "      <th></th>\n",
       "      <th></th>\n",
       "      <th></th>\n",
       "      <th></th>\n",
       "      <th></th>\n",
       "      <th></th>\n",
       "      <th></th>\n",
       "      <th></th>\n",
       "      <th></th>\n",
       "      <th></th>\n",
       "      <th></th>\n",
       "    </tr>\n",
       "  </thead>\n",
       "  <tbody>\n",
       "    <tr>\n",
       "      <th>0</th>\n",
       "      <td>GP</td>\n",
       "      <td>F</td>\n",
       "      <td>18</td>\n",
       "      <td>U</td>\n",
       "      <td>GT3</td>\n",
       "      <td>A</td>\n",
       "      <td>4</td>\n",
       "      <td>4</td>\n",
       "      <td>at_home</td>\n",
       "      <td>teacher</td>\n",
       "      <td>...</td>\n",
       "      <td>4</td>\n",
       "      <td>3</td>\n",
       "      <td>4</td>\n",
       "      <td>1</td>\n",
       "      <td>1</td>\n",
       "      <td>3</td>\n",
       "      <td>6</td>\n",
       "      <td>5</td>\n",
       "      <td>6</td>\n",
       "      <td>6</td>\n",
       "    </tr>\n",
       "    <tr>\n",
       "      <th>1</th>\n",
       "      <td>GP</td>\n",
       "      <td>F</td>\n",
       "      <td>17</td>\n",
       "      <td>U</td>\n",
       "      <td>GT3</td>\n",
       "      <td>T</td>\n",
       "      <td>1</td>\n",
       "      <td>1</td>\n",
       "      <td>at_home</td>\n",
       "      <td>other</td>\n",
       "      <td>...</td>\n",
       "      <td>5</td>\n",
       "      <td>3</td>\n",
       "      <td>3</td>\n",
       "      <td>1</td>\n",
       "      <td>1</td>\n",
       "      <td>3</td>\n",
       "      <td>4</td>\n",
       "      <td>5</td>\n",
       "      <td>5</td>\n",
       "      <td>6</td>\n",
       "    </tr>\n",
       "  </tbody>\n",
       "</table>\n",
       "<p>2 rows × 33 columns</p>\n",
       "</div>"
      ],
      "text/plain": [
       "       school sex  age address famsize Pstatus  Medu  Fedu     Mjob     Fjob  \\\n",
       "number                                                                         \n",
       "0          GP   F   18       U     GT3       A     4     4  at_home  teacher   \n",
       "1          GP   F   17       U     GT3       T     1     1  at_home    other   \n",
       "\n",
       "        ... famrel freetime  goout  Dalc  Walc health absences G1 G2 G3  \n",
       "number  ...                                                              \n",
       "0       ...      4        3      4     1     1      3        6  5  6  6  \n",
       "1       ...      5        3      3     1     1      3        4  5  5  6  \n",
       "\n",
       "[2 rows x 33 columns]"
      ]
     },
     "execution_count": 394,
     "metadata": {},
     "output_type": "execute_result"
    }
   ],
   "source": [
    "sd.head(2)"
   ]
  },
  {
   "cell_type": "code",
   "execution_count": 395,
   "metadata": {},
   "outputs": [
    {
     "name": "stdout",
     "output_type": "stream",
     "text": [
      "<class 'pandas.core.frame.DataFrame'>\n",
      "RangeIndex: 395 entries, 0 to 394\n",
      "Data columns (total 33 columns):\n",
      "school        395 non-null object\n",
      "sex           395 non-null object\n",
      "age           395 non-null int64\n",
      "address       395 non-null object\n",
      "famsize       395 non-null object\n",
      "Pstatus       395 non-null object\n",
      "Medu          395 non-null int64\n",
      "Fedu          395 non-null int64\n",
      "Mjob          395 non-null object\n",
      "Fjob          395 non-null object\n",
      "reason        395 non-null object\n",
      "guardian      395 non-null object\n",
      "traveltime    395 non-null int64\n",
      "studytime     395 non-null int64\n",
      "failures      395 non-null int64\n",
      "schoolsup     395 non-null object\n",
      "famsup        395 non-null object\n",
      "paid          395 non-null object\n",
      "activities    395 non-null object\n",
      "nursery       395 non-null object\n",
      "higher        395 non-null object\n",
      "internet      395 non-null object\n",
      "romantic      395 non-null object\n",
      "famrel        395 non-null int64\n",
      "freetime      395 non-null int64\n",
      "goout         395 non-null int64\n",
      "Dalc          395 non-null int64\n",
      "Walc          395 non-null int64\n",
      "health        395 non-null int64\n",
      "absences      395 non-null int64\n",
      "G1            395 non-null int64\n",
      "G2            395 non-null int64\n",
      "G3            395 non-null int64\n",
      "dtypes: int64(16), object(17)\n",
      "memory usage: 101.9+ KB\n"
     ]
    }
   ],
   "source": [
    "sd.info()"
   ]
  },
  {
   "cell_type": "markdown",
   "metadata": {
    "colab_type": "text",
    "id": "32lwRrnCEJbc"
   },
   "source": [
    "\n",
    "# Q2. Transform Data\n",
    "\n",
    "\n",
    "*Print all the attribute names which are not numerical.*\n",
    "\n",
    "**Hint:** check **select_dtypes()** and its **include** and **exclude** parameters.**\n",
    "\n",
    "#### Answer:"
   ]
  },
  {
   "cell_type": "code",
   "execution_count": 396,
   "metadata": {},
   "outputs": [
    {
     "data": {
      "text/plain": [
       "school        object\n",
       "sex           object\n",
       "age            int64\n",
       "address       object\n",
       "famsize       object\n",
       "Pstatus       object\n",
       "Medu           int64\n",
       "Fedu           int64\n",
       "Mjob          object\n",
       "Fjob          object\n",
       "reason        object\n",
       "guardian      object\n",
       "traveltime     int64\n",
       "studytime      int64\n",
       "failures       int64\n",
       "schoolsup     object\n",
       "famsup        object\n",
       "paid          object\n",
       "activities    object\n",
       "nursery       object\n",
       "higher        object\n",
       "internet      object\n",
       "romantic      object\n",
       "famrel         int64\n",
       "freetime       int64\n",
       "goout          int64\n",
       "Dalc           int64\n",
       "Walc           int64\n",
       "health         int64\n",
       "absences       int64\n",
       "G1             int64\n",
       "G2             int64\n",
       "G3             int64\n",
       "dtype: object"
      ]
     },
     "execution_count": 396,
     "metadata": {},
     "output_type": "execute_result"
    }
   ],
   "source": [
    "sd.dtypes"
   ]
  },
  {
   "cell_type": "code",
   "execution_count": 397,
   "metadata": {
    "colab": {},
    "colab_type": "code",
    "id": "mM7aDKT4EJbd"
   },
   "outputs": [
    {
     "data": {
      "text/html": [
       "<div>\n",
       "<style scoped>\n",
       "    .dataframe tbody tr th:only-of-type {\n",
       "        vertical-align: middle;\n",
       "    }\n",
       "\n",
       "    .dataframe tbody tr th {\n",
       "        vertical-align: top;\n",
       "    }\n",
       "\n",
       "    .dataframe thead th {\n",
       "        text-align: right;\n",
       "    }\n",
       "</style>\n",
       "<table border=\"1\" class=\"dataframe\">\n",
       "  <thead>\n",
       "    <tr style=\"text-align: right;\">\n",
       "      <th></th>\n",
       "      <th>school</th>\n",
       "      <th>sex</th>\n",
       "      <th>address</th>\n",
       "      <th>famsize</th>\n",
       "      <th>Pstatus</th>\n",
       "      <th>Mjob</th>\n",
       "      <th>Fjob</th>\n",
       "      <th>reason</th>\n",
       "      <th>guardian</th>\n",
       "      <th>schoolsup</th>\n",
       "      <th>famsup</th>\n",
       "      <th>paid</th>\n",
       "      <th>activities</th>\n",
       "      <th>nursery</th>\n",
       "      <th>higher</th>\n",
       "      <th>internet</th>\n",
       "      <th>romantic</th>\n",
       "    </tr>\n",
       "    <tr>\n",
       "      <th>number</th>\n",
       "      <th></th>\n",
       "      <th></th>\n",
       "      <th></th>\n",
       "      <th></th>\n",
       "      <th></th>\n",
       "      <th></th>\n",
       "      <th></th>\n",
       "      <th></th>\n",
       "      <th></th>\n",
       "      <th></th>\n",
       "      <th></th>\n",
       "      <th></th>\n",
       "      <th></th>\n",
       "      <th></th>\n",
       "      <th></th>\n",
       "      <th></th>\n",
       "      <th></th>\n",
       "    </tr>\n",
       "  </thead>\n",
       "  <tbody>\n",
       "    <tr>\n",
       "      <th>0</th>\n",
       "      <td>GP</td>\n",
       "      <td>F</td>\n",
       "      <td>U</td>\n",
       "      <td>GT3</td>\n",
       "      <td>A</td>\n",
       "      <td>at_home</td>\n",
       "      <td>teacher</td>\n",
       "      <td>course</td>\n",
       "      <td>mother</td>\n",
       "      <td>yes</td>\n",
       "      <td>no</td>\n",
       "      <td>no</td>\n",
       "      <td>no</td>\n",
       "      <td>yes</td>\n",
       "      <td>yes</td>\n",
       "      <td>no</td>\n",
       "      <td>no</td>\n",
       "    </tr>\n",
       "    <tr>\n",
       "      <th>1</th>\n",
       "      <td>GP</td>\n",
       "      <td>F</td>\n",
       "      <td>U</td>\n",
       "      <td>GT3</td>\n",
       "      <td>T</td>\n",
       "      <td>at_home</td>\n",
       "      <td>other</td>\n",
       "      <td>course</td>\n",
       "      <td>father</td>\n",
       "      <td>no</td>\n",
       "      <td>yes</td>\n",
       "      <td>no</td>\n",
       "      <td>no</td>\n",
       "      <td>no</td>\n",
       "      <td>yes</td>\n",
       "      <td>yes</td>\n",
       "      <td>no</td>\n",
       "    </tr>\n",
       "    <tr>\n",
       "      <th>2</th>\n",
       "      <td>GP</td>\n",
       "      <td>F</td>\n",
       "      <td>U</td>\n",
       "      <td>LE3</td>\n",
       "      <td>T</td>\n",
       "      <td>at_home</td>\n",
       "      <td>other</td>\n",
       "      <td>other</td>\n",
       "      <td>mother</td>\n",
       "      <td>yes</td>\n",
       "      <td>no</td>\n",
       "      <td>yes</td>\n",
       "      <td>no</td>\n",
       "      <td>yes</td>\n",
       "      <td>yes</td>\n",
       "      <td>yes</td>\n",
       "      <td>no</td>\n",
       "    </tr>\n",
       "    <tr>\n",
       "      <th>3</th>\n",
       "      <td>GP</td>\n",
       "      <td>F</td>\n",
       "      <td>U</td>\n",
       "      <td>GT3</td>\n",
       "      <td>T</td>\n",
       "      <td>health</td>\n",
       "      <td>services</td>\n",
       "      <td>home</td>\n",
       "      <td>mother</td>\n",
       "      <td>no</td>\n",
       "      <td>yes</td>\n",
       "      <td>yes</td>\n",
       "      <td>yes</td>\n",
       "      <td>yes</td>\n",
       "      <td>yes</td>\n",
       "      <td>yes</td>\n",
       "      <td>yes</td>\n",
       "    </tr>\n",
       "    <tr>\n",
       "      <th>4</th>\n",
       "      <td>GP</td>\n",
       "      <td>F</td>\n",
       "      <td>U</td>\n",
       "      <td>GT3</td>\n",
       "      <td>T</td>\n",
       "      <td>other</td>\n",
       "      <td>other</td>\n",
       "      <td>home</td>\n",
       "      <td>father</td>\n",
       "      <td>no</td>\n",
       "      <td>yes</td>\n",
       "      <td>yes</td>\n",
       "      <td>no</td>\n",
       "      <td>yes</td>\n",
       "      <td>yes</td>\n",
       "      <td>no</td>\n",
       "      <td>no</td>\n",
       "    </tr>\n",
       "  </tbody>\n",
       "</table>\n",
       "</div>"
      ],
      "text/plain": [
       "       school sex address famsize Pstatus     Mjob      Fjob  reason guardian  \\\n",
       "number                                                                          \n",
       "0          GP   F       U     GT3       A  at_home   teacher  course   mother   \n",
       "1          GP   F       U     GT3       T  at_home     other  course   father   \n",
       "2          GP   F       U     LE3       T  at_home     other   other   mother   \n",
       "3          GP   F       U     GT3       T   health  services    home   mother   \n",
       "4          GP   F       U     GT3       T    other     other    home   father   \n",
       "\n",
       "       schoolsup famsup paid activities nursery higher internet romantic  \n",
       "number                                                                    \n",
       "0            yes     no   no         no     yes    yes       no       no  \n",
       "1             no    yes   no         no      no    yes      yes       no  \n",
       "2            yes     no  yes         no     yes    yes      yes       no  \n",
       "3             no    yes  yes        yes     yes    yes      yes      yes  \n",
       "4             no    yes  yes         no     yes    yes       no       no  "
      ]
     },
     "execution_count": 397,
     "metadata": {},
     "output_type": "execute_result"
    }
   ],
   "source": [
    "sd.select_dtypes(exclude=['number']).head()"
   ]
  },
  {
   "cell_type": "markdown",
   "metadata": {
    "colab_type": "text",
    "id": "y-MTTbrLEJbf"
   },
   "source": [
    "# Q3. Drop variables with less variance\n",
    "\n",
    "*Find the variance of each numerical independent variable and drop whose variance is less than 1. Use .var function to check the variance*\n",
    "\n",
    "#### Answer:"
   ]
  },
  {
   "cell_type": "code",
   "execution_count": 398,
   "metadata": {
    "colab": {},
    "colab_type": "code",
    "id": "7GzHCZNwEJbg"
   },
   "outputs": [
    {
     "data": {
      "text/plain": [
       "1.6282850350189455"
      ]
     },
     "execution_count": 398,
     "metadata": {},
     "output_type": "execute_result"
    }
   ],
   "source": [
    "sd[\"age\"].var()\n",
    "\n"
   ]
  },
  {
   "cell_type": "code",
   "execution_count": 399,
   "metadata": {},
   "outputs": [],
   "source": [
    "sd_num=sd.select_dtypes(include=[\"number\"])"
   ]
  },
  {
   "cell_type": "code",
   "execution_count": 400,
   "metadata": {},
   "outputs": [
    {
     "data": {
      "text/plain": [
       "age            1.628285\n",
       "Medu           1.198445\n",
       "Fedu           1.184180\n",
       "traveltime     0.486513\n",
       "studytime      0.704324\n",
       "failures       0.553017\n",
       "famrel         0.803997\n",
       "freetime       0.997725\n",
       "goout          1.239388\n",
       "Dalc           0.793420\n",
       "Walc           1.658678\n",
       "health         1.932944\n",
       "absences      64.049541\n",
       "G1            11.017053\n",
       "G2            14.148917\n",
       "G3            20.989616\n",
       "dtype: float64"
      ]
     },
     "execution_count": 400,
     "metadata": {},
     "output_type": "execute_result"
    }
   ],
   "source": [
    "sd_num.var()"
   ]
  },
  {
   "cell_type": "code",
   "execution_count": null,
   "metadata": {},
   "outputs": [],
   "source": []
  },
  {
   "cell_type": "code",
   "execution_count": 401,
   "metadata": {},
   "outputs": [
    {
     "data": {
      "text/html": [
       "<div>\n",
       "<style scoped>\n",
       "    .dataframe tbody tr th:only-of-type {\n",
       "        vertical-align: middle;\n",
       "    }\n",
       "\n",
       "    .dataframe tbody tr th {\n",
       "        vertical-align: top;\n",
       "    }\n",
       "\n",
       "    .dataframe thead th {\n",
       "        text-align: right;\n",
       "    }\n",
       "</style>\n",
       "<table border=\"1\" class=\"dataframe\">\n",
       "  <thead>\n",
       "    <tr style=\"text-align: right;\">\n",
       "      <th></th>\n",
       "      <th>school</th>\n",
       "      <th>sex</th>\n",
       "      <th>age</th>\n",
       "      <th>address</th>\n",
       "      <th>famsize</th>\n",
       "      <th>Pstatus</th>\n",
       "      <th>Medu</th>\n",
       "      <th>Fedu</th>\n",
       "      <th>Mjob</th>\n",
       "      <th>Fjob</th>\n",
       "      <th>...</th>\n",
       "      <th>higher</th>\n",
       "      <th>internet</th>\n",
       "      <th>romantic</th>\n",
       "      <th>goout</th>\n",
       "      <th>Walc</th>\n",
       "      <th>health</th>\n",
       "      <th>absences</th>\n",
       "      <th>G1</th>\n",
       "      <th>G2</th>\n",
       "      <th>G3</th>\n",
       "    </tr>\n",
       "    <tr>\n",
       "      <th>number</th>\n",
       "      <th></th>\n",
       "      <th></th>\n",
       "      <th></th>\n",
       "      <th></th>\n",
       "      <th></th>\n",
       "      <th></th>\n",
       "      <th></th>\n",
       "      <th></th>\n",
       "      <th></th>\n",
       "      <th></th>\n",
       "      <th></th>\n",
       "      <th></th>\n",
       "      <th></th>\n",
       "      <th></th>\n",
       "      <th></th>\n",
       "      <th></th>\n",
       "      <th></th>\n",
       "      <th></th>\n",
       "      <th></th>\n",
       "      <th></th>\n",
       "      <th></th>\n",
       "    </tr>\n",
       "  </thead>\n",
       "  <tbody>\n",
       "    <tr>\n",
       "      <th>0</th>\n",
       "      <td>GP</td>\n",
       "      <td>F</td>\n",
       "      <td>18</td>\n",
       "      <td>U</td>\n",
       "      <td>GT3</td>\n",
       "      <td>A</td>\n",
       "      <td>4</td>\n",
       "      <td>4</td>\n",
       "      <td>at_home</td>\n",
       "      <td>teacher</td>\n",
       "      <td>...</td>\n",
       "      <td>yes</td>\n",
       "      <td>no</td>\n",
       "      <td>no</td>\n",
       "      <td>4</td>\n",
       "      <td>1</td>\n",
       "      <td>3</td>\n",
       "      <td>6</td>\n",
       "      <td>5</td>\n",
       "      <td>6</td>\n",
       "      <td>6</td>\n",
       "    </tr>\n",
       "    <tr>\n",
       "      <th>1</th>\n",
       "      <td>GP</td>\n",
       "      <td>F</td>\n",
       "      <td>17</td>\n",
       "      <td>U</td>\n",
       "      <td>GT3</td>\n",
       "      <td>T</td>\n",
       "      <td>1</td>\n",
       "      <td>1</td>\n",
       "      <td>at_home</td>\n",
       "      <td>other</td>\n",
       "      <td>...</td>\n",
       "      <td>yes</td>\n",
       "      <td>yes</td>\n",
       "      <td>no</td>\n",
       "      <td>3</td>\n",
       "      <td>1</td>\n",
       "      <td>3</td>\n",
       "      <td>4</td>\n",
       "      <td>5</td>\n",
       "      <td>5</td>\n",
       "      <td>6</td>\n",
       "    </tr>\n",
       "    <tr>\n",
       "      <th>2</th>\n",
       "      <td>GP</td>\n",
       "      <td>F</td>\n",
       "      <td>15</td>\n",
       "      <td>U</td>\n",
       "      <td>LE3</td>\n",
       "      <td>T</td>\n",
       "      <td>1</td>\n",
       "      <td>1</td>\n",
       "      <td>at_home</td>\n",
       "      <td>other</td>\n",
       "      <td>...</td>\n",
       "      <td>yes</td>\n",
       "      <td>yes</td>\n",
       "      <td>no</td>\n",
       "      <td>2</td>\n",
       "      <td>3</td>\n",
       "      <td>3</td>\n",
       "      <td>10</td>\n",
       "      <td>7</td>\n",
       "      <td>8</td>\n",
       "      <td>10</td>\n",
       "    </tr>\n",
       "    <tr>\n",
       "      <th>3</th>\n",
       "      <td>GP</td>\n",
       "      <td>F</td>\n",
       "      <td>15</td>\n",
       "      <td>U</td>\n",
       "      <td>GT3</td>\n",
       "      <td>T</td>\n",
       "      <td>4</td>\n",
       "      <td>2</td>\n",
       "      <td>health</td>\n",
       "      <td>services</td>\n",
       "      <td>...</td>\n",
       "      <td>yes</td>\n",
       "      <td>yes</td>\n",
       "      <td>yes</td>\n",
       "      <td>2</td>\n",
       "      <td>1</td>\n",
       "      <td>5</td>\n",
       "      <td>2</td>\n",
       "      <td>15</td>\n",
       "      <td>14</td>\n",
       "      <td>15</td>\n",
       "    </tr>\n",
       "    <tr>\n",
       "      <th>4</th>\n",
       "      <td>GP</td>\n",
       "      <td>F</td>\n",
       "      <td>16</td>\n",
       "      <td>U</td>\n",
       "      <td>GT3</td>\n",
       "      <td>T</td>\n",
       "      <td>3</td>\n",
       "      <td>3</td>\n",
       "      <td>other</td>\n",
       "      <td>other</td>\n",
       "      <td>...</td>\n",
       "      <td>yes</td>\n",
       "      <td>no</td>\n",
       "      <td>no</td>\n",
       "      <td>2</td>\n",
       "      <td>2</td>\n",
       "      <td>5</td>\n",
       "      <td>4</td>\n",
       "      <td>6</td>\n",
       "      <td>10</td>\n",
       "      <td>10</td>\n",
       "    </tr>\n",
       "  </tbody>\n",
       "</table>\n",
       "<p>5 rows × 27 columns</p>\n",
       "</div>"
      ],
      "text/plain": [
       "       school sex  age address famsize Pstatus  Medu  Fedu     Mjob      Fjob  \\\n",
       "number                                                                          \n",
       "0          GP   F   18       U     GT3       A     4     4  at_home   teacher   \n",
       "1          GP   F   17       U     GT3       T     1     1  at_home     other   \n",
       "2          GP   F   15       U     LE3       T     1     1  at_home     other   \n",
       "3          GP   F   15       U     GT3       T     4     2   health  services   \n",
       "4          GP   F   16       U     GT3       T     3     3    other     other   \n",
       "\n",
       "        ... higher internet romantic goout Walc health absences  G1  G2  G3  \n",
       "number  ...                                                                  \n",
       "0       ...    yes       no       no     4    1      3        6   5   6   6  \n",
       "1       ...    yes      yes       no     3    1      3        4   5   5   6  \n",
       "2       ...    yes      yes       no     2    3      3       10   7   8  10  \n",
       "3       ...    yes      yes      yes     2    1      5        2  15  14  15  \n",
       "4       ...    yes       no       no     2    2      5        4   6  10  10  \n",
       "\n",
       "[5 rows x 27 columns]"
      ]
     },
     "execution_count": 401,
     "metadata": {},
     "output_type": "execute_result"
    }
   ],
   "source": [
    "t=list(sd.columns)\n",
    "for i in t:\n",
    "    if(sd[i].dtypes=='int64'):\n",
    "        if(sd[i].var()<1):\n",
    "        #print(sd[i].head())\n",
    "            sd.drop(labels=i,inplace=True,axis=1)\n",
    "sd.head()\n",
    "        \n",
    "    \n",
    "    \n",
    "        "
   ]
  },
  {
   "cell_type": "code",
   "execution_count": 402,
   "metadata": {},
   "outputs": [
    {
     "data": {
      "text/plain": [
       "age          1.628285\n",
       "Medu         1.198445\n",
       "Fedu         1.184180\n",
       "goout        1.239388\n",
       "Walc         1.658678\n",
       "health       1.932944\n",
       "absences    64.049541\n",
       "G1          11.017053\n",
       "G2          14.148917\n",
       "G3          20.989616\n",
       "dtype: float64"
      ]
     },
     "execution_count": 402,
     "metadata": {},
     "output_type": "execute_result"
    }
   ],
   "source": [
    "sd.var()"
   ]
  },
  {
   "cell_type": "code",
   "execution_count": 403,
   "metadata": {},
   "outputs": [
    {
     "data": {
      "text/plain": [
       "school        object\n",
       "sex           object\n",
       "age            int64\n",
       "address       object\n",
       "famsize       object\n",
       "Pstatus       object\n",
       "Medu           int64\n",
       "Fedu           int64\n",
       "Mjob          object\n",
       "Fjob          object\n",
       "reason        object\n",
       "guardian      object\n",
       "schoolsup     object\n",
       "famsup        object\n",
       "paid          object\n",
       "activities    object\n",
       "nursery       object\n",
       "higher        object\n",
       "internet      object\n",
       "romantic      object\n",
       "goout          int64\n",
       "Walc           int64\n",
       "health         int64\n",
       "absences       int64\n",
       "G1             int64\n",
       "G2             int64\n",
       "G3             int64\n",
       "dtype: object"
      ]
     },
     "execution_count": 403,
     "metadata": {},
     "output_type": "execute_result"
    }
   ],
   "source": [
    "sd.dtypes"
   ]
  },
  {
   "cell_type": "markdown",
   "metadata": {
    "colab_type": "text",
    "id": "woNgcgRyEJbi"
   },
   "source": [
    "#### Variables with less variance are almost same for all the records. Hence, they do not contribute much for classification."
   ]
  },
  {
   "cell_type": "markdown",
   "metadata": {
    "colab_type": "text",
    "id": "nw0g2baIEJbi"
   },
   "source": [
    "# Q4. Encode all categorical variables to numerical\n",
    "\n",
    "Take the list of categorical attributes(from the above result) and convert them into neumerical variables. After that, print the head of dataframe and check the values.\n",
    "\n",
    "**Hint:** check **sklearn LabelEncoder()**\n",
    "\n",
    "#### Answer:"
   ]
  },
  {
   "cell_type": "code",
   "execution_count": 404,
   "metadata": {
    "colab": {},
    "colab_type": "code",
    "id": "jGr4i-pkEJbj"
   },
   "outputs": [
    {
     "name": "stdout",
     "output_type": "stream",
     "text": [
      "GP    349\n",
      "MS     46\n",
      "Name: school, dtype: int64\n",
      "F    208\n",
      "M    187\n",
      "Name: sex, dtype: int64\n",
      "U    307\n",
      "R     88\n",
      "Name: address, dtype: int64\n",
      "GT3    281\n",
      "LE3    114\n",
      "Name: famsize, dtype: int64\n",
      "T    354\n",
      "A     41\n",
      "Name: Pstatus, dtype: int64\n",
      "other       141\n",
      "services    103\n",
      "at_home      59\n",
      "teacher      58\n",
      "health       34\n",
      "Name: Mjob, dtype: int64\n",
      "other       217\n",
      "services    111\n",
      "teacher      29\n",
      "at_home      20\n",
      "health       18\n",
      "Name: Fjob, dtype: int64\n",
      "course        145\n",
      "home          109\n",
      "reputation    105\n",
      "other          36\n",
      "Name: reason, dtype: int64\n",
      "mother    273\n",
      "father     90\n",
      "other      32\n",
      "Name: guardian, dtype: int64\n",
      "no     344\n",
      "yes     51\n",
      "Name: schoolsup, dtype: int64\n",
      "yes    242\n",
      "no     153\n",
      "Name: famsup, dtype: int64\n",
      "no     214\n",
      "yes    181\n",
      "Name: paid, dtype: int64\n",
      "yes    201\n",
      "no     194\n",
      "Name: activities, dtype: int64\n",
      "yes    314\n",
      "no      81\n",
      "Name: nursery, dtype: int64\n",
      "yes    375\n",
      "no      20\n",
      "Name: higher, dtype: int64\n",
      "yes    329\n",
      "no      66\n",
      "Name: internet, dtype: int64\n",
      "no     263\n",
      "yes    132\n",
      "Name: romantic, dtype: int64\n"
     ]
    }
   ],
   "source": [
    "col=list(sd.columns)\n",
    "for i in col:\n",
    "    if(sd[i].dtypes==\"object\"):\n",
    "        print(sd[i].value_counts())\n",
    "    if(sd[i].dtype==\"object\"):\n",
    "        sd=pd.get_dummies(sd,columns=[i],drop_first=True)\n",
    "    "
   ]
  },
  {
   "cell_type": "raw",
   "metadata": {},
   "source": [
    "here all variables are not binary variate.LabelEncoder works better for binary variate variables.I applied one hot encoding here because of multivariate variables."
   ]
  },
  {
   "cell_type": "code",
   "execution_count": 405,
   "metadata": {},
   "outputs": [
    {
     "data": {
      "text/html": [
       "<div>\n",
       "<style scoped>\n",
       "    .dataframe tbody tr th:only-of-type {\n",
       "        vertical-align: middle;\n",
       "    }\n",
       "\n",
       "    .dataframe tbody tr th {\n",
       "        vertical-align: top;\n",
       "    }\n",
       "\n",
       "    .dataframe thead th {\n",
       "        text-align: right;\n",
       "    }\n",
       "</style>\n",
       "<table border=\"1\" class=\"dataframe\">\n",
       "  <thead>\n",
       "    <tr style=\"text-align: right;\">\n",
       "      <th></th>\n",
       "      <th>age</th>\n",
       "      <th>Medu</th>\n",
       "      <th>Fedu</th>\n",
       "      <th>goout</th>\n",
       "      <th>Walc</th>\n",
       "      <th>health</th>\n",
       "      <th>absences</th>\n",
       "      <th>G1</th>\n",
       "      <th>G2</th>\n",
       "      <th>G3</th>\n",
       "      <th>...</th>\n",
       "      <th>guardian_mother</th>\n",
       "      <th>guardian_other</th>\n",
       "      <th>schoolsup_yes</th>\n",
       "      <th>famsup_yes</th>\n",
       "      <th>paid_yes</th>\n",
       "      <th>activities_yes</th>\n",
       "      <th>nursery_yes</th>\n",
       "      <th>higher_yes</th>\n",
       "      <th>internet_yes</th>\n",
       "      <th>romantic_yes</th>\n",
       "    </tr>\n",
       "    <tr>\n",
       "      <th>number</th>\n",
       "      <th></th>\n",
       "      <th></th>\n",
       "      <th></th>\n",
       "      <th></th>\n",
       "      <th></th>\n",
       "      <th></th>\n",
       "      <th></th>\n",
       "      <th></th>\n",
       "      <th></th>\n",
       "      <th></th>\n",
       "      <th></th>\n",
       "      <th></th>\n",
       "      <th></th>\n",
       "      <th></th>\n",
       "      <th></th>\n",
       "      <th></th>\n",
       "      <th></th>\n",
       "      <th></th>\n",
       "      <th></th>\n",
       "      <th></th>\n",
       "      <th></th>\n",
       "    </tr>\n",
       "  </thead>\n",
       "  <tbody>\n",
       "    <tr>\n",
       "      <th>0</th>\n",
       "      <td>18</td>\n",
       "      <td>4</td>\n",
       "      <td>4</td>\n",
       "      <td>4</td>\n",
       "      <td>1</td>\n",
       "      <td>3</td>\n",
       "      <td>6</td>\n",
       "      <td>5</td>\n",
       "      <td>6</td>\n",
       "      <td>6</td>\n",
       "      <td>...</td>\n",
       "      <td>1</td>\n",
       "      <td>0</td>\n",
       "      <td>1</td>\n",
       "      <td>0</td>\n",
       "      <td>0</td>\n",
       "      <td>0</td>\n",
       "      <td>1</td>\n",
       "      <td>1</td>\n",
       "      <td>0</td>\n",
       "      <td>0</td>\n",
       "    </tr>\n",
       "    <tr>\n",
       "      <th>1</th>\n",
       "      <td>17</td>\n",
       "      <td>1</td>\n",
       "      <td>1</td>\n",
       "      <td>3</td>\n",
       "      <td>1</td>\n",
       "      <td>3</td>\n",
       "      <td>4</td>\n",
       "      <td>5</td>\n",
       "      <td>5</td>\n",
       "      <td>6</td>\n",
       "      <td>...</td>\n",
       "      <td>0</td>\n",
       "      <td>0</td>\n",
       "      <td>0</td>\n",
       "      <td>1</td>\n",
       "      <td>0</td>\n",
       "      <td>0</td>\n",
       "      <td>0</td>\n",
       "      <td>1</td>\n",
       "      <td>1</td>\n",
       "      <td>0</td>\n",
       "    </tr>\n",
       "    <tr>\n",
       "      <th>2</th>\n",
       "      <td>15</td>\n",
       "      <td>1</td>\n",
       "      <td>1</td>\n",
       "      <td>2</td>\n",
       "      <td>3</td>\n",
       "      <td>3</td>\n",
       "      <td>10</td>\n",
       "      <td>7</td>\n",
       "      <td>8</td>\n",
       "      <td>10</td>\n",
       "      <td>...</td>\n",
       "      <td>1</td>\n",
       "      <td>0</td>\n",
       "      <td>1</td>\n",
       "      <td>0</td>\n",
       "      <td>1</td>\n",
       "      <td>0</td>\n",
       "      <td>1</td>\n",
       "      <td>1</td>\n",
       "      <td>1</td>\n",
       "      <td>0</td>\n",
       "    </tr>\n",
       "    <tr>\n",
       "      <th>3</th>\n",
       "      <td>15</td>\n",
       "      <td>4</td>\n",
       "      <td>2</td>\n",
       "      <td>2</td>\n",
       "      <td>1</td>\n",
       "      <td>5</td>\n",
       "      <td>2</td>\n",
       "      <td>15</td>\n",
       "      <td>14</td>\n",
       "      <td>15</td>\n",
       "      <td>...</td>\n",
       "      <td>1</td>\n",
       "      <td>0</td>\n",
       "      <td>0</td>\n",
       "      <td>1</td>\n",
       "      <td>1</td>\n",
       "      <td>1</td>\n",
       "      <td>1</td>\n",
       "      <td>1</td>\n",
       "      <td>1</td>\n",
       "      <td>1</td>\n",
       "    </tr>\n",
       "    <tr>\n",
       "      <th>4</th>\n",
       "      <td>16</td>\n",
       "      <td>3</td>\n",
       "      <td>3</td>\n",
       "      <td>2</td>\n",
       "      <td>2</td>\n",
       "      <td>5</td>\n",
       "      <td>4</td>\n",
       "      <td>6</td>\n",
       "      <td>10</td>\n",
       "      <td>10</td>\n",
       "      <td>...</td>\n",
       "      <td>0</td>\n",
       "      <td>0</td>\n",
       "      <td>0</td>\n",
       "      <td>1</td>\n",
       "      <td>1</td>\n",
       "      <td>0</td>\n",
       "      <td>1</td>\n",
       "      <td>1</td>\n",
       "      <td>0</td>\n",
       "      <td>0</td>\n",
       "    </tr>\n",
       "  </tbody>\n",
       "</table>\n",
       "<p>5 rows × 36 columns</p>\n",
       "</div>"
      ],
      "text/plain": [
       "        age  Medu  Fedu  goout  Walc  health  absences  G1  G2  G3  ...  \\\n",
       "number                                                              ...   \n",
       "0        18     4     4      4     1       3         6   5   6   6  ...   \n",
       "1        17     1     1      3     1       3         4   5   5   6  ...   \n",
       "2        15     1     1      2     3       3        10   7   8  10  ...   \n",
       "3        15     4     2      2     1       5         2  15  14  15  ...   \n",
       "4        16     3     3      2     2       5         4   6  10  10  ...   \n",
       "\n",
       "        guardian_mother  guardian_other  schoolsup_yes  famsup_yes  paid_yes  \\\n",
       "number                                                                         \n",
       "0                     1               0              1           0         0   \n",
       "1                     0               0              0           1         0   \n",
       "2                     1               0              1           0         1   \n",
       "3                     1               0              0           1         1   \n",
       "4                     0               0              0           1         1   \n",
       "\n",
       "        activities_yes  nursery_yes  higher_yes  internet_yes  romantic_yes  \n",
       "number                                                                       \n",
       "0                    0            1           1             0             0  \n",
       "1                    0            0           1             1             0  \n",
       "2                    0            1           1             1             0  \n",
       "3                    1            1           1             1             1  \n",
       "4                    0            1           1             0             0  \n",
       "\n",
       "[5 rows x 36 columns]"
      ]
     },
     "execution_count": 405,
     "metadata": {},
     "output_type": "execute_result"
    }
   ],
   "source": [
    "sd.head()\n",
    "    "
   ]
  },
  {
   "cell_type": "markdown",
   "metadata": {},
   "source": []
  },
  {
   "cell_type": "markdown",
   "metadata": {
    "colab_type": "text",
    "id": "_X4WURlgEJbl"
   },
   "source": [
    "# Q5. Convert the continuous values of grades into classes \n",
    "\n",
    "*Consider the values in G1, G2 and G3 with >= 10 as pass(1) and < 10 as fail(0) and encode them into binary values. Print head of dataframe to check the values.*\n",
    "\n",
    "#### Answer:"
   ]
  },
  {
   "cell_type": "code",
   "execution_count": 359,
   "metadata": {},
   "outputs": [
    {
     "data": {
      "text/html": [
       "<div>\n",
       "<style scoped>\n",
       "    .dataframe tbody tr th:only-of-type {\n",
       "        vertical-align: middle;\n",
       "    }\n",
       "\n",
       "    .dataframe tbody tr th {\n",
       "        vertical-align: top;\n",
       "    }\n",
       "\n",
       "    .dataframe thead th {\n",
       "        text-align: right;\n",
       "    }\n",
       "</style>\n",
       "<table border=\"1\" class=\"dataframe\">\n",
       "  <thead>\n",
       "    <tr style=\"text-align: right;\">\n",
       "      <th></th>\n",
       "      <th>G1</th>\n",
       "      <th>G2</th>\n",
       "      <th>G3</th>\n",
       "    </tr>\n",
       "    <tr>\n",
       "      <th>number</th>\n",
       "      <th></th>\n",
       "      <th></th>\n",
       "      <th></th>\n",
       "    </tr>\n",
       "  </thead>\n",
       "  <tbody>\n",
       "  </tbody>\n",
       "</table>\n",
       "</div>"
      ],
      "text/plain": [
       "Empty DataFrame\n",
       "Columns: [G1, G2, G3]\n",
       "Index: []"
      ]
     },
     "execution_count": 359,
     "metadata": {},
     "output_type": "execute_result"
    }
   ],
   "source": [
    "lis=sd.iloc[0:0,7:10]\n",
    "lis"
   ]
  },
  {
   "cell_type": "code",
   "execution_count": 406,
   "metadata": {},
   "outputs": [],
   "source": [
    "sd['G1'] = np.where((sd['G1'] < 10),0,sd['G1'])"
   ]
  },
  {
   "cell_type": "code",
   "execution_count": 408,
   "metadata": {},
   "outputs": [],
   "source": [
    "sd['G1'] = np.where((sd['G1'] >=10),1,sd['G1'])"
   ]
  },
  {
   "cell_type": "code",
   "execution_count": 410,
   "metadata": {},
   "outputs": [],
   "source": [
    "sd['G2'] = np.where((sd['G2'] < 10),0,sd['G2'])"
   ]
  },
  {
   "cell_type": "code",
   "execution_count": 412,
   "metadata": {},
   "outputs": [],
   "source": [
    "sd['G2'] = np.where((sd['G2'] >= 10),1,sd['G1'])"
   ]
  },
  {
   "cell_type": "code",
   "execution_count": 414,
   "metadata": {},
   "outputs": [],
   "source": [
    "sd['G3'] = np.where((sd['G3'] < 10),0,sd['G3'])"
   ]
  },
  {
   "cell_type": "code",
   "execution_count": 416,
   "metadata": {},
   "outputs": [],
   "source": [
    "sd['G3'] = np.where((sd['G3'] >= 10),1,sd['G3'])"
   ]
  },
  {
   "cell_type": "code",
   "execution_count": 418,
   "metadata": {},
   "outputs": [
    {
     "data": {
      "text/html": [
       "<div>\n",
       "<style scoped>\n",
       "    .dataframe tbody tr th:only-of-type {\n",
       "        vertical-align: middle;\n",
       "    }\n",
       "\n",
       "    .dataframe tbody tr th {\n",
       "        vertical-align: top;\n",
       "    }\n",
       "\n",
       "    .dataframe thead th {\n",
       "        text-align: right;\n",
       "    }\n",
       "</style>\n",
       "<table border=\"1\" class=\"dataframe\">\n",
       "  <thead>\n",
       "    <tr style=\"text-align: right;\">\n",
       "      <th></th>\n",
       "      <th>age</th>\n",
       "      <th>Medu</th>\n",
       "      <th>Fedu</th>\n",
       "      <th>goout</th>\n",
       "      <th>Walc</th>\n",
       "      <th>health</th>\n",
       "      <th>absences</th>\n",
       "      <th>G1</th>\n",
       "      <th>G2</th>\n",
       "      <th>G3</th>\n",
       "      <th>...</th>\n",
       "      <th>guardian_mother</th>\n",
       "      <th>guardian_other</th>\n",
       "      <th>schoolsup_yes</th>\n",
       "      <th>famsup_yes</th>\n",
       "      <th>paid_yes</th>\n",
       "      <th>activities_yes</th>\n",
       "      <th>nursery_yes</th>\n",
       "      <th>higher_yes</th>\n",
       "      <th>internet_yes</th>\n",
       "      <th>romantic_yes</th>\n",
       "    </tr>\n",
       "    <tr>\n",
       "      <th>number</th>\n",
       "      <th></th>\n",
       "      <th></th>\n",
       "      <th></th>\n",
       "      <th></th>\n",
       "      <th></th>\n",
       "      <th></th>\n",
       "      <th></th>\n",
       "      <th></th>\n",
       "      <th></th>\n",
       "      <th></th>\n",
       "      <th></th>\n",
       "      <th></th>\n",
       "      <th></th>\n",
       "      <th></th>\n",
       "      <th></th>\n",
       "      <th></th>\n",
       "      <th></th>\n",
       "      <th></th>\n",
       "      <th></th>\n",
       "      <th></th>\n",
       "      <th></th>\n",
       "    </tr>\n",
       "  </thead>\n",
       "  <tbody>\n",
       "    <tr>\n",
       "      <th>0</th>\n",
       "      <td>18</td>\n",
       "      <td>4</td>\n",
       "      <td>4</td>\n",
       "      <td>4</td>\n",
       "      <td>1</td>\n",
       "      <td>3</td>\n",
       "      <td>6</td>\n",
       "      <td>0</td>\n",
       "      <td>0</td>\n",
       "      <td>0</td>\n",
       "      <td>...</td>\n",
       "      <td>1</td>\n",
       "      <td>0</td>\n",
       "      <td>1</td>\n",
       "      <td>0</td>\n",
       "      <td>0</td>\n",
       "      <td>0</td>\n",
       "      <td>1</td>\n",
       "      <td>1</td>\n",
       "      <td>0</td>\n",
       "      <td>0</td>\n",
       "    </tr>\n",
       "    <tr>\n",
       "      <th>1</th>\n",
       "      <td>17</td>\n",
       "      <td>1</td>\n",
       "      <td>1</td>\n",
       "      <td>3</td>\n",
       "      <td>1</td>\n",
       "      <td>3</td>\n",
       "      <td>4</td>\n",
       "      <td>0</td>\n",
       "      <td>0</td>\n",
       "      <td>0</td>\n",
       "      <td>...</td>\n",
       "      <td>0</td>\n",
       "      <td>0</td>\n",
       "      <td>0</td>\n",
       "      <td>1</td>\n",
       "      <td>0</td>\n",
       "      <td>0</td>\n",
       "      <td>0</td>\n",
       "      <td>1</td>\n",
       "      <td>1</td>\n",
       "      <td>0</td>\n",
       "    </tr>\n",
       "    <tr>\n",
       "      <th>2</th>\n",
       "      <td>15</td>\n",
       "      <td>1</td>\n",
       "      <td>1</td>\n",
       "      <td>2</td>\n",
       "      <td>3</td>\n",
       "      <td>3</td>\n",
       "      <td>10</td>\n",
       "      <td>0</td>\n",
       "      <td>0</td>\n",
       "      <td>1</td>\n",
       "      <td>...</td>\n",
       "      <td>1</td>\n",
       "      <td>0</td>\n",
       "      <td>1</td>\n",
       "      <td>0</td>\n",
       "      <td>1</td>\n",
       "      <td>0</td>\n",
       "      <td>1</td>\n",
       "      <td>1</td>\n",
       "      <td>1</td>\n",
       "      <td>0</td>\n",
       "    </tr>\n",
       "    <tr>\n",
       "      <th>3</th>\n",
       "      <td>15</td>\n",
       "      <td>4</td>\n",
       "      <td>2</td>\n",
       "      <td>2</td>\n",
       "      <td>1</td>\n",
       "      <td>5</td>\n",
       "      <td>2</td>\n",
       "      <td>1</td>\n",
       "      <td>1</td>\n",
       "      <td>1</td>\n",
       "      <td>...</td>\n",
       "      <td>1</td>\n",
       "      <td>0</td>\n",
       "      <td>0</td>\n",
       "      <td>1</td>\n",
       "      <td>1</td>\n",
       "      <td>1</td>\n",
       "      <td>1</td>\n",
       "      <td>1</td>\n",
       "      <td>1</td>\n",
       "      <td>1</td>\n",
       "    </tr>\n",
       "    <tr>\n",
       "      <th>4</th>\n",
       "      <td>16</td>\n",
       "      <td>3</td>\n",
       "      <td>3</td>\n",
       "      <td>2</td>\n",
       "      <td>2</td>\n",
       "      <td>5</td>\n",
       "      <td>4</td>\n",
       "      <td>0</td>\n",
       "      <td>1</td>\n",
       "      <td>1</td>\n",
       "      <td>...</td>\n",
       "      <td>0</td>\n",
       "      <td>0</td>\n",
       "      <td>0</td>\n",
       "      <td>1</td>\n",
       "      <td>1</td>\n",
       "      <td>0</td>\n",
       "      <td>1</td>\n",
       "      <td>1</td>\n",
       "      <td>0</td>\n",
       "      <td>0</td>\n",
       "    </tr>\n",
       "    <tr>\n",
       "      <th>5</th>\n",
       "      <td>16</td>\n",
       "      <td>4</td>\n",
       "      <td>3</td>\n",
       "      <td>2</td>\n",
       "      <td>2</td>\n",
       "      <td>5</td>\n",
       "      <td>10</td>\n",
       "      <td>1</td>\n",
       "      <td>1</td>\n",
       "      <td>1</td>\n",
       "      <td>...</td>\n",
       "      <td>1</td>\n",
       "      <td>0</td>\n",
       "      <td>0</td>\n",
       "      <td>1</td>\n",
       "      <td>1</td>\n",
       "      <td>1</td>\n",
       "      <td>1</td>\n",
       "      <td>1</td>\n",
       "      <td>1</td>\n",
       "      <td>0</td>\n",
       "    </tr>\n",
       "    <tr>\n",
       "      <th>6</th>\n",
       "      <td>16</td>\n",
       "      <td>2</td>\n",
       "      <td>2</td>\n",
       "      <td>4</td>\n",
       "      <td>1</td>\n",
       "      <td>3</td>\n",
       "      <td>0</td>\n",
       "      <td>1</td>\n",
       "      <td>1</td>\n",
       "      <td>1</td>\n",
       "      <td>...</td>\n",
       "      <td>1</td>\n",
       "      <td>0</td>\n",
       "      <td>0</td>\n",
       "      <td>0</td>\n",
       "      <td>0</td>\n",
       "      <td>0</td>\n",
       "      <td>1</td>\n",
       "      <td>1</td>\n",
       "      <td>1</td>\n",
       "      <td>0</td>\n",
       "    </tr>\n",
       "    <tr>\n",
       "      <th>7</th>\n",
       "      <td>17</td>\n",
       "      <td>4</td>\n",
       "      <td>4</td>\n",
       "      <td>4</td>\n",
       "      <td>1</td>\n",
       "      <td>1</td>\n",
       "      <td>6</td>\n",
       "      <td>0</td>\n",
       "      <td>0</td>\n",
       "      <td>0</td>\n",
       "      <td>...</td>\n",
       "      <td>1</td>\n",
       "      <td>0</td>\n",
       "      <td>1</td>\n",
       "      <td>1</td>\n",
       "      <td>0</td>\n",
       "      <td>0</td>\n",
       "      <td>1</td>\n",
       "      <td>1</td>\n",
       "      <td>0</td>\n",
       "      <td>0</td>\n",
       "    </tr>\n",
       "    <tr>\n",
       "      <th>8</th>\n",
       "      <td>15</td>\n",
       "      <td>3</td>\n",
       "      <td>2</td>\n",
       "      <td>2</td>\n",
       "      <td>1</td>\n",
       "      <td>1</td>\n",
       "      <td>0</td>\n",
       "      <td>1</td>\n",
       "      <td>1</td>\n",
       "      <td>1</td>\n",
       "      <td>...</td>\n",
       "      <td>1</td>\n",
       "      <td>0</td>\n",
       "      <td>0</td>\n",
       "      <td>1</td>\n",
       "      <td>1</td>\n",
       "      <td>0</td>\n",
       "      <td>1</td>\n",
       "      <td>1</td>\n",
       "      <td>1</td>\n",
       "      <td>0</td>\n",
       "    </tr>\n",
       "    <tr>\n",
       "      <th>9</th>\n",
       "      <td>15</td>\n",
       "      <td>3</td>\n",
       "      <td>4</td>\n",
       "      <td>1</td>\n",
       "      <td>1</td>\n",
       "      <td>5</td>\n",
       "      <td>0</td>\n",
       "      <td>1</td>\n",
       "      <td>1</td>\n",
       "      <td>1</td>\n",
       "      <td>...</td>\n",
       "      <td>1</td>\n",
       "      <td>0</td>\n",
       "      <td>0</td>\n",
       "      <td>1</td>\n",
       "      <td>1</td>\n",
       "      <td>1</td>\n",
       "      <td>1</td>\n",
       "      <td>1</td>\n",
       "      <td>1</td>\n",
       "      <td>0</td>\n",
       "    </tr>\n",
       "    <tr>\n",
       "      <th>10</th>\n",
       "      <td>15</td>\n",
       "      <td>4</td>\n",
       "      <td>4</td>\n",
       "      <td>3</td>\n",
       "      <td>2</td>\n",
       "      <td>2</td>\n",
       "      <td>0</td>\n",
       "      <td>1</td>\n",
       "      <td>1</td>\n",
       "      <td>0</td>\n",
       "      <td>...</td>\n",
       "      <td>1</td>\n",
       "      <td>0</td>\n",
       "      <td>0</td>\n",
       "      <td>1</td>\n",
       "      <td>1</td>\n",
       "      <td>0</td>\n",
       "      <td>1</td>\n",
       "      <td>1</td>\n",
       "      <td>1</td>\n",
       "      <td>0</td>\n",
       "    </tr>\n",
       "    <tr>\n",
       "      <th>11</th>\n",
       "      <td>15</td>\n",
       "      <td>2</td>\n",
       "      <td>1</td>\n",
       "      <td>2</td>\n",
       "      <td>1</td>\n",
       "      <td>4</td>\n",
       "      <td>4</td>\n",
       "      <td>1</td>\n",
       "      <td>1</td>\n",
       "      <td>1</td>\n",
       "      <td>...</td>\n",
       "      <td>0</td>\n",
       "      <td>0</td>\n",
       "      <td>0</td>\n",
       "      <td>1</td>\n",
       "      <td>0</td>\n",
       "      <td>1</td>\n",
       "      <td>1</td>\n",
       "      <td>1</td>\n",
       "      <td>1</td>\n",
       "      <td>0</td>\n",
       "    </tr>\n",
       "    <tr>\n",
       "      <th>12</th>\n",
       "      <td>15</td>\n",
       "      <td>4</td>\n",
       "      <td>4</td>\n",
       "      <td>3</td>\n",
       "      <td>3</td>\n",
       "      <td>5</td>\n",
       "      <td>2</td>\n",
       "      <td>1</td>\n",
       "      <td>1</td>\n",
       "      <td>1</td>\n",
       "      <td>...</td>\n",
       "      <td>0</td>\n",
       "      <td>0</td>\n",
       "      <td>0</td>\n",
       "      <td>1</td>\n",
       "      <td>1</td>\n",
       "      <td>1</td>\n",
       "      <td>1</td>\n",
       "      <td>1</td>\n",
       "      <td>1</td>\n",
       "      <td>0</td>\n",
       "    </tr>\n",
       "    <tr>\n",
       "      <th>13</th>\n",
       "      <td>15</td>\n",
       "      <td>4</td>\n",
       "      <td>3</td>\n",
       "      <td>3</td>\n",
       "      <td>2</td>\n",
       "      <td>3</td>\n",
       "      <td>2</td>\n",
       "      <td>1</td>\n",
       "      <td>1</td>\n",
       "      <td>1</td>\n",
       "      <td>...</td>\n",
       "      <td>1</td>\n",
       "      <td>0</td>\n",
       "      <td>0</td>\n",
       "      <td>1</td>\n",
       "      <td>1</td>\n",
       "      <td>0</td>\n",
       "      <td>1</td>\n",
       "      <td>1</td>\n",
       "      <td>1</td>\n",
       "      <td>0</td>\n",
       "    </tr>\n",
       "    <tr>\n",
       "      <th>14</th>\n",
       "      <td>15</td>\n",
       "      <td>2</td>\n",
       "      <td>2</td>\n",
       "      <td>2</td>\n",
       "      <td>1</td>\n",
       "      <td>3</td>\n",
       "      <td>0</td>\n",
       "      <td>1</td>\n",
       "      <td>1</td>\n",
       "      <td>1</td>\n",
       "      <td>...</td>\n",
       "      <td>0</td>\n",
       "      <td>1</td>\n",
       "      <td>0</td>\n",
       "      <td>1</td>\n",
       "      <td>0</td>\n",
       "      <td>0</td>\n",
       "      <td>1</td>\n",
       "      <td>1</td>\n",
       "      <td>1</td>\n",
       "      <td>1</td>\n",
       "    </tr>\n",
       "    <tr>\n",
       "      <th>15</th>\n",
       "      <td>16</td>\n",
       "      <td>4</td>\n",
       "      <td>4</td>\n",
       "      <td>4</td>\n",
       "      <td>2</td>\n",
       "      <td>2</td>\n",
       "      <td>4</td>\n",
       "      <td>1</td>\n",
       "      <td>1</td>\n",
       "      <td>1</td>\n",
       "      <td>...</td>\n",
       "      <td>1</td>\n",
       "      <td>0</td>\n",
       "      <td>0</td>\n",
       "      <td>1</td>\n",
       "      <td>0</td>\n",
       "      <td>0</td>\n",
       "      <td>1</td>\n",
       "      <td>1</td>\n",
       "      <td>1</td>\n",
       "      <td>0</td>\n",
       "    </tr>\n",
       "    <tr>\n",
       "      <th>16</th>\n",
       "      <td>16</td>\n",
       "      <td>4</td>\n",
       "      <td>4</td>\n",
       "      <td>3</td>\n",
       "      <td>2</td>\n",
       "      <td>2</td>\n",
       "      <td>6</td>\n",
       "      <td>1</td>\n",
       "      <td>1</td>\n",
       "      <td>1</td>\n",
       "      <td>...</td>\n",
       "      <td>1</td>\n",
       "      <td>0</td>\n",
       "      <td>0</td>\n",
       "      <td>1</td>\n",
       "      <td>1</td>\n",
       "      <td>1</td>\n",
       "      <td>1</td>\n",
       "      <td>1</td>\n",
       "      <td>1</td>\n",
       "      <td>0</td>\n",
       "    </tr>\n",
       "    <tr>\n",
       "      <th>17</th>\n",
       "      <td>16</td>\n",
       "      <td>3</td>\n",
       "      <td>3</td>\n",
       "      <td>2</td>\n",
       "      <td>1</td>\n",
       "      <td>4</td>\n",
       "      <td>4</td>\n",
       "      <td>0</td>\n",
       "      <td>1</td>\n",
       "      <td>1</td>\n",
       "      <td>...</td>\n",
       "      <td>1</td>\n",
       "      <td>0</td>\n",
       "      <td>1</td>\n",
       "      <td>1</td>\n",
       "      <td>0</td>\n",
       "      <td>1</td>\n",
       "      <td>1</td>\n",
       "      <td>1</td>\n",
       "      <td>0</td>\n",
       "      <td>0</td>\n",
       "    </tr>\n",
       "    <tr>\n",
       "      <th>18</th>\n",
       "      <td>17</td>\n",
       "      <td>3</td>\n",
       "      <td>2</td>\n",
       "      <td>5</td>\n",
       "      <td>4</td>\n",
       "      <td>5</td>\n",
       "      <td>16</td>\n",
       "      <td>0</td>\n",
       "      <td>0</td>\n",
       "      <td>0</td>\n",
       "      <td>...</td>\n",
       "      <td>1</td>\n",
       "      <td>0</td>\n",
       "      <td>0</td>\n",
       "      <td>1</td>\n",
       "      <td>0</td>\n",
       "      <td>1</td>\n",
       "      <td>1</td>\n",
       "      <td>1</td>\n",
       "      <td>1</td>\n",
       "      <td>0</td>\n",
       "    </tr>\n",
       "    <tr>\n",
       "      <th>19</th>\n",
       "      <td>16</td>\n",
       "      <td>4</td>\n",
       "      <td>3</td>\n",
       "      <td>3</td>\n",
       "      <td>3</td>\n",
       "      <td>5</td>\n",
       "      <td>4</td>\n",
       "      <td>0</td>\n",
       "      <td>1</td>\n",
       "      <td>1</td>\n",
       "      <td>...</td>\n",
       "      <td>0</td>\n",
       "      <td>0</td>\n",
       "      <td>0</td>\n",
       "      <td>0</td>\n",
       "      <td>1</td>\n",
       "      <td>1</td>\n",
       "      <td>1</td>\n",
       "      <td>1</td>\n",
       "      <td>1</td>\n",
       "      <td>0</td>\n",
       "    </tr>\n",
       "  </tbody>\n",
       "</table>\n",
       "<p>20 rows × 36 columns</p>\n",
       "</div>"
      ],
      "text/plain": [
       "        age  Medu  Fedu  goout  Walc  health  absences  G1  G2  G3  ...  \\\n",
       "number                                                              ...   \n",
       "0        18     4     4      4     1       3         6   0   0   0  ...   \n",
       "1        17     1     1      3     1       3         4   0   0   0  ...   \n",
       "2        15     1     1      2     3       3        10   0   0   1  ...   \n",
       "3        15     4     2      2     1       5         2   1   1   1  ...   \n",
       "4        16     3     3      2     2       5         4   0   1   1  ...   \n",
       "5        16     4     3      2     2       5        10   1   1   1  ...   \n",
       "6        16     2     2      4     1       3         0   1   1   1  ...   \n",
       "7        17     4     4      4     1       1         6   0   0   0  ...   \n",
       "8        15     3     2      2     1       1         0   1   1   1  ...   \n",
       "9        15     3     4      1     1       5         0   1   1   1  ...   \n",
       "10       15     4     4      3     2       2         0   1   1   0  ...   \n",
       "11       15     2     1      2     1       4         4   1   1   1  ...   \n",
       "12       15     4     4      3     3       5         2   1   1   1  ...   \n",
       "13       15     4     3      3     2       3         2   1   1   1  ...   \n",
       "14       15     2     2      2     1       3         0   1   1   1  ...   \n",
       "15       16     4     4      4     2       2         4   1   1   1  ...   \n",
       "16       16     4     4      3     2       2         6   1   1   1  ...   \n",
       "17       16     3     3      2     1       4         4   0   1   1  ...   \n",
       "18       17     3     2      5     4       5        16   0   0   0  ...   \n",
       "19       16     4     3      3     3       5         4   0   1   1  ...   \n",
       "\n",
       "        guardian_mother  guardian_other  schoolsup_yes  famsup_yes  paid_yes  \\\n",
       "number                                                                         \n",
       "0                     1               0              1           0         0   \n",
       "1                     0               0              0           1         0   \n",
       "2                     1               0              1           0         1   \n",
       "3                     1               0              0           1         1   \n",
       "4                     0               0              0           1         1   \n",
       "5                     1               0              0           1         1   \n",
       "6                     1               0              0           0         0   \n",
       "7                     1               0              1           1         0   \n",
       "8                     1               0              0           1         1   \n",
       "9                     1               0              0           1         1   \n",
       "10                    1               0              0           1         1   \n",
       "11                    0               0              0           1         0   \n",
       "12                    0               0              0           1         1   \n",
       "13                    1               0              0           1         1   \n",
       "14                    0               1              0           1         0   \n",
       "15                    1               0              0           1         0   \n",
       "16                    1               0              0           1         1   \n",
       "17                    1               0              1           1         0   \n",
       "18                    1               0              0           1         0   \n",
       "19                    0               0              0           0         1   \n",
       "\n",
       "        activities_yes  nursery_yes  higher_yes  internet_yes  romantic_yes  \n",
       "number                                                                       \n",
       "0                    0            1           1             0             0  \n",
       "1                    0            0           1             1             0  \n",
       "2                    0            1           1             1             0  \n",
       "3                    1            1           1             1             1  \n",
       "4                    0            1           1             0             0  \n",
       "5                    1            1           1             1             0  \n",
       "6                    0            1           1             1             0  \n",
       "7                    0            1           1             0             0  \n",
       "8                    0            1           1             1             0  \n",
       "9                    1            1           1             1             0  \n",
       "10                   0            1           1             1             0  \n",
       "11                   1            1           1             1             0  \n",
       "12                   1            1           1             1             0  \n",
       "13                   0            1           1             1             0  \n",
       "14                   0            1           1             1             1  \n",
       "15                   0            1           1             1             0  \n",
       "16                   1            1           1             1             0  \n",
       "17                   1            1           1             0             0  \n",
       "18                   1            1           1             1             0  \n",
       "19                   1            1           1             1             0  \n",
       "\n",
       "[20 rows x 36 columns]"
      ]
     },
     "execution_count": 418,
     "metadata": {},
     "output_type": "execute_result"
    }
   ],
   "source": [
    "sd.head(20)"
   ]
  },
  {
   "cell_type": "markdown",
   "metadata": {
    "colab_type": "text",
    "id": "n4yNNfDbEJbp"
   },
   "source": [
    "# Q6. Consider G3 is the target attribute and remaining all attributes as features to predict G3. Now, separate features and target into separate dataframes and name them X and y respectively."
   ]
  },
  {
   "cell_type": "markdown",
   "metadata": {
    "colab_type": "text",
    "id": "x0BMwxdnEJbq"
   },
   "source": [
    "#### Answer:"
   ]
  },
  {
   "cell_type": "code",
   "execution_count": 422,
   "metadata": {
    "colab": {},
    "colab_type": "code",
    "id": "v8NOoUt5EJbr"
   },
   "outputs": [
    {
     "data": {
      "text/html": [
       "<div>\n",
       "<style scoped>\n",
       "    .dataframe tbody tr th:only-of-type {\n",
       "        vertical-align: middle;\n",
       "    }\n",
       "\n",
       "    .dataframe tbody tr th {\n",
       "        vertical-align: top;\n",
       "    }\n",
       "\n",
       "    .dataframe thead th {\n",
       "        text-align: right;\n",
       "    }\n",
       "</style>\n",
       "<table border=\"1\" class=\"dataframe\">\n",
       "  <thead>\n",
       "    <tr style=\"text-align: right;\">\n",
       "      <th></th>\n",
       "      <th>age</th>\n",
       "      <th>Medu</th>\n",
       "      <th>Fedu</th>\n",
       "      <th>goout</th>\n",
       "      <th>Walc</th>\n",
       "      <th>health</th>\n",
       "      <th>absences</th>\n",
       "      <th>G1</th>\n",
       "      <th>G2</th>\n",
       "      <th>school_MS</th>\n",
       "      <th>...</th>\n",
       "      <th>guardian_mother</th>\n",
       "      <th>guardian_other</th>\n",
       "      <th>schoolsup_yes</th>\n",
       "      <th>famsup_yes</th>\n",
       "      <th>paid_yes</th>\n",
       "      <th>activities_yes</th>\n",
       "      <th>nursery_yes</th>\n",
       "      <th>higher_yes</th>\n",
       "      <th>internet_yes</th>\n",
       "      <th>romantic_yes</th>\n",
       "    </tr>\n",
       "    <tr>\n",
       "      <th>number</th>\n",
       "      <th></th>\n",
       "      <th></th>\n",
       "      <th></th>\n",
       "      <th></th>\n",
       "      <th></th>\n",
       "      <th></th>\n",
       "      <th></th>\n",
       "      <th></th>\n",
       "      <th></th>\n",
       "      <th></th>\n",
       "      <th></th>\n",
       "      <th></th>\n",
       "      <th></th>\n",
       "      <th></th>\n",
       "      <th></th>\n",
       "      <th></th>\n",
       "      <th></th>\n",
       "      <th></th>\n",
       "      <th></th>\n",
       "      <th></th>\n",
       "      <th></th>\n",
       "    </tr>\n",
       "  </thead>\n",
       "  <tbody>\n",
       "    <tr>\n",
       "      <th>0</th>\n",
       "      <td>18</td>\n",
       "      <td>4</td>\n",
       "      <td>4</td>\n",
       "      <td>4</td>\n",
       "      <td>1</td>\n",
       "      <td>3</td>\n",
       "      <td>6</td>\n",
       "      <td>0</td>\n",
       "      <td>0</td>\n",
       "      <td>0</td>\n",
       "      <td>...</td>\n",
       "      <td>1</td>\n",
       "      <td>0</td>\n",
       "      <td>1</td>\n",
       "      <td>0</td>\n",
       "      <td>0</td>\n",
       "      <td>0</td>\n",
       "      <td>1</td>\n",
       "      <td>1</td>\n",
       "      <td>0</td>\n",
       "      <td>0</td>\n",
       "    </tr>\n",
       "    <tr>\n",
       "      <th>1</th>\n",
       "      <td>17</td>\n",
       "      <td>1</td>\n",
       "      <td>1</td>\n",
       "      <td>3</td>\n",
       "      <td>1</td>\n",
       "      <td>3</td>\n",
       "      <td>4</td>\n",
       "      <td>0</td>\n",
       "      <td>0</td>\n",
       "      <td>0</td>\n",
       "      <td>...</td>\n",
       "      <td>0</td>\n",
       "      <td>0</td>\n",
       "      <td>0</td>\n",
       "      <td>1</td>\n",
       "      <td>0</td>\n",
       "      <td>0</td>\n",
       "      <td>0</td>\n",
       "      <td>1</td>\n",
       "      <td>1</td>\n",
       "      <td>0</td>\n",
       "    </tr>\n",
       "  </tbody>\n",
       "</table>\n",
       "<p>2 rows × 35 columns</p>\n",
       "</div>"
      ],
      "text/plain": [
       "        age  Medu  Fedu  goout  Walc  health  absences  G1  G2  school_MS  \\\n",
       "number                                                                      \n",
       "0        18     4     4      4     1       3         6   0   0          0   \n",
       "1        17     1     1      3     1       3         4   0   0          0   \n",
       "\n",
       "        ...  guardian_mother  guardian_other  schoolsup_yes  famsup_yes  \\\n",
       "number  ...                                                               \n",
       "0       ...                1               0              1           0   \n",
       "1       ...                0               0              0           1   \n",
       "\n",
       "        paid_yes  activities_yes  nursery_yes  higher_yes  internet_yes  \\\n",
       "number                                                                    \n",
       "0              0               0            1           1             0   \n",
       "1              0               0            0           1             1   \n",
       "\n",
       "        romantic_yes  \n",
       "number                \n",
       "0                  0  \n",
       "1                  0  \n",
       "\n",
       "[2 rows x 35 columns]"
      ]
     },
     "execution_count": 422,
     "metadata": {},
     "output_type": "execute_result"
    }
   ],
   "source": [
    "X=sd.drop('G3',axis=1)\n",
    "X.head(2)\n"
   ]
  },
  {
   "cell_type": "code",
   "execution_count": 426,
   "metadata": {},
   "outputs": [
    {
     "data": {
      "text/plain": [
       "number\n",
       "0    0\n",
       "1    0\n",
       "Name: G3, dtype: int64"
      ]
     },
     "execution_count": 426,
     "metadata": {},
     "output_type": "execute_result"
    }
   ],
   "source": [
    "y=sd['G3']\n",
    "y.head(2)"
   ]
  },
  {
   "cell_type": "markdown",
   "metadata": {
    "colab_type": "text",
    "id": "CO1eT5aeCQyW"
   },
   "source": [
    "## Visualization\n",
    "\n",
    "# Q7. Plot G2 and G3 and give your understanding on relation between both variables.\n",
    "\n",
    "### Hint: Use pd.crosstab(sd.G2,sd.G3).plot(kind='bar')\n",
    "\n",
    "#### Answer:"
   ]
  },
  {
   "cell_type": "code",
   "execution_count": 432,
   "metadata": {
    "colab": {},
    "colab_type": "code",
    "id": "-HsqHfuhCWWS"
   },
   "outputs": [
    {
     "data": {
      "text/plain": [
       "<matplotlib.axes._subplots.AxesSubplot at 0x2c24e82bd68>"
      ]
     },
     "execution_count": 432,
     "metadata": {},
     "output_type": "execute_result"
    },
    {
     "data": {
      "image/png": "[encoded data removed]",
      "text/plain": [
       "<Figure size 432x288 with 1 Axes>"
      ]
     },
     "metadata": {
      "needs_background": "light"
     },
     "output_type": "display_data"
    }
   ],
   "source": [
    " pd.crosstab(sd.G2,sd.G3).plot(kind='bar')"
   ]
  },
  {
   "cell_type": "markdown",
   "metadata": {},
   "source": [
    "# Q8. Plot the number of students in each school and number of students with different ages in separate plots.\n",
    "Hint: use seaborn sns.countplot()\n",
    "Answer:\n"
   ]
  },
  {
   "cell_type": "code",
   "execution_count": 438,
   "metadata": {},
   "outputs": [
    {
     "name": "stdout",
     "output_type": "stream",
     "text": [
      "<class 'pandas.core.frame.DataFrame'>\n",
      "RangeIndex: 395 entries, 0 to 394\n",
      "Data columns (total 36 columns):\n",
      "age                  395 non-null int64\n",
      "Medu                 395 non-null int64\n",
      "Fedu                 395 non-null int64\n",
      "goout                395 non-null int64\n",
      "Walc                 395 non-null int64\n",
      "health               395 non-null int64\n",
      "absences             395 non-null int64\n",
      "G1                   395 non-null int64\n",
      "G2                   395 non-null int64\n",
      "G3                   395 non-null int64\n",
      "school_MS            395 non-null uint8\n",
      "sex_M                395 non-null uint8\n",
      "address_U            395 non-null uint8\n",
      "famsize_LE3          395 non-null uint8\n",
      "Pstatus_T            395 non-null uint8\n",
      "Mjob_health          395 non-null uint8\n",
      "Mjob_other           395 non-null uint8\n",
      "Mjob_services        395 non-null uint8\n",
      "Mjob_teacher         395 non-null uint8\n",
      "Fjob_health          395 non-null uint8\n",
      "Fjob_other           395 non-null uint8\n",
      "Fjob_services        395 non-null uint8\n",
      "Fjob_teacher         395 non-null uint8\n",
      "reason_home          395 non-null uint8\n",
      "reason_other         395 non-null uint8\n",
      "reason_reputation    395 non-null uint8\n",
      "guardian_mother      395 non-null uint8\n",
      "guardian_other       395 non-null uint8\n",
      "schoolsup_yes        395 non-null uint8\n",
      "famsup_yes           395 non-null uint8\n",
      "paid_yes             395 non-null uint8\n",
      "activities_yes       395 non-null uint8\n",
      "nursery_yes          395 non-null uint8\n",
      "higher_yes           395 non-null uint8\n",
      "internet_yes         395 non-null uint8\n",
      "romantic_yes         395 non-null uint8\n",
      "dtypes: int64(10), uint8(26)\n",
      "memory usage: 41.0 KB\n"
     ]
    }
   ],
   "source": [
    "sd.info()"
   ]
  },
  {
   "cell_type": "code",
   "execution_count": 442,
   "metadata": {},
   "outputs": [
    {
     "data": {
      "text/plain": [
       "<matplotlib.axes._subplots.AxesSubplot at 0x2c25068be48>"
      ]
     },
     "execution_count": 442,
     "metadata": {},
     "output_type": "execute_result"
    },
    {
     "data": {
      "image/png": "[encoded data removed]",
      "text/plain": [
       "<Figure size 432x288 with 1 Axes>"
      ]
     },
     "metadata": {
      "needs_background": "light"
     },
     "output_type": "display_data"
    }
   ],
   "source": [
    "import seaborn as sns\n",
    "sns.countplot(x='age',hue='school_MS',data=sd)"
   ]
  },
  {
   "cell_type": "markdown",
   "metadata": {},
   "source": [
    "# Q9. Training and testing data split\n",
    "\n",
    "So far, you have converted all categorical features into numeric values. Now, split the data into training and test sets with training size of 300 records. Print the number of train and test records.\n",
    "Hint: check train_test_split() from sklearn\n",
    "Answer:\n",
    "In [ ]:\n",
    "\n",
    "\n",
    "\n",
    "​"
   ]
  },
  {
   "cell_type": "code",
   "execution_count": 443,
   "metadata": {
    "colab": {},
    "colab_type": "code",
    "id": "gpeJ4dNXEJbv"
   },
   "outputs": [],
   "source": [
    "from sklearn.model_selection import train_test_split"
   ]
  },
  {
   "cell_type": "code",
   "execution_count": null,
   "metadata": {},
   "outputs": [],
   "source": []
  },
  {
   "cell_type": "code",
   "execution_count": 446,
   "metadata": {},
   "outputs": [
    {
     "data": {
      "text/plain": [
       "75.9493670886076"
      ]
     },
     "execution_count": 446,
     "metadata": {},
     "output_type": "execute_result"
    }
   ],
   "source": [
    "30000/395"
   ]
  },
  {
   "cell_type": "code",
   "execution_count": 445,
   "metadata": {},
   "outputs": [],
   "source": [
    "X_train,X_test,y_train,y_test=train_test_split(X,y,train_size=0.76,random_state=1)"
   ]
  },
  {
   "cell_type": "code",
   "execution_count": 449,
   "metadata": {},
   "outputs": [
    {
     "data": {
      "text/plain": [
       "(300, 35)"
      ]
     },
     "execution_count": 449,
     "metadata": {},
     "output_type": "execute_result"
    }
   ],
   "source": [
    "X_train.shape"
   ]
  },
  {
   "cell_type": "code",
   "execution_count": 450,
   "metadata": {},
   "outputs": [
    {
     "data": {
      "text/plain": [
       "(95, 35)"
      ]
     },
     "execution_count": 450,
     "metadata": {},
     "output_type": "execute_result"
    }
   ],
   "source": [
    "X_test.shape"
   ]
  },
  {
   "cell_type": "code",
   "execution_count": 451,
   "metadata": {},
   "outputs": [
    {
     "name": "stdout",
     "output_type": "stream",
     "text": [
      "(300,)\n",
      "(95,)\n"
     ]
    }
   ],
   "source": [
    "print(y_train.shape)\n",
    "print(y_test.shape)"
   ]
  },
  {
   "cell_type": "code",
   "execution_count": null,
   "metadata": {},
   "outputs": [],
   "source": []
  },
  {
   "cell_type": "markdown",
   "metadata": {
    "colab_type": "text",
    "id": "TL9OIb_FEJbz"
   },
   "source": [
    "# Q10. - Model Implementation and Testing the Accuracy\n",
    "\n",
    "*Build a **LogisticRegression** classifier using **fit()** functions in sklearn. \n",
    "* You need to import both Logistic regression and accuracy score from sklearn*\n",
    "\n",
    "#### Answer:"
   ]
  },
  {
   "cell_type": "code",
   "execution_count": 481,
   "metadata": {},
   "outputs": [],
   "source": [
    "from sklearn.linear_model import LogisticRegression\n",
    "from sklearn.metrics import f1_score\n",
    "from sklearn.metrics import accuracy_score,confusion_matrix\n",
    "from sklearn import metrics"
   ]
  },
  {
   "cell_type": "code",
   "execution_count": 455,
   "metadata": {
    "colab": {},
    "colab_type": "code",
    "id": "Xk6uIiz2EJb_"
   },
   "outputs": [],
   "source": [
    "lrm=LogisticRegression()"
   ]
  },
  {
   "cell_type": "code",
   "execution_count": 456,
   "metadata": {},
   "outputs": [
    {
     "name": "stderr",
     "output_type": "stream",
     "text": [
      "C:\\Users\\darsh\\Anaconda3\\lib\\site-packages\\sklearn\\linear_model\\logistic.py:432: FutureWarning: Default solver will be changed to 'lbfgs' in 0.22. Specify a solver to silence this warning.\n",
      "  FutureWarning)\n"
     ]
    },
    {
     "data": {
      "text/plain": [
       "LogisticRegression(C=1.0, class_weight=None, dual=False, fit_intercept=True,\n",
       "                   intercept_scaling=1, l1_ratio=None, max_iter=100,\n",
       "                   multi_class='warn', n_jobs=None, penalty='l2',\n",
       "                   random_state=None, solver='warn', tol=0.0001, verbose=0,\n",
       "                   warm_start=False)"
      ]
     },
     "execution_count": 456,
     "metadata": {},
     "output_type": "execute_result"
    }
   ],
   "source": [
    "lrm.fit(X_train,y_train)"
   ]
  },
  {
   "cell_type": "code",
   "execution_count": 458,
   "metadata": {},
   "outputs": [],
   "source": [
    "y_pred=lrm.predict(X_test)"
   ]
  },
  {
   "cell_type": "code",
   "execution_count": 465,
   "metadata": {},
   "outputs": [
    {
     "data": {
      "text/html": [
       "<div>\n",
       "<style scoped>\n",
       "    .dataframe tbody tr th:only-of-type {\n",
       "        vertical-align: middle;\n",
       "    }\n",
       "\n",
       "    .dataframe tbody tr th {\n",
       "        vertical-align: top;\n",
       "    }\n",
       "\n",
       "    .dataframe thead th {\n",
       "        text-align: right;\n",
       "    }\n",
       "</style>\n",
       "<table border=\"1\" class=\"dataframe\">\n",
       "  <thead>\n",
       "    <tr style=\"text-align: right;\">\n",
       "      <th></th>\n",
       "      <th>age</th>\n",
       "      <th>Medu</th>\n",
       "      <th>Fedu</th>\n",
       "      <th>goout</th>\n",
       "      <th>Walc</th>\n",
       "      <th>health</th>\n",
       "      <th>absences</th>\n",
       "      <th>G1</th>\n",
       "      <th>G2</th>\n",
       "      <th>school_MS</th>\n",
       "      <th>...</th>\n",
       "      <th>guardian_other</th>\n",
       "      <th>schoolsup_yes</th>\n",
       "      <th>famsup_yes</th>\n",
       "      <th>paid_yes</th>\n",
       "      <th>activities_yes</th>\n",
       "      <th>nursery_yes</th>\n",
       "      <th>higher_yes</th>\n",
       "      <th>internet_yes</th>\n",
       "      <th>romantic_yes</th>\n",
       "      <th>intercept</th>\n",
       "    </tr>\n",
       "  </thead>\n",
       "  <tbody>\n",
       "    <tr>\n",
       "      <th>0</th>\n",
       "      <td>-0.128206</td>\n",
       "      <td>0.053398</td>\n",
       "      <td>-0.194056</td>\n",
       "      <td>-0.420815</td>\n",
       "      <td>0.270368</td>\n",
       "      <td>-0.088468</td>\n",
       "      <td>-0.031889</td>\n",
       "      <td>1.117697</td>\n",
       "      <td>3.027888</td>\n",
       "      <td>0.246726</td>\n",
       "      <td>...</td>\n",
       "      <td>-0.275879</td>\n",
       "      <td>-0.555908</td>\n",
       "      <td>-0.290125</td>\n",
       "      <td>0.456621</td>\n",
       "      <td>-0.180268</td>\n",
       "      <td>-0.0325</td>\n",
       "      <td>0.866102</td>\n",
       "      <td>0.50186</td>\n",
       "      <td>-0.873303</td>\n",
       "      <td>0.337691</td>\n",
       "    </tr>\n",
       "  </tbody>\n",
       "</table>\n",
       "<p>1 rows × 36 columns</p>\n",
       "</div>"
      ],
      "text/plain": [
       "        age      Medu      Fedu     goout      Walc    health  absences  \\\n",
       "0 -0.128206  0.053398 -0.194056 -0.420815  0.270368 -0.088468 -0.031889   \n",
       "\n",
       "         G1        G2  school_MS  ...  guardian_other  schoolsup_yes  \\\n",
       "0  1.117697  3.027888   0.246726  ...       -0.275879      -0.555908   \n",
       "\n",
       "   famsup_yes  paid_yes  activities_yes  nursery_yes  higher_yes  \\\n",
       "0   -0.290125  0.456621       -0.180268      -0.0325    0.866102   \n",
       "\n",
       "   internet_yes  romantic_yes  intercept  \n",
       "0       0.50186     -0.873303   0.337691  \n",
       "\n",
       "[1 rows x 36 columns]"
      ]
     },
     "execution_count": 465,
     "metadata": {},
     "output_type": "execute_result"
    }
   ],
   "source": [
    "t=list(X_train.columns)\n",
    "coef_df=pd.DataFrame(lrm.coef_,columns=t)\n",
    "coef_df['intercept']=lrm.intercept_\n",
    "coef_df\n"
   ]
  },
  {
   "cell_type": "code",
   "execution_count": 483,
   "metadata": {},
   "outputs": [
    {
     "name": "stdout",
     "output_type": "stream",
     "text": [
      "0.8526315789473684\n"
     ]
    }
   ],
   "source": [
    "model_sc=lrm.score(X_test,y_test)\n",
    "print(model_sc)"
   ]
  },
  {
   "cell_type": "code",
   "execution_count": 484,
   "metadata": {},
   "outputs": [
    {
     "data": {
      "text/plain": [
       "0.9"
      ]
     },
     "execution_count": 484,
     "metadata": {},
     "output_type": "execute_result"
    }
   ],
   "source": [
    "lrm.score(X_train,y_train)"
   ]
  },
  {
   "cell_type": "code",
   "execution_count": 487,
   "metadata": {},
   "outputs": [],
   "source": [
    "a=confusion_matrix(y_test,y_pred)"
   ]
  },
  {
   "cell_type": "code",
   "execution_count": 489,
   "metadata": {},
   "outputs": [],
   "source": [
    "%recall"
   ]
  },
  {
   "cell_type": "code",
   "execution_count": null,
   "metadata": {},
   "outputs": [],
   "source": [
    "0.9"
   ]
  },
  {
   "cell_type": "code",
   "execution_count": null,
   "metadata": {},
   "outputs": [],
   "source": [
    "[[21  7]\n",
    " [ 7 60]]"
   ]
  },
  {
   "cell_type": "code",
   "execution_count": 491,
   "metadata": {},
   "outputs": [
    {
     "data": {
      "text/plain": [
       "0.8955223880597015"
      ]
     },
     "execution_count": 491,
     "metadata": {},
     "output_type": "execute_result"
    }
   ],
   "source": [
    "f1_score(y_test,y_pred)"
   ]
  },
  {
   "cell_type": "code",
   "execution_count": 493,
   "metadata": {},
   "outputs": [
    {
     "data": {
      "text/plain": [
       "0.8526315789473684"
      ]
     },
     "execution_count": 493,
     "metadata": {},
     "output_type": "execute_result"
    }
   ],
   "source": [
    "accuracy_score(y_test,y_pred)"
   ]
  },
  {
   "cell_type": "markdown",
   "metadata": {
    "colab_type": "text",
    "id": "v6sXbH93Huol"
   },
   "source": [
    "# ----------------------------------------------------------------------\n",
    "# Supervised Leaning - Naive Bayes with Iris Data\n",
    "# ----------------------------------------------------------------------"
   ]
  },
  {
   "cell_type": "code",
   "execution_count": 38,
   "metadata": {
    "colab": {},
    "colab_type": "code",
    "id": "Fwgqcy8iHuon"
   },
   "outputs": [],
   "source": [
    "#Load all required library\n",
    "import pandas as pd\n",
    "import seaborn as sns\n",
    "import numpy as np\n",
    "from matplotlib import pyplot as plt\n",
    "%matplotlib inline\n",
    "from sklearn import datasets\n",
    "from sklearn.decomposition import PCA\n",
    "from sklearn.naive_bayes import GaussianNB, BernoulliNB, MultinomialNB"
   ]
  },
  {
   "cell_type": "markdown",
   "metadata": {
    "colab_type": "text",
    "id": "mSUZN0ExHuot"
   },
   "source": [
    "### Import Iris.csv"
   ]
  },
  {
   "cell_type": "code",
   "execution_count": 39,
   "metadata": {
    "colab": {},
    "colab_type": "code",
    "id": "MtjTNX6bHuov"
   },
   "outputs": [
    {
     "data": {
      "text/html": [
       "<div>\n",
       "<style scoped>\n",
       "    .dataframe tbody tr th:only-of-type {\n",
       "        vertical-align: middle;\n",
       "    }\n",
       "\n",
       "    .dataframe tbody tr th {\n",
       "        vertical-align: top;\n",
       "    }\n",
       "\n",
       "    .dataframe thead th {\n",
       "        text-align: right;\n",
       "    }\n",
       "</style>\n",
       "<table border=\"1\" class=\"dataframe\">\n",
       "  <thead>\n",
       "    <tr style=\"text-align: right;\">\n",
       "      <th></th>\n",
       "      <th>Id</th>\n",
       "      <th>SepalLengthCm</th>\n",
       "      <th>SepalWidthCm</th>\n",
       "      <th>PetalLengthCm</th>\n",
       "      <th>PetalWidthCm</th>\n",
       "      <th>Species</th>\n",
       "    </tr>\n",
       "  </thead>\n",
       "  <tbody>\n",
       "    <tr>\n",
       "      <th>0</th>\n",
       "      <td>1</td>\n",
       "      <td>5.1</td>\n",
       "      <td>3.5</td>\n",
       "      <td>1.4</td>\n",
       "      <td>0.2</td>\n",
       "      <td>Iris-setosa</td>\n",
       "    </tr>\n",
       "    <tr>\n",
       "      <th>1</th>\n",
       "      <td>2</td>\n",
       "      <td>4.9</td>\n",
       "      <td>3.0</td>\n",
       "      <td>1.4</td>\n",
       "      <td>0.2</td>\n",
       "      <td>Iris-setosa</td>\n",
       "    </tr>\n",
       "    <tr>\n",
       "      <th>2</th>\n",
       "      <td>3</td>\n",
       "      <td>4.7</td>\n",
       "      <td>3.2</td>\n",
       "      <td>1.3</td>\n",
       "      <td>0.2</td>\n",
       "      <td>Iris-setosa</td>\n",
       "    </tr>\n",
       "    <tr>\n",
       "      <th>3</th>\n",
       "      <td>4</td>\n",
       "      <td>4.6</td>\n",
       "      <td>3.1</td>\n",
       "      <td>1.5</td>\n",
       "      <td>0.2</td>\n",
       "      <td>Iris-setosa</td>\n",
       "    </tr>\n",
       "    <tr>\n",
       "      <th>4</th>\n",
       "      <td>5</td>\n",
       "      <td>5.0</td>\n",
       "      <td>3.6</td>\n",
       "      <td>1.4</td>\n",
       "      <td>0.2</td>\n",
       "      <td>Iris-setosa</td>\n",
       "    </tr>\n",
       "  </tbody>\n",
       "</table>\n",
       "</div>"
      ],
      "text/plain": [
       "   Id  SepalLengthCm  SepalWidthCm  PetalLengthCm  PetalWidthCm      Species\n",
       "0   1            5.1           3.5            1.4           0.2  Iris-setosa\n",
       "1   2            4.9           3.0            1.4           0.2  Iris-setosa\n",
       "2   3            4.7           3.2            1.3           0.2  Iris-setosa\n",
       "3   4            4.6           3.1            1.5           0.2  Iris-setosa\n",
       "4   5            5.0           3.6            1.4           0.2  Iris-setosa"
      ]
     },
     "execution_count": 39,
     "metadata": {},
     "output_type": "execute_result"
    }
   ],
   "source": [
    "# Load using input file\n",
    "iris=pd.read_csv(\"Iris.csv\")\n",
    "iris.head(5)"
   ]
  },
  {
   "cell_type": "markdown",
   "metadata": {},
   "source": [
    "### Treat NaN's/ Null values found"
   ]
  },
  {
   "cell_type": "code",
   "execution_count": 40,
   "metadata": {},
   "outputs": [],
   "source": [
    "iris=iris.fillna(0)"
   ]
  },
  {
   "cell_type": "markdown",
   "metadata": {},
   "source": [
    "### Slice  Iris data set for Independent variables and dependent variables\n",
    "\n",
    "#### Please note 'Species' is your dependent variable, name it y and independent set data as X"
   ]
  },
  {
   "cell_type": "code",
   "execution_count": 41,
   "metadata": {},
   "outputs": [],
   "source": [
    "X=iris.iloc[:,:4].values\n",
    "y=iris['Species'].values"
   ]
  },
  {
   "cell_type": "code",
   "execution_count": 42,
   "metadata": {
    "colab": {},
    "colab_type": "code",
    "id": "z4oZginZHuo2"
   },
   "outputs": [
    {
     "name": "stdout",
     "output_type": "stream",
     "text": [
      "['Iris-setosa' 'Iris-setosa' 'Iris-setosa' 'Iris-setosa' 'Iris-setosa'\n",
      " 'Iris-setosa' 'Iris-setosa' 'Iris-setosa' 'Iris-setosa' 'Iris-setosa'\n",
      " 'Iris-setosa' 'Iris-setosa' 'Iris-setosa' 'Iris-setosa' 'Iris-setosa'\n",
      " 'Iris-setosa' 'Iris-setosa' 'Iris-setosa' 'Iris-setosa' 'Iris-setosa'\n",
      " 'Iris-setosa' 'Iris-setosa' 'Iris-setosa' 'Iris-setosa' 'Iris-setosa'\n",
      " 'Iris-setosa' 'Iris-setosa' 'Iris-setosa' 'Iris-setosa' 'Iris-setosa'\n",
      " 'Iris-setosa' 'Iris-setosa' 'Iris-setosa' 'Iris-setosa' 'Iris-setosa'\n",
      " 'Iris-setosa' 'Iris-setosa' 'Iris-setosa' 'Iris-setosa' 'Iris-setosa'\n",
      " 'Iris-setosa' 'Iris-setosa' 'Iris-setosa' 'Iris-setosa' 'Iris-setosa'\n",
      " 'Iris-setosa' 'Iris-setosa' 'Iris-setosa' 'Iris-setosa' 'Iris-setosa'\n",
      " 'Iris-versicolor' 'Iris-versicolor' 'Iris-versicolor' 'Iris-versicolor'\n",
      " 'Iris-versicolor' 'Iris-versicolor' 'Iris-versicolor' 'Iris-versicolor'\n",
      " 'Iris-versicolor' 'Iris-versicolor' 'Iris-versicolor' 'Iris-versicolor'\n",
      " 'Iris-versicolor' 'Iris-versicolor' 'Iris-versicolor' 'Iris-versicolor'\n",
      " 'Iris-versicolor' 'Iris-versicolor' 'Iris-versicolor' 'Iris-versicolor'\n",
      " 'Iris-versicolor' 'Iris-versicolor' 'Iris-versicolor' 'Iris-versicolor'\n",
      " 'Iris-versicolor' 'Iris-versicolor' 'Iris-versicolor' 'Iris-versicolor'\n",
      " 'Iris-versicolor' 'Iris-versicolor' 'Iris-versicolor' 'Iris-versicolor'\n",
      " 'Iris-versicolor' 'Iris-versicolor' 'Iris-versicolor' 'Iris-versicolor'\n",
      " 'Iris-versicolor' 'Iris-versicolor' 'Iris-versicolor' 'Iris-versicolor'\n",
      " 'Iris-versicolor' 'Iris-versicolor' 'Iris-versicolor' 'Iris-versicolor'\n",
      " 'Iris-versicolor' 'Iris-versicolor' 'Iris-versicolor' 'Iris-versicolor'\n",
      " 'Iris-versicolor' 'Iris-versicolor' 'Iris-virginica' 'Iris-virginica'\n",
      " 'Iris-virginica' 'Iris-virginica' 'Iris-virginica' 'Iris-virginica'\n",
      " 'Iris-virginica' 'Iris-virginica' 'Iris-virginica' 'Iris-virginica'\n",
      " 'Iris-virginica' 'Iris-virginica' 'Iris-virginica' 'Iris-virginica'\n",
      " 'Iris-virginica' 'Iris-virginica' 'Iris-virginica' 'Iris-virginica'\n",
      " 'Iris-virginica' 'Iris-virginica' 'Iris-virginica' 'Iris-virginica'\n",
      " 'Iris-virginica' 'Iris-virginica' 'Iris-virginica' 'Iris-virginica'\n",
      " 'Iris-virginica' 'Iris-virginica' 'Iris-virginica' 'Iris-virginica'\n",
      " 'Iris-virginica' 'Iris-virginica' 'Iris-virginica' 'Iris-virginica'\n",
      " 'Iris-virginica' 'Iris-virginica' 'Iris-virginica' 'Iris-virginica'\n",
      " 'Iris-virginica' 'Iris-virginica' 'Iris-virginica' 'Iris-virginica'\n",
      " 'Iris-virginica' 'Iris-virginica' 'Iris-virginica' 'Iris-virginica'\n",
      " 'Iris-virginica' 'Iris-virginica' 'Iris-virginica' 'Iris-virginica'\n",
      " 'Iris-virginica' 'Iris-virginica']\n",
      "[[  1.    5.1   3.5   1.4]\n",
      " [  2.    4.9   3.    1.4]\n",
      " [  3.    4.7   3.2   1.3]\n",
      " [  4.    4.6   3.1   1.5]\n",
      " [  5.    5.    3.6   1.4]\n",
      " [  6.    5.4   3.9   1.7]\n",
      " [  7.    4.6   3.4   1.4]\n",
      " [  8.    5.    3.4   1.5]\n",
      " [  9.    4.4   2.9   1.4]\n",
      " [ 10.    4.9   3.1   1.5]\n",
      " [ 11.    5.4   3.7   1.5]\n",
      " [ 12.    4.8   3.4   1.6]\n",
      " [ 13.    4.8   3.    1.4]\n",
      " [ 14.    4.3   3.    1.1]\n",
      " [ 15.    5.8   4.    1.2]\n",
      " [ 16.    5.7   4.4   1.5]\n",
      " [ 17.    5.4   3.9   1.3]\n",
      " [ 18.    5.1   3.5   1.4]\n",
      " [ 19.    5.7   3.8   1.7]\n",
      " [ 20.    5.1   3.8   1.5]\n",
      " [ 21.    5.4   3.4   1.7]\n",
      " [ 22.    5.1   3.7   1.5]\n",
      " [ 23.    4.6   3.6   1. ]\n",
      " [ 24.    5.1   3.3   1.7]\n",
      " [ 25.    4.8   3.4   1.9]\n",
      " [ 26.    5.    3.    1.6]\n",
      " [ 27.    5.    3.4   1.6]\n",
      " [ 28.    5.2   3.5   1.5]\n",
      " [ 29.    5.2   3.4   1.4]\n",
      " [ 30.    4.7   3.2   1.6]\n",
      " [ 31.    4.8   3.1   1.6]\n",
      " [ 32.    5.4   3.4   1.5]\n",
      " [ 33.    5.2   4.1   1.5]\n",
      " [ 34.    5.5   4.2   1.4]\n",
      " [ 35.    4.9   3.1   1.5]\n",
      " [ 36.    5.    3.2   1.2]\n",
      " [ 37.    5.5   3.5   1.3]\n",
      " [ 38.    4.9   3.1   1.5]\n",
      " [ 39.    4.4   3.    1.3]\n",
      " [ 40.    5.1   3.4   1.5]\n",
      " [ 41.    5.    3.5   1.3]\n",
      " [ 42.    4.5   2.3   1.3]\n",
      " [ 43.    4.4   3.2   1.3]\n",
      " [ 44.    5.    3.5   1.6]\n",
      " [ 45.    5.1   3.8   1.9]\n",
      " [ 46.    4.8   3.    1.4]\n",
      " [ 47.    5.1   3.8   1.6]\n",
      " [ 48.    4.6   3.2   1.4]\n",
      " [ 49.    5.3   3.7   1.5]\n",
      " [ 50.    5.    3.3   1.4]\n",
      " [ 51.    7.    3.2   4.7]\n",
      " [ 52.    6.4   3.2   4.5]\n",
      " [ 53.    6.9   3.1   4.9]\n",
      " [ 54.    5.5   2.3   4. ]\n",
      " [ 55.    6.5   2.8   4.6]\n",
      " [ 56.    5.7   2.8   4.5]\n",
      " [ 57.    6.3   3.3   4.7]\n",
      " [ 58.    4.9   2.4   3.3]\n",
      " [ 59.    6.6   2.9   4.6]\n",
      " [ 60.    5.2   2.7   3.9]\n",
      " [ 61.    5.    2.    3.5]\n",
      " [ 62.    5.9   3.    4.2]\n",
      " [ 63.    6.    2.2   4. ]\n",
      " [ 64.    6.1   2.9   4.7]\n",
      " [ 65.    5.6   2.9   3.6]\n",
      " [ 66.    6.7   3.1   4.4]\n",
      " [ 67.    5.6   3.    4.5]\n",
      " [ 68.    5.8   2.7   4.1]\n",
      " [ 69.    6.2   2.2   4.5]\n",
      " [ 70.    5.6   2.5   3.9]\n",
      " [ 71.    5.9   3.2   4.8]\n",
      " [ 72.    6.1   2.8   4. ]\n",
      " [ 73.    6.3   2.5   4.9]\n",
      " [ 74.    6.1   2.8   4.7]\n",
      " [ 75.    6.4   2.9   4.3]\n",
      " [ 76.    6.6   3.    4.4]\n",
      " [ 77.    6.8   2.8   4.8]\n",
      " [ 78.    6.7   3.    5. ]\n",
      " [ 79.    6.    2.9   4.5]\n",
      " [ 80.    5.7   2.6   3.5]\n",
      " [ 81.    5.5   2.4   3.8]\n",
      " [ 82.    5.5   2.4   3.7]\n",
      " [ 83.    5.8   2.7   3.9]\n",
      " [ 84.    6.    2.7   5.1]\n",
      " [ 85.    5.4   3.    4.5]\n",
      " [ 86.    6.    3.4   4.5]\n",
      " [ 87.    6.7   3.1   4.7]\n",
      " [ 88.    6.3   2.3   4.4]\n",
      " [ 89.    5.6   3.    4.1]\n",
      " [ 90.    5.5   2.5   4. ]\n",
      " [ 91.    5.5   2.6   4.4]\n",
      " [ 92.    6.1   3.    4.6]\n",
      " [ 93.    5.8   2.6   4. ]\n",
      " [ 94.    5.    2.3   3.3]\n",
      " [ 95.    5.6   2.7   4.2]\n",
      " [ 96.    5.7   3.    4.2]\n",
      " [ 97.    5.7   2.9   4.2]\n",
      " [ 98.    6.2   2.9   4.3]\n",
      " [ 99.    5.1   2.5   3. ]\n",
      " [100.    5.7   2.8   4.1]\n",
      " [101.    6.3   3.3   6. ]\n",
      " [102.    5.8   2.7   5.1]\n",
      " [103.    7.1   3.    5.9]\n",
      " [104.    6.3   2.9   5.6]\n",
      " [105.    6.5   3.    5.8]\n",
      " [106.    7.6   3.    6.6]\n",
      " [107.    4.9   2.5   4.5]\n",
      " [108.    7.3   2.9   6.3]\n",
      " [109.    6.7   2.5   5.8]\n",
      " [110.    7.2   3.6   6.1]\n",
      " [111.    6.5   3.2   5.1]\n",
      " [112.    6.4   2.7   5.3]\n",
      " [113.    6.8   3.    5.5]\n",
      " [114.    5.7   2.5   5. ]\n",
      " [115.    5.8   2.8   5.1]\n",
      " [116.    6.4   3.2   5.3]\n",
      " [117.    6.5   3.    5.5]\n",
      " [118.    7.7   3.8   6.7]\n",
      " [119.    7.7   2.6   6.9]\n",
      " [120.    6.    2.2   5. ]\n",
      " [121.    6.9   3.2   5.7]\n",
      " [122.    5.6   2.8   4.9]\n",
      " [123.    7.7   2.8   6.7]\n",
      " [124.    6.3   2.7   4.9]\n",
      " [125.    6.7   3.3   5.7]\n",
      " [126.    7.2   3.2   6. ]\n",
      " [127.    6.2   2.8   4.8]\n",
      " [128.    6.1   3.    4.9]\n",
      " [129.    6.4   2.8   5.6]\n",
      " [130.    7.2   3.    5.8]\n",
      " [131.    7.4   2.8   6.1]\n",
      " [132.    7.9   3.8   6.4]\n",
      " [133.    6.4   2.8   5.6]\n",
      " [134.    6.3   2.8   5.1]\n",
      " [135.    6.1   2.6   5.6]\n",
      " [136.    7.7   3.    6.1]\n",
      " [137.    6.3   3.4   5.6]\n",
      " [138.    6.4   3.1   5.5]\n",
      " [139.    6.    3.    4.8]\n",
      " [140.    6.9   3.1   5.4]\n",
      " [141.    6.7   3.1   5.6]\n",
      " [142.    6.9   3.1   5.1]\n",
      " [143.    5.8   2.7   5.1]\n",
      " [144.    6.8   3.2   5.9]\n",
      " [145.    6.7   3.3   5.7]\n",
      " [146.    6.7   3.    5.2]\n",
      " [147.    6.3   2.5   5. ]\n",
      " [148.    6.5   3.    5.2]\n",
      " [149.    6.2   3.4   5.4]\n",
      " [150.    5.9   3.    5.1]\n",
      " [151.    5.9   0.    0. ]\n",
      " [152.    0.    0.    0. ]]\n"
     ]
    }
   ],
   "source": [
    "#Check the dataset\n",
    "print(y)\n",
    "print(X)"
   ]
  },
  {
   "cell_type": "markdown",
   "metadata": {
    "colab_type": "text",
    "id": "0tjAAFABHuo8"
   },
   "source": [
    "# Q1.  Find the distribution of target variable (Species) and, Plot the distribution of target variable using histogram"
   ]
  },
  {
   "cell_type": "code",
   "execution_count": 12,
   "metadata": {
    "colab": {},
    "colab_type": "code",
    "id": "9MOM08lIHuo-"
   },
   "outputs": [
    {
     "data": {
      "text/plain": [
       "<matplotlib.axes._subplots.AxesSubplot at 0x1b1c3005a58>"
      ]
     },
     "execution_count": 12,
     "metadata": {},
     "output_type": "execute_result"
    },
    {
     "data": {
      "image/png": "[encoded data removed]",
      "text/plain": [
       "<Figure size 432x288 with 1 Axes>"
      ]
     },
     "metadata": {
      "needs_background": "light"
     },
     "output_type": "display_data"
    }
   ],
   "source": [
    "sns.countplot(x=\"Species\",data=iris)"
   ]
  },
  {
   "cell_type": "code",
   "execution_count": 22,
   "metadata": {
    "colab": {},
    "colab_type": "code",
    "id": "nGzK2Gn2HupC"
   },
   "outputs": [
    {
     "data": {
      "image/png": "[encoded data removed]",
      "text/plain": [
       "<Figure size 432x288 with 1 Axes>"
      ]
     },
     "metadata": {
      "needs_background": "light"
     },
     "output_type": "display_data"
    }
   ],
   "source": [
    "plt.hist(y,bins=[1,2,3,4,5])\n",
    "plt.show()"
   ]
  },
  {
   "cell_type": "code",
   "execution_count": 18,
   "metadata": {
    "colab": {},
    "colab_type": "code",
    "id": "RnfaMmoaHupH"
   },
   "outputs": [],
   "source": [
    "# Drop Id variable from data"
   ]
  },
  {
   "cell_type": "code",
   "execution_count": 43,
   "metadata": {},
   "outputs": [
    {
     "data": {
      "text/html": [
       "<div>\n",
       "<style scoped>\n",
       "    .dataframe tbody tr th:only-of-type {\n",
       "        vertical-align: middle;\n",
       "    }\n",
       "\n",
       "    .dataframe tbody tr th {\n",
       "        vertical-align: top;\n",
       "    }\n",
       "\n",
       "    .dataframe thead th {\n",
       "        text-align: right;\n",
       "    }\n",
       "</style>\n",
       "<table border=\"1\" class=\"dataframe\">\n",
       "  <thead>\n",
       "    <tr style=\"text-align: right;\">\n",
       "      <th></th>\n",
       "      <th>Id</th>\n",
       "      <th>SepalLengthCm</th>\n",
       "      <th>SepalWidthCm</th>\n",
       "      <th>PetalLengthCm</th>\n",
       "      <th>PetalWidthCm</th>\n",
       "      <th>Species</th>\n",
       "    </tr>\n",
       "  </thead>\n",
       "  <tbody>\n",
       "    <tr>\n",
       "      <th>0</th>\n",
       "      <td>1</td>\n",
       "      <td>5.1</td>\n",
       "      <td>3.5</td>\n",
       "      <td>1.4</td>\n",
       "      <td>0.2</td>\n",
       "      <td>Iris-setosa</td>\n",
       "    </tr>\n",
       "    <tr>\n",
       "      <th>1</th>\n",
       "      <td>2</td>\n",
       "      <td>4.9</td>\n",
       "      <td>3.0</td>\n",
       "      <td>1.4</td>\n",
       "      <td>0.2</td>\n",
       "      <td>Iris-setosa</td>\n",
       "    </tr>\n",
       "    <tr>\n",
       "      <th>2</th>\n",
       "      <td>3</td>\n",
       "      <td>4.7</td>\n",
       "      <td>3.2</td>\n",
       "      <td>1.3</td>\n",
       "      <td>0.2</td>\n",
       "      <td>Iris-setosa</td>\n",
       "    </tr>\n",
       "  </tbody>\n",
       "</table>\n",
       "</div>"
      ],
      "text/plain": [
       "   Id  SepalLengthCm  SepalWidthCm  PetalLengthCm  PetalWidthCm      Species\n",
       "0   1            5.1           3.5            1.4           0.2  Iris-setosa\n",
       "1   2            4.9           3.0            1.4           0.2  Iris-setosa\n",
       "2   3            4.7           3.2            1.3           0.2  Iris-setosa"
      ]
     },
     "execution_count": 43,
     "metadata": {},
     "output_type": "execute_result"
    }
   ],
   "source": [
    "iris.head(3)"
   ]
  },
  {
   "cell_type": "code",
   "execution_count": 48,
   "metadata": {},
   "outputs": [
    {
     "data": {
      "text/html": [
       "<div>\n",
       "<style scoped>\n",
       "    .dataframe tbody tr th:only-of-type {\n",
       "        vertical-align: middle;\n",
       "    }\n",
       "\n",
       "    .dataframe tbody tr th {\n",
       "        vertical-align: top;\n",
       "    }\n",
       "\n",
       "    .dataframe thead th {\n",
       "        text-align: right;\n",
       "    }\n",
       "</style>\n",
       "<table border=\"1\" class=\"dataframe\">\n",
       "  <thead>\n",
       "    <tr style=\"text-align: right;\">\n",
       "      <th></th>\n",
       "      <th>SepalLengthCm</th>\n",
       "      <th>SepalWidthCm</th>\n",
       "      <th>PetalLengthCm</th>\n",
       "      <th>PetalWidthCm</th>\n",
       "      <th>Species</th>\n",
       "    </tr>\n",
       "  </thead>\n",
       "  <tbody>\n",
       "    <tr>\n",
       "      <th>0</th>\n",
       "      <td>5.1</td>\n",
       "      <td>3.5</td>\n",
       "      <td>1.4</td>\n",
       "      <td>0.2</td>\n",
       "      <td>Iris-setosa</td>\n",
       "    </tr>\n",
       "    <tr>\n",
       "      <th>1</th>\n",
       "      <td>4.9</td>\n",
       "      <td>3.0</td>\n",
       "      <td>1.4</td>\n",
       "      <td>0.2</td>\n",
       "      <td>Iris-setosa</td>\n",
       "    </tr>\n",
       "  </tbody>\n",
       "</table>\n",
       "</div>"
      ],
      "text/plain": [
       "   SepalLengthCm  SepalWidthCm  PetalLengthCm  PetalWidthCm      Species\n",
       "0            5.1           3.5            1.4           0.2  Iris-setosa\n",
       "1            4.9           3.0            1.4           0.2  Iris-setosa"
      ]
     },
     "execution_count": 48,
     "metadata": {},
     "output_type": "execute_result"
    }
   ],
   "source": [
    "iris.drop(labels=\"Id\",axis=1).head(2)"
   ]
  },
  {
   "cell_type": "code",
   "execution_count": 72,
   "metadata": {},
   "outputs": [],
   "source": [
    "X=iris.drop(labels=[\"Species\",\"Id\"],axis=1)"
   ]
  },
  {
   "cell_type": "code",
   "execution_count": 73,
   "metadata": {},
   "outputs": [
    {
     "data": {
      "text/html": [
       "<div>\n",
       "<style scoped>\n",
       "    .dataframe tbody tr th:only-of-type {\n",
       "        vertical-align: middle;\n",
       "    }\n",
       "\n",
       "    .dataframe tbody tr th {\n",
       "        vertical-align: top;\n",
       "    }\n",
       "\n",
       "    .dataframe thead th {\n",
       "        text-align: right;\n",
       "    }\n",
       "</style>\n",
       "<table border=\"1\" class=\"dataframe\">\n",
       "  <thead>\n",
       "    <tr style=\"text-align: right;\">\n",
       "      <th></th>\n",
       "      <th>SepalLengthCm</th>\n",
       "      <th>SepalWidthCm</th>\n",
       "      <th>PetalLengthCm</th>\n",
       "      <th>PetalWidthCm</th>\n",
       "    </tr>\n",
       "  </thead>\n",
       "  <tbody>\n",
       "    <tr>\n",
       "      <th>0</th>\n",
       "      <td>5.1</td>\n",
       "      <td>3.5</td>\n",
       "      <td>1.4</td>\n",
       "      <td>0.2</td>\n",
       "    </tr>\n",
       "    <tr>\n",
       "      <th>1</th>\n",
       "      <td>4.9</td>\n",
       "      <td>3.0</td>\n",
       "      <td>1.4</td>\n",
       "      <td>0.2</td>\n",
       "    </tr>\n",
       "  </tbody>\n",
       "</table>\n",
       "</div>"
      ],
      "text/plain": [
       "   SepalLengthCm  SepalWidthCm  PetalLengthCm  PetalWidthCm\n",
       "0            5.1           3.5            1.4           0.2\n",
       "1            4.9           3.0            1.4           0.2"
      ]
     },
     "execution_count": 73,
     "metadata": {},
     "output_type": "execute_result"
    }
   ],
   "source": [
    "X.head(2)"
   ]
  },
  {
   "cell_type": "code",
   "execution_count": 74,
   "metadata": {},
   "outputs": [
    {
     "data": {
      "text/plain": [
       "0    Iris-setosa\n",
       "1    Iris-setosa\n",
       "Name: Species, dtype: object"
      ]
     },
     "execution_count": 74,
     "metadata": {},
     "output_type": "execute_result"
    }
   ],
   "source": [
    "y=iris[\"Species\"]\n",
    "y.head(2)"
   ]
  },
  {
   "cell_type": "markdown",
   "metadata": {
    "colab_type": "text",
    "id": "4t25mCgtHupL"
   },
   "source": [
    "# Q2. Find Correlation among all variables and give your insights "
   ]
  },
  {
   "cell_type": "code",
   "execution_count": 75,
   "metadata": {
    "colab": {},
    "colab_type": "code",
    "id": "Hpx6ESv0HupS"
   },
   "outputs": [
    {
     "data": {
      "text/html": [
       "<div>\n",
       "<style scoped>\n",
       "    .dataframe tbody tr th:only-of-type {\n",
       "        vertical-align: middle;\n",
       "    }\n",
       "\n",
       "    .dataframe tbody tr th {\n",
       "        vertical-align: top;\n",
       "    }\n",
       "\n",
       "    .dataframe thead th {\n",
       "        text-align: right;\n",
       "    }\n",
       "</style>\n",
       "<table border=\"1\" class=\"dataframe\">\n",
       "  <thead>\n",
       "    <tr style=\"text-align: right;\">\n",
       "      <th></th>\n",
       "      <th>Id</th>\n",
       "      <th>SepalLengthCm</th>\n",
       "      <th>SepalWidthCm</th>\n",
       "      <th>PetalLengthCm</th>\n",
       "      <th>PetalWidthCm</th>\n",
       "    </tr>\n",
       "  </thead>\n",
       "  <tbody>\n",
       "    <tr>\n",
       "      <th>Id</th>\n",
       "      <td>1.000000</td>\n",
       "      <td>0.539500</td>\n",
       "      <td>-0.427175</td>\n",
       "      <td>0.793490</td>\n",
       "      <td>0.864447</td>\n",
       "    </tr>\n",
       "    <tr>\n",
       "      <th>SepalLengthCm</th>\n",
       "      <td>0.539500</td>\n",
       "      <td>1.000000</td>\n",
       "      <td>0.145802</td>\n",
       "      <td>0.816560</td>\n",
       "      <td>0.668652</td>\n",
       "    </tr>\n",
       "    <tr>\n",
       "      <th>SepalWidthCm</th>\n",
       "      <td>-0.427175</td>\n",
       "      <td>0.145802</td>\n",
       "      <td>1.000000</td>\n",
       "      <td>-0.167316</td>\n",
       "      <td>-0.246073</td>\n",
       "    </tr>\n",
       "    <tr>\n",
       "      <th>PetalLengthCm</th>\n",
       "      <td>0.793490</td>\n",
       "      <td>0.816560</td>\n",
       "      <td>-0.167316</td>\n",
       "      <td>1.000000</td>\n",
       "      <td>0.936151</td>\n",
       "    </tr>\n",
       "    <tr>\n",
       "      <th>PetalWidthCm</th>\n",
       "      <td>0.864447</td>\n",
       "      <td>0.668652</td>\n",
       "      <td>-0.246073</td>\n",
       "      <td>0.936151</td>\n",
       "      <td>1.000000</td>\n",
       "    </tr>\n",
       "  </tbody>\n",
       "</table>\n",
       "</div>"
      ],
      "text/plain": [
       "                     Id  SepalLengthCm  SepalWidthCm  PetalLengthCm  \\\n",
       "Id             1.000000       0.539500     -0.427175       0.793490   \n",
       "SepalLengthCm  0.539500       1.000000      0.145802       0.816560   \n",
       "SepalWidthCm  -0.427175       0.145802      1.000000      -0.167316   \n",
       "PetalLengthCm  0.793490       0.816560     -0.167316       1.000000   \n",
       "PetalWidthCm   0.864447       0.668652     -0.246073       0.936151   \n",
       "\n",
       "               PetalWidthCm  \n",
       "Id                 0.864447  \n",
       "SepalLengthCm      0.668652  \n",
       "SepalWidthCm      -0.246073  \n",
       "PetalLengthCm      0.936151  \n",
       "PetalWidthCm       1.000000  "
      ]
     },
     "execution_count": 75,
     "metadata": {},
     "output_type": "execute_result"
    }
   ],
   "source": [
    "iris.corr()"
   ]
  },
  {
   "cell_type": "code",
   "execution_count": 76,
   "metadata": {},
   "outputs": [
    {
     "data": {
      "text/html": [
       "<div>\n",
       "<style scoped>\n",
       "    .dataframe tbody tr th:only-of-type {\n",
       "        vertical-align: middle;\n",
       "    }\n",
       "\n",
       "    .dataframe tbody tr th {\n",
       "        vertical-align: top;\n",
       "    }\n",
       "\n",
       "    .dataframe thead th {\n",
       "        text-align: right;\n",
       "    }\n",
       "</style>\n",
       "<table border=\"1\" class=\"dataframe\">\n",
       "  <thead>\n",
       "    <tr style=\"text-align: right;\">\n",
       "      <th></th>\n",
       "      <th>Id</th>\n",
       "      <th>SepalLengthCm</th>\n",
       "      <th>SepalWidthCm</th>\n",
       "      <th>PetalLengthCm</th>\n",
       "      <th>PetalWidthCm</th>\n",
       "      <th>Species</th>\n",
       "    </tr>\n",
       "  </thead>\n",
       "  <tbody>\n",
       "    <tr>\n",
       "      <th>0</th>\n",
       "      <td>1</td>\n",
       "      <td>5.1</td>\n",
       "      <td>3.5</td>\n",
       "      <td>1.4</td>\n",
       "      <td>0.2</td>\n",
       "      <td>Iris-setosa</td>\n",
       "    </tr>\n",
       "    <tr>\n",
       "      <th>1</th>\n",
       "      <td>2</td>\n",
       "      <td>4.9</td>\n",
       "      <td>3.0</td>\n",
       "      <td>1.4</td>\n",
       "      <td>0.2</td>\n",
       "      <td>Iris-setosa</td>\n",
       "    </tr>\n",
       "  </tbody>\n",
       "</table>\n",
       "</div>"
      ],
      "text/plain": [
       "   Id  SepalLengthCm  SepalWidthCm  PetalLengthCm  PetalWidthCm      Species\n",
       "0   1            5.1           3.5            1.4           0.2  Iris-setosa\n",
       "1   2            4.9           3.0            1.4           0.2  Iris-setosa"
      ]
     },
     "execution_count": 76,
     "metadata": {},
     "output_type": "execute_result"
    }
   ],
   "source": [
    "iris.head(2)"
   ]
  },
  {
   "cell_type": "code",
   "execution_count": 77,
   "metadata": {},
   "outputs": [
    {
     "data": {
      "text/plain": [
       "<matplotlib.axes._subplots.AxesSubplot at 0x1b1c4508240>"
      ]
     },
     "execution_count": 77,
     "metadata": {},
     "output_type": "execute_result"
    },
    {
     "data": {
      "image/png": "[encoded data removed]",
      "text/plain": [
       "<Figure size 432x288 with 2 Axes>"
      ]
     },
     "metadata": {
      "needs_background": "light"
     },
     "output_type": "display_data"
    }
   ],
   "source": [
    "sns.heatmap(iris.corr(),annot=True)"
   ]
  },
  {
   "cell_type": "raw",
   "metadata": {},
   "source": [
    "the correlation between (petalwidth,sepalwidth),(petal length,sepalwidth ),(sepal width,sepal length) is very low...."
   ]
  },
  {
   "cell_type": "code",
   "execution_count": 78,
   "metadata": {},
   "outputs": [
    {
     "data": {
      "text/plain": [
       "<seaborn.axisgrid.PairGrid at 0x1b1c4d5b1d0>"
      ]
     },
     "execution_count": 78,
     "metadata": {},
     "output_type": "execute_result"
    },
    {
     "data": {
      "image/png": "[encoded data removed]",
      "text/plain": [
       "<Figure size 900x900 with 30 Axes>"
      ]
     },
     "metadata": {
      "needs_background": "light"
     },
     "output_type": "display_data"
    }
   ],
   "source": [
    "sns.pairplot(iris)"
   ]
  },
  {
   "cell_type": "raw",
   "metadata": {},
   "source": [
    "sepalwidth is not having any significant relation with any other variables....."
   ]
  },
  {
   "cell_type": "markdown",
   "metadata": {
    "colab_type": "text",
    "id": "fMwqZfKEHupV"
   },
   "source": [
    "### Split data in Training and test set in 80:20."
   ]
  },
  {
   "cell_type": "code",
   "execution_count": 79,
   "metadata": {
    "colab": {},
    "colab_type": "code",
    "id": "yRCFfCqHHupW"
   },
   "outputs": [],
   "source": [
    "from sklearn.model_selection import train_test_split\n",
    "X_train, X_test, y_train, y_test = train_test_split(X,y,test_size=0.20,random_state=1)"
   ]
  },
  {
   "cell_type": "markdown",
   "metadata": {
    "colab_type": "text",
    "id": "z8d4yxofHupb"
   },
   "source": [
    "# Q3. Feature Scaling on X_Train and X_Test"
   ]
  },
  {
   "cell_type": "code",
   "execution_count": 80,
   "metadata": {
    "colab": {},
    "colab_type": "code",
    "id": "Y7o_ra27Hupe"
   },
   "outputs": [],
   "source": [
    "# Use StandardScaler or similar methods"
   ]
  },
  {
   "cell_type": "code",
   "execution_count": 83,
   "metadata": {
    "colab": {},
    "colab_type": "code",
    "id": "bhJcgQOmHupi"
   },
   "outputs": [
    {
     "data": {
      "text/plain": [
       "array([[-7.09259440e-01,  1.42396322e+00, -1.21871831e+00,\n",
       "        -1.15368683e+00],\n",
       "       [-1.05599002e-01, -8.73364107e-01,  7.02112374e-01,\n",
       "         1.01752434e+00],\n",
       "       [ 4.98061436e-01, -1.66494161e-01,  1.03139763e+00,\n",
       "         7.62087729e-01],\n",
       "       [ 9.00501728e-01,  1.02233257e-02,  7.02112374e-01,\n",
       "         6.34369425e-01],\n",
       "       [ 9.00501728e-01,  1.02233257e-02,  8.11874127e-01,\n",
       "         1.40067925e+00],\n",
       "       [ 7.99891655e-01, -1.66494161e-01,  4.82588867e-01,\n",
       "         1.23496211e-01],\n",
       "       [-2.06209075e-01, -3.43211647e-01,  6.47231497e-01,\n",
       "         1.01752434e+00],\n",
       "       [ 4.98061436e-01,  5.40375785e-01,  5.37469744e-01,\n",
       "         5.06651122e-01],\n",
       "       [-6.08649367e-01,  7.17093272e-01, -1.27359919e+00,\n",
       "        -1.28140513e+00],\n",
       "       [ 5.98671509e-01,  3.63658299e-01,  4.27707990e-01,\n",
       "         3.78932818e-01],\n",
       "       [ 1.40355209e+00,  1.07052825e+00,  1.30580202e+00,\n",
       "         1.65611585e+00],\n",
       "       [-2.06209075e-01,  1.02233257e-02,  4.27707990e-01,\n",
       "         3.78932818e-01],\n",
       "       [-7.09259440e-01,  8.93810759e-01, -1.27359919e+00,\n",
       "        -1.15368683e+00],\n",
       "       [ 1.96231217e-01, -1.40351657e+00,  7.02112374e-01,\n",
       "         3.78932818e-01],\n",
       "       [ 3.97451363e-01, -3.43211647e-01,  5.92350620e-01,\n",
       "         7.62087729e-01],\n",
       "       [ 5.98671509e-01, -3.43211647e-01,  1.03139763e+00,\n",
       "         1.27296094e+00],\n",
       "       [ 2.96841290e-01, -3.43211647e-01,  5.37469744e-01,\n",
       "        -4.22209268e-03],\n",
       "       [-1.05599002e-01,  1.42396322e+00, -1.10895656e+00,\n",
       "        -1.15368683e+00],\n",
       "       [-5.08039294e-01,  1.24724573e+00, -1.21871831e+00,\n",
       "        -1.28140513e+00],\n",
       "       [-8.09869513e-01,  1.07052825e+00, -1.27359919e+00,\n",
       "        -1.28140513e+00],\n",
       "       [-1.01108966e+00,  1.02233257e-02, -1.27359919e+00,\n",
       "        -1.15368683e+00],\n",
       "       [ 7.99891655e-01,  1.02233257e-02,  3.72827113e-01,\n",
       "         2.51214515e-01],\n",
       "       [-7.09259440e-01,  7.17093272e-01, -1.21871831e+00,\n",
       "        -1.28140513e+00],\n",
       "       [-3.06819148e-01,  8.93810759e-01, -1.32848007e+00,\n",
       "        -1.28140513e+00],\n",
       "       [ 1.90660246e+00, -6.96646621e-01,  1.74484903e+00,\n",
       "         1.40067925e+00],\n",
       "       [ 9.56211437e-02, -5.29130127e+00, -2.04193146e+00,\n",
       "        -1.53684174e+00],\n",
       "       [ 9.00501728e-01, -8.73364107e-01,  1.14115939e+00,\n",
       "         7.62087729e-01],\n",
       "       [-1.01108966e+00,  1.02233257e-02, -1.27359919e+00,\n",
       "        -1.40912343e+00],\n",
       "       [ 6.99281582e-01,  1.02233257e-02,  8.11874127e-01,\n",
       "         1.01752434e+00],\n",
       "       [-4.07429221e-01,  1.02233257e-02,  4.27707990e-01,\n",
       "         3.78932818e-01],\n",
       "       [ 4.98061436e-01, -5.19929134e-01,  6.47231497e-01,\n",
       "         7.62087729e-01],\n",
       "       [ 4.98061436e-01,  7.17093272e-01,  1.03139763e+00,\n",
       "         1.52839755e+00],\n",
       "       [-1.01108966e+00,  7.17093272e-01, -1.16383744e+00,\n",
       "        -1.28140513e+00],\n",
       "       [-4.98892924e-03, -3.43211647e-01,  7.56993251e-01,\n",
       "         1.52839755e+00],\n",
       "       [-1.11169973e+00,  3.63658299e-01, -1.32848007e+00,\n",
       "        -1.28140513e+00],\n",
       "       [ 1.80599238e+00,  1.02233257e-02,  1.58020640e+00,\n",
       "         1.14524264e+00],\n",
       "       [-1.21230980e+00,  7.17093272e-01, -1.27359919e+00,\n",
       "        -1.15368683e+00],\n",
       "       [-7.09259440e-01,  8.93810759e-01, -1.27359919e+00,\n",
       "        -1.28140513e+00],\n",
       "       [ 5.98671509e-01, -5.19929134e-01,  8.66755004e-01,\n",
       "         8.89806033e-01],\n",
       "       [ 9.00501728e-01,  1.86940812e-01,  3.72827113e-01,\n",
       "         2.51214515e-01],\n",
       "       [-1.05599002e-01, -3.43211647e-01,  4.27707990e-01,\n",
       "         1.23496211e-01],\n",
       "       [ 6.99281582e-01,  1.02233257e-02,  1.14115939e+00,\n",
       "         1.27296094e+00],\n",
       "       [ 1.90660246e+00,  1.02233257e-02,  1.30580202e+00,\n",
       "         1.40067925e+00],\n",
       "       [-7.09259440e-01,  1.42396322e+00, -1.16383744e+00,\n",
       "        -1.28140513e+00],\n",
       "       [ 1.96231217e-01, -1.40351657e+00,  1.53303606e-01,\n",
       "        -2.59658700e-01],\n",
       "       [ 5.98671509e-01, -1.66494161e-01,  3.17946236e-01,\n",
       "         1.23496211e-01],\n",
       "       [ 1.90660246e+00,  1.42396322e+00,  1.63508728e+00,\n",
       "         1.27296094e+00],\n",
       "       [-2.06209075e-01, -5.19929134e-01,  2.63065360e-01,\n",
       "         1.23496211e-01],\n",
       "       [ 1.10172187e+00,  1.86940812e-01,  9.21635881e-01,\n",
       "         1.14524264e+00],\n",
       "       [-3.06819148e-01, -6.96646621e-01,  3.72827113e-01,\n",
       "        -4.22209268e-03],\n",
       "       [-4.07429221e-01,  1.24724573e+00, -1.21871831e+00,\n",
       "        -1.28140513e+00],\n",
       "       [-9.10479586e-01,  1.86940812e-01, -1.21871831e+00,\n",
       "        -1.40912343e+00],\n",
       "       [-6.08649367e-01,  1.95411568e+00, -1.21871831e+00,\n",
       "        -1.40912343e+00],\n",
       "       [ 1.40355209e+00,  3.63658299e-01,  1.25092114e+00,\n",
       "         7.62087729e-01],\n",
       "       [-1.41352995e+00,  1.02233257e-02, -1.32848007e+00,\n",
       "        -1.28140513e+00],\n",
       "       [ 1.96231217e-01, -5.19929134e-01,  7.56993251e-01,\n",
       "         5.06651122e-01],\n",
       "       [ 1.00111180e+00,  1.02233257e-02,  9.76516758e-01,\n",
       "         1.14524264e+00],\n",
       "       [-5.84037316e+00, -5.29130127e+00, -2.04193146e+00,\n",
       "         7.62087729e-01],\n",
       "       [-6.08649367e-01,  8.93810759e-01, -1.21871831e+00,\n",
       "        -1.28140513e+00],\n",
       "       [-7.09259440e-01,  5.40375785e-01, -1.10895656e+00,\n",
       "        -8.98250218e-01],\n",
       "       [-4.98892924e-03, -5.19929134e-01,  2.08184483e-01,\n",
       "        -2.59658700e-01],\n",
       "       [-9.10479586e-01,  1.86940812e-01, -1.21871831e+00,\n",
       "        -1.40912343e+00],\n",
       "       [ 2.10782260e+00,  1.42396322e+00,  1.47044465e+00,\n",
       "         1.01752434e+00],\n",
       "       [-7.09259440e-01, -8.73364107e-01, -3.95505161e-01,\n",
       "        -1.31940396e-01],\n",
       "       [ 1.10172187e+00,  3.63658299e-01,  1.08627851e+00,\n",
       "         1.40067925e+00],\n",
       "       [-4.98892924e-03, -5.19929134e-01,  7.56993251e-01,\n",
       "         8.89806033e-01],\n",
       "       [ 4.98061436e-01, -1.22679908e+00,  3.72827113e-01,\n",
       "         1.23496211e-01],\n",
       "       [ 1.10172187e+00,  1.86940812e-01,  7.56993251e-01,\n",
       "         1.40067925e+00],\n",
       "       [ 6.99281582e-01,  3.63658299e-01,  7.56993251e-01,\n",
       "         1.01752434e+00],\n",
       "       [-2.06209075e-01, -1.66494161e-01, -6.62199009e-02,\n",
       "         1.23496211e-01],\n",
       "       [-1.05599002e-01,  2.48426814e+00, -1.21871831e+00,\n",
       "        -1.02596852e+00],\n",
       "       [-4.98892924e-03, -5.19929134e-01,  9.84227294e-02,\n",
       "        -4.22209268e-03],\n",
       "       [-1.31291988e+00, -1.22679908e+00, -1.32848007e+00,\n",
       "        -1.15368683e+00],\n",
       "       [-3.06819148e-01, -1.05008159e+00,  4.35418526e-02,\n",
       "        -1.31940396e-01],\n",
       "       [ 1.10172187e+00,  1.86940812e-01,  6.47231497e-01,\n",
       "         3.78932818e-01],\n",
       "       [-8.09869513e-01,  7.17093272e-01, -1.16383744e+00,\n",
       "        -1.02596852e+00],\n",
       "       [ 1.00111180e+00, -3.43211647e-01,  5.92350620e-01,\n",
       "         2.51214515e-01],\n",
       "       [-8.09869513e-01,  8.93810759e-01, -1.16383744e+00,\n",
       "        -7.70531914e-01],\n",
       "       [-1.01108966e+00,  7.17093272e-01, -9.99194806e-01,\n",
       "        -1.28140513e+00],\n",
       "       [ 3.97451363e-01,  7.17093272e-01,  9.21635881e-01,\n",
       "         1.40067925e+00],\n",
       "       [ 6.99281582e-01,  1.02233257e-02,  9.76516758e-01,\n",
       "         7.62087729e-01],\n",
       "       [ 1.60477224e+00, -3.43211647e-01,  1.30580202e+00,\n",
       "         8.89806033e-01],\n",
       "       [-8.09869513e-01,  5.40375785e-01, -1.27359919e+00,\n",
       "        -1.28140513e+00],\n",
       "       [-7.09259440e-01,  1.24724573e+00, -1.21871831e+00,\n",
       "        -1.02596852e+00],\n",
       "       [ 9.56211437e-02,  3.63658299e-01,  5.92350620e-01,\n",
       "         7.62087729e-01],\n",
       "       [-1.21230980e+00,  1.86940812e-01, -1.21871831e+00,\n",
       "        -1.28140513e+00],\n",
       "       [ 1.00111180e+00,  3.63658299e-01,  1.19604026e+00,\n",
       "         1.40067925e+00],\n",
       "       [-1.01108966e+00,  1.86940812e-01, -1.16383744e+00,\n",
       "        -1.28140513e+00],\n",
       "       [ 9.56211437e-02,  1.02233257e-02,  7.56993251e-01,\n",
       "         7.62087729e-01],\n",
       "       [-9.10479586e-01, -8.73364107e-01,  4.27707990e-01,\n",
       "         6.34369425e-01],\n",
       "       [-1.21230980e+00,  3.63658299e-01, -1.27359919e+00,\n",
       "        -1.28140513e+00],\n",
       "       [ 5.98671509e-01,  3.63658299e-01,  8.66755004e-01,\n",
       "         1.40067925e+00],\n",
       "       [-1.51414002e+00,  1.02233257e-02, -1.43824182e+00,\n",
       "        -1.40912343e+00],\n",
       "       [-2.06209075e-01,  1.02233257e-02,  2.08184483e-01,\n",
       "         1.23496211e-01],\n",
       "       [-1.41352995e+00, -1.66494161e-01, -1.27359919e+00,\n",
       "        -1.28140513e+00],\n",
       "       [-3.06819148e-01, -1.05008159e+00, -1.13390241e-02,\n",
       "        -2.59658700e-01],\n",
       "       [-8.09869513e-01, -1.75695154e+00, -1.21100778e-01,\n",
       "        -2.59658700e-01],\n",
       "       [ 5.98671509e-01, -3.43211647e-01,  1.03139763e+00,\n",
       "         1.14524264e+00],\n",
       "       [-9.10479586e-01,  1.02233257e-02, -1.27359919e+00,\n",
       "        -1.28140513e+00],\n",
       "       [-9.10479586e-01, -1.05008159e+00, -2.30862531e-01,\n",
       "        -2.59658700e-01],\n",
       "       [-1.21230980e+00,  1.07052825e+00, -1.49312270e+00,\n",
       "        -1.28140513e+00],\n",
       "       [ 9.56211437e-02,  1.02233257e-02,  2.63065360e-01,\n",
       "         3.78932818e-01],\n",
       "       [ 2.96841290e-01, -1.66494161e-01,  5.37469744e-01,\n",
       "         2.51214515e-01],\n",
       "       [-8.09869513e-01,  7.17093272e-01, -1.21871831e+00,\n",
       "        -1.28140513e+00],\n",
       "       [ 9.00501728e-01,  1.86940812e-01,  5.37469744e-01,\n",
       "         3.78932818e-01],\n",
       "       [-1.05599002e-01, -1.66494161e-01,  2.63065360e-01,\n",
       "         1.23496211e-01],\n",
       "       [ 3.97451363e-01, -1.40351657e+00,  4.27707990e-01,\n",
       "         3.78932818e-01],\n",
       "       [ 1.20233195e+00,  3.63658299e-01,  5.37469744e-01,\n",
       "         2.51214515e-01],\n",
       "       [-4.98892924e-03, -5.19929134e-01,  7.56993251e-01,\n",
       "         8.89806033e-01],\n",
       "       [-4.07429221e-01,  7.17093272e-01, -1.10895656e+00,\n",
       "        -1.28140513e+00],\n",
       "       [-8.09869513e-01,  1.02233257e-02, -1.16383744e+00,\n",
       "        -1.28140513e+00],\n",
       "       [ 2.96841290e-01, -6.96646621e-01,  1.03139763e+00,\n",
       "         2.51214515e-01],\n",
       "       [ 2.96841290e-01, -3.43211647e-01,  1.53303606e-01,\n",
       "         1.23496211e-01],\n",
       "       [ 1.40355209e+00,  1.02233257e-02,  1.14115939e+00,\n",
       "         5.06651122e-01],\n",
       "       [ 9.00501728e-01,  5.40375785e-01,  1.08627851e+00,\n",
       "         1.65611585e+00],\n",
       "       [-1.05599002e-01, -6.96646621e-01, -1.21100778e-01,\n",
       "        -2.59658700e-01],\n",
       "       [ 4.98061436e-01, -3.43211647e-01,  7.56993251e-01,\n",
       "         3.78932818e-01],\n",
       "       [ 5.98671509e-01,  1.86940812e-01,  9.76516758e-01,\n",
       "         7.62087729e-01],\n",
       "       [ 4.98061436e-01, -8.73364107e-01,  6.47231497e-01,\n",
       "         3.78932818e-01],\n",
       "       [ 9.00501728e-01,  1.86940812e-01,  1.03139763e+00,\n",
       "         1.52839755e+00],\n",
       "       [-9.10479586e-01,  1.86940812e-01, -1.21871831e+00,\n",
       "        -1.40912343e+00]])"
      ]
     },
     "execution_count": 83,
     "metadata": {},
     "output_type": "execute_result"
    }
   ],
   "source": [
    "from sklearn.preprocessing import StandardScaler\n",
    "scaler=StandardScaler()\n",
    "sc_Train=scaler.fit_transform(X_train)\n",
    "sc_Test=scaler.fit_transform(X_test)\n"
   ]
  },
  {
   "cell_type": "markdown",
   "metadata": {
    "colab_type": "text",
    "id": "yLtqsTXwHupn"
   },
   "source": [
    "# Q4. Train and Fit NaiveBayes Model"
   ]
  },
  {
   "cell_type": "code",
   "execution_count": null,
   "metadata": {
    "colab": {},
    "colab_type": "code",
    "id": "7gqp9ej6Hupp"
   },
   "outputs": [],
   "source": [
    "#Fit the model"
   ]
  },
  {
   "cell_type": "code",
   "execution_count": 94,
   "metadata": {},
   "outputs": [],
   "source": [
    "from sklearn.metrics import confusion_matrix\n",
    "from sklearn import metrics\n",
    "from sklearn.metrics import accuracy_score,f1_score"
   ]
  },
  {
   "cell_type": "code",
   "execution_count": 121,
   "metadata": {},
   "outputs": [
    {
     "data": {
      "text/plain": [
       "GaussianNB(priors=None, var_smoothing=1e-09)"
      ]
     },
     "execution_count": 121,
     "metadata": {},
     "output_type": "execute_result"
    }
   ],
   "source": [
    "Naive=GaussianNB()\n",
    "Naive.fit(sc_Train,y_train)"
   ]
  },
  {
   "cell_type": "code",
   "execution_count": 107,
   "metadata": {
    "colab": {},
    "colab_type": "code",
    "id": "v_4CFBdRHupt"
   },
   "outputs": [],
   "source": [
    "#Predict"
   ]
  },
  {
   "cell_type": "code",
   "execution_count": 123,
   "metadata": {},
   "outputs": [],
   "source": [
    "y_pred=Naive.predict(sc_Test)"
   ]
  },
  {
   "cell_type": "markdown",
   "metadata": {
    "colab_type": "text",
    "id": "UW_HXYOeHupy"
   },
   "source": [
    "# Q5.  Print Accuracy and Confusion Matrix and Conclude your findings"
   ]
  },
  {
   "cell_type": "code",
   "execution_count": 124,
   "metadata": {
    "colab": {},
    "colab_type": "code",
    "id": "8mZGt-uLHup0"
   },
   "outputs": [],
   "source": [
    "# show Confusion Matrix\n",
    "from sklearn.metrics import confusion_matrix"
   ]
  },
  {
   "cell_type": "code",
   "execution_count": 125,
   "metadata": {},
   "outputs": [
    {
     "data": {
      "text/plain": [
       "array([[10,  0,  0],\n",
       "       [ 0, 13,  0],\n",
       "       [ 0,  0,  8]], dtype=int64)"
      ]
     },
     "execution_count": 125,
     "metadata": {},
     "output_type": "execute_result"
    }
   ],
   "source": [
    "confusion_matrix(y_test,y_pred)"
   ]
  },
  {
   "cell_type": "code",
   "execution_count": 126,
   "metadata": {
    "colab": {},
    "colab_type": "code",
    "id": "AUqBiwmiHup4"
   },
   "outputs": [],
   "source": [
    "# show accuracy\n",
    "from sklearn.metrics import accuracy_score"
   ]
  },
  {
   "cell_type": "code",
   "execution_count": 128,
   "metadata": {},
   "outputs": [
    {
     "data": {
      "text/plain": [
       "1.0"
      ]
     },
     "execution_count": 128,
     "metadata": {},
     "output_type": "execute_result"
    }
   ],
   "source": [
    "accuracy_score(y_test,y_pred)"
   ]
  },
  {
   "cell_type": "code",
   "execution_count": 132,
   "metadata": {},
   "outputs": [
    {
     "data": {
      "text/plain": [
       "1.0"
      ]
     },
     "execution_count": 132,
     "metadata": {},
     "output_type": "execute_result"
    }
   ],
   "source": [
    "f1_score(y_test,y_pred,average='macro')"
   ]
  },
  {
   "cell_type": "code",
   "execution_count": null,
   "metadata": {
    "colab": {},
    "colab_type": "code",
    "id": "bhCN30DZHup-"
   },
   "outputs": [],
   "source": [
    "#Show precision and Recall metrics\n",
    "from sklearn import metrics"
   ]
  },
  {
   "cell_type": "code",
   "execution_count": 137,
   "metadata": {
    "colab": {},
    "colab_type": "code",
    "id": "xoj4zdh6HuqC"
   },
   "outputs": [
    {
     "data": {
      "text/plain": [
       "1.0"
      ]
     },
     "execution_count": 137,
     "metadata": {},
     "output_type": "execute_result"
    }
   ],
   "source": [
    "metrics.precision_score(y_test,y_pred,average=\"macro\")"
   ]
  },
  {
   "cell_type": "code",
   "execution_count": 138,
   "metadata": {},
   "outputs": [
    {
     "data": {
      "text/plain": [
       "1.0"
      ]
     },
     "execution_count": 138,
     "metadata": {},
     "output_type": "execute_result"
    }
   ],
   "source": [
    "metrics.recall_score(y_test,y_pred,average=\"macro\")"
   ]
  },
  {
   "cell_type": "markdown",
   "metadata": {},
   "source": [
    "The above model predicting test scaled data with 100% accuracy as we have used standard scalared data given to tha model...\n"
   ]
  }
 ],
 "metadata": {
  "colab": {
   "name": "logistic_regression_student_performance_data_questions.ipynb",
   "provenance": [],
   "version": "0.3.2"
  },
  "kernelspec": {
   "display_name": "Python 3",
   "language": "python",
   "name": "python3"
  },
  "language_info": {
   "codemirror_mode": {
    "name": "ipython",
    "version": 3
   },
   "file_extension": ".py",
   "mimetype": "text/x-python",
   "name": "python",
   "nbconvert_exporter": "python",
   "pygments_lexer": "ipython3",
   "version": "3.7.3"
  }
 },
 "nbformat": 4,
 "nbformat_minor": 1
}
