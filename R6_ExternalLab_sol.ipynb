{
  "nbformat": 4,
  "nbformat_minor": 0,
  "metadata": {
    "colab": {
      "name": "R6_ExternalLab.ipynb",
      "provenance": [],
      "machine_shape": "hm"
    },
    "kernelspec": {
      "name": "python2",
      "display_name": "Python 2"
    },
    "accelerator": "TPU"
  },
  "cells": [
    {
      "cell_type": "markdown",
      "metadata": {
        "id": "YYk8NG3yOIT9",
        "colab_type": "text"
      },
      "source": [
        "### A MNIST-like fashion product database\n",
        "\n",
        "In this, we classify the images into respective classes given in the dataset. We use a Neural Net and a Deep Neural Net in Keras to solve this and check the accuracy scores."
      ]
    },
    {
      "cell_type": "markdown",
      "metadata": {
        "id": "tFO6PuxzOIT_",
        "colab_type": "text"
      },
      "source": [
        "### Load tensorflow"
      ]
    },
    {
      "cell_type": "code",
      "metadata": {
        "id": "efNjNImfOIUC",
        "colab_type": "code",
        "colab": {}
      },
      "source": [
        "import tensorflow as tf\n",
        "tf.set_random_seed(42)"
      ],
      "execution_count": 0,
      "outputs": []
    },
    {
      "cell_type": "code",
      "metadata": {
        "id": "l9C4aAIGOIUH",
        "colab_type": "code",
        "outputId": "d779772a-392e-4e40-a932-5c303e15d1e5",
        "colab": {
          "base_uri": "https://localhost:8080/",
          "height": 35
        }
      },
      "source": [
        "tf.__version__"
      ],
      "execution_count": 16,
      "outputs": [
        {
          "output_type": "execute_result",
          "data": {
            "text/plain": [
              "'1.15.0'"
            ]
          },
          "metadata": {
            "tags": []
          },
          "execution_count": 16
        }
      ]
    },
    {
      "cell_type": "markdown",
      "metadata": {
        "id": "HcoZBStrOIUQ",
        "colab_type": "text"
      },
      "source": [
        "### Collect Data"
      ]
    },
    {
      "cell_type": "code",
      "metadata": {
        "id": "XA1WsFSeOIUS",
        "colab_type": "code",
        "colab": {}
      },
      "source": [
        "import keras"
      ],
      "execution_count": 0,
      "outputs": []
    },
    {
      "cell_type": "code",
      "metadata": {
        "id": "qnbx7TyQOIUY",
        "colab_type": "code",
        "colab": {}
      },
      "source": [
        "(trainX, trainY), (testX, testY) = keras.datasets.fashion_mnist.load_data()"
      ],
      "execution_count": 0,
      "outputs": []
    },
    {
      "cell_type": "code",
      "metadata": {
        "id": "UbiHj5YPOIUc",
        "colab_type": "code",
        "outputId": "11845ab3-2316-48b7-e5cf-1c550d22e119",
        "colab": {
          "base_uri": "https://localhost:8080/",
          "height": 35
        }
      },
      "source": [
        "print(testY[0:5])"
      ],
      "execution_count": 19,
      "outputs": [
        {
          "output_type": "stream",
          "text": [
            "[9 2 1 1 6]\n"
          ],
          "name": "stdout"
        }
      ]
    },
    {
      "cell_type": "markdown",
      "metadata": {
        "id": "lDAYzkwyOIUj",
        "colab_type": "text"
      },
      "source": [
        "### Convert both training and testing labels into one-hot vectors.\n",
        "\n",
        "**Hint:** check **tf.keras.utils.to_categorical()**"
      ]
    },
    {
      "cell_type": "code",
      "metadata": {
        "id": "CWSFyiYP6abS",
        "colab_type": "code",
        "colab": {}
      },
      "source": [
        "import numpy as np\n",
        "import pandas as pd\n",
        "import matplotlib.pyplot as plt\n"
      ],
      "execution_count": 0,
      "outputs": []
    },
    {
      "cell_type": "code",
      "metadata": {
        "id": "vBlfYlANOIUk",
        "colab_type": "code",
        "colab": {}
      },
      "source": [
        "categoryY=np.unique(trainY)"
      ],
      "execution_count": 0,
      "outputs": []
    },
    {
      "cell_type": "code",
      "metadata": {
        "id": "f0iYl6aNE_-0",
        "colab_type": "code",
        "colab": {}
      },
      "source": [
        "numCls=categoryY.shape[0]"
      ],
      "execution_count": 0,
      "outputs": []
    },
    {
      "cell_type": "code",
      "metadata": {
        "id": "dLzBnC-Uymkh",
        "colab_type": "code",
        "colab": {
          "base_uri": "https://localhost:8080/",
          "height": 35
        },
        "outputId": "e1226926-398d-4534-aa9f-033b302fbf72"
      },
      "source": [
        "numCls"
      ],
      "execution_count": 23,
      "outputs": [
        {
          "output_type": "execute_result",
          "data": {
            "text/plain": [
              "10"
            ]
          },
          "metadata": {
            "tags": []
          },
          "execution_count": 23
        }
      ]
    },
    {
      "cell_type": "code",
      "metadata": {
        "id": "lmYD9oroyClq",
        "colab_type": "code",
        "colab": {}
      },
      "source": [
        "train_Y = tf.keras.utils.to_categorical(trainY, num_classes=numCls)\n",
        "test_Y = tf.keras.utils.to_categorical(testY, num_classes=numCls)"
      ],
      "execution_count": 0,
      "outputs": []
    },
    {
      "cell_type": "code",
      "metadata": {
        "id": "j6uEC3BRGO2-",
        "colab_type": "code",
        "colab": {
          "base_uri": "https://localhost:8080/",
          "height": 55
        },
        "outputId": "5e5de079-b4ce-4e60-c3e2-c81c4b4efa91"
      },
      "source": [
        "from google.colab import drive\n",
        "drive.mount('/content/drive')"
      ],
      "execution_count": 72,
      "outputs": [
        {
          "output_type": "stream",
          "text": [
            "Drive already mounted at /content/drive; to attempt to forcibly remount, call drive.mount(\"/content/drive\", force_remount=True).\n"
          ],
          "name": "stdout"
        }
      ]
    },
    {
      "cell_type": "code",
      "metadata": {
        "scrolled": true,
        "id": "RHV3b9mzOIUq",
        "colab_type": "code",
        "outputId": "3a6d4f3b-bd5c-4c22-ee97-cfd890f7fd5d",
        "colab": {
          "base_uri": "https://localhost:8080/",
          "height": 124
        }
      },
      "source": [
        "print(trainY.shape)\n",
        "print('First 5 examples now are: ', train_Y[0:5])"
      ],
      "execution_count": 25,
      "outputs": [
        {
          "output_type": "stream",
          "text": [
            "(60000,)\n",
            "('First 5 examples now are: ', array([[0., 0., 0., 0., 0., 0., 0., 0., 0., 1.],\n",
            "       [1., 0., 0., 0., 0., 0., 0., 0., 0., 0.],\n",
            "       [1., 0., 0., 0., 0., 0., 0., 0., 0., 0.],\n",
            "       [0., 0., 0., 1., 0., 0., 0., 0., 0., 0.],\n",
            "       [1., 0., 0., 0., 0., 0., 0., 0., 0., 0.]], dtype=float32))\n"
          ],
          "name": "stdout"
        }
      ]
    },
    {
      "cell_type": "code",
      "metadata": {
        "id": "milovYkJ1ELw",
        "colab_type": "code",
        "colab": {}
      },
      "source": [
        ""
      ],
      "execution_count": 0,
      "outputs": []
    },
    {
      "cell_type": "markdown",
      "metadata": {
        "id": "FwhQ8e7VOIUw",
        "colab_type": "text"
      },
      "source": [
        "### Visualize the data\n",
        "\n",
        "Plot first 10 images in the triaining set and their labels."
      ]
    },
    {
      "cell_type": "code",
      "metadata": {
        "id": "0WxPnaj5dv8d",
        "colab_type": "code",
        "colab": {}
      },
      "source": [
        "class_names = ['T-shirt/top', 'Trouser', 'Pullover', 'Dress', 'Coat',\n",
        "               'Sandal', 'Shirt', 'Sneaker', 'Bag', 'Ankle boot']"
      ],
      "execution_count": 0,
      "outputs": []
    },
    {
      "cell_type": "code",
      "metadata": {
        "id": "tuwzGZ5pe4cs",
        "colab_type": "code",
        "colab": {
          "base_uri": "https://localhost:8080/",
          "height": 255
        },
        "outputId": "057f90db-7306-411b-c35c-df6601378162"
      },
      "source": [
        "plt.figure(figsize=(10,10))\n",
        "for i in range(10):\n",
        "    plt.subplot(5,5,i+1)\n",
        "    plt.xticks([])\n",
        "    plt.yticks([])\n",
        "    plt.grid(False)\n",
        "    plt.imshow(trainX[i], cmap=plt.cm.binary)\n",
        "    plt.xlabel(class_names[trainY[i]])\n",
        "plt.show()\n"
      ],
      "execution_count": 34,
      "outputs": [
        {
          "output_type": "display_data",
          "data": {
            "image/png": "[encoded data removed]",
            "text/plain": [
              "<Figure size 720x720 with 10 Axes>"
            ]
          },
          "metadata": {
            "tags": []
          }
        }
      ]
    },
    {
      "cell_type": "markdown",
      "metadata": {
        "id": "l4TbJGeSOIU4",
        "colab_type": "text"
      },
      "source": [
        "### Build a neural Network with a cross entropy loss function and sgd optimizer in Keras. The output layer with 10 neurons as we have 10 classes."
      ]
    },
    {
      "cell_type": "code",
      "metadata": {
        "id": "Ac06XZZTOIU6",
        "colab_type": "code",
        "colab": {}
      },
      "source": [
        "#Initialize Sequential model\n",
        "model = tf.keras.models.Sequential()\n",
        "model.add(tf.keras.layers.Reshape((784,),input_shape=(28,28,)))\n",
        "\n",
        "model.add(tf.keras.layers.Dense(10, activation='softmax'))\n",
        "model.compile(optimizer='sgd', loss='categorical_crossentropy', \n",
        "              metrics=['accuracy'])"
      ],
      "execution_count": 0,
      "outputs": []
    },
    {
      "cell_type": "markdown",
      "metadata": {
        "id": "3hQpLv3aOIU_",
        "colab_type": "text"
      },
      "source": [
        "### Execute the model using model.fit()"
      ]
    },
    {
      "cell_type": "code",
      "metadata": {
        "id": "O59C_-IgOIVB",
        "colab_type": "code",
        "colab": {
          "base_uri": "https://localhost:8080/",
          "height": 1000
        },
        "outputId": "edb315a2-de17-4346-ec72-22747023fda2"
      },
      "source": [
        "model.fit(trainX, train_Y, \n",
        "          validation_data=(testX, test_Y), \n",
        "          epochs=100,\n",
        "          batch_size=trainX.shape[0])"
      ],
      "execution_count": 51,
      "outputs": [
        {
          "output_type": "stream",
          "text": [
            "Train on 60000 samples, validate on 10000 samples\n",
            "Epoch 1/100\n",
            "60000/60000 [==============================] - 0s 3us/sample - loss: 295.1390 - acc: 0.0939 - val_loss: 6032.3130 - val_acc: 0.2244\n",
            "Epoch 2/100\n",
            "60000/60000 [==============================] - 0s 1us/sample - loss: 6041.0337 - acc: 0.2314 - val_loss: 12447.3379 - val_acc: 0.1661\n",
            "Epoch 3/100\n",
            "60000/60000 [==============================] - 0s 1us/sample - loss: 12397.2910 - acc: 0.1747 - val_loss: 16679.9512 - val_acc: 0.1873\n",
            "Epoch 4/100\n",
            "60000/60000 [==============================] - 0s 1us/sample - loss: 16623.4023 - acc: 0.1908 - val_loss: 20365.8789 - val_acc: 0.2200\n",
            "Epoch 5/100\n",
            "60000/60000 [==============================] - 0s 1us/sample - loss: 20245.4199 - acc: 0.2222 - val_loss: 22793.1992 - val_acc: 0.2474\n",
            "Epoch 6/100\n",
            "60000/60000 [==============================] - 0s 1us/sample - loss: 22725.7129 - acc: 0.2497 - val_loss: 19239.8125 - val_acc: 0.2446\n",
            "Epoch 7/100\n",
            "60000/60000 [==============================] - 0s 1us/sample - loss: 19258.3633 - acc: 0.2454 - val_loss: 11204.5684 - val_acc: 0.2741\n",
            "Epoch 8/100\n",
            "60000/60000 [==============================] - 0s 1us/sample - loss: 11196.9141 - acc: 0.2721 - val_loss: 3654.9185 - val_acc: 0.3059\n",
            "Epoch 9/100\n",
            "60000/60000 [==============================] - 0s 1us/sample - loss: 3571.6438 - acc: 0.3098 - val_loss: 6129.1680 - val_acc: 0.3724\n",
            "Epoch 10/100\n",
            "60000/60000 [==============================] - 0s 1us/sample - loss: 6064.4443 - acc: 0.3818 - val_loss: 4589.1367 - val_acc: 0.4836\n",
            "Epoch 11/100\n",
            "60000/60000 [==============================] - 0s 1us/sample - loss: 4552.2261 - acc: 0.4832 - val_loss: 3868.0964 - val_acc: 0.5403\n",
            "Epoch 12/100\n",
            "60000/60000 [==============================] - 0s 1us/sample - loss: 3817.5132 - acc: 0.5429 - val_loss: 4972.8726 - val_acc: 0.5312\n",
            "Epoch 13/100\n",
            "60000/60000 [==============================] - 0s 1us/sample - loss: 4963.1455 - acc: 0.5360 - val_loss: 5649.8608 - val_acc: 0.4975\n",
            "Epoch 14/100\n",
            "60000/60000 [==============================] - 0s 1us/sample - loss: 5579.3340 - acc: 0.5039 - val_loss: 4023.7383 - val_acc: 0.5188\n",
            "Epoch 15/100\n",
            "60000/60000 [==============================] - 0s 1us/sample - loss: 3977.1267 - acc: 0.5217 - val_loss: 4448.3760 - val_acc: 0.4650\n",
            "Epoch 16/100\n",
            "60000/60000 [==============================] - 0s 1us/sample - loss: 4411.8140 - acc: 0.4661 - val_loss: 4577.4648 - val_acc: 0.5031\n",
            "Epoch 17/100\n",
            "60000/60000 [==============================] - 0s 1us/sample - loss: 4486.6924 - acc: 0.5043 - val_loss: 3988.7280 - val_acc: 0.5477\n",
            "Epoch 18/100\n",
            "60000/60000 [==============================] - 0s 1us/sample - loss: 3912.5291 - acc: 0.5514 - val_loss: 4777.7783 - val_acc: 0.5906\n",
            "Epoch 19/100\n",
            "60000/60000 [==============================] - 0s 1us/sample - loss: 4732.5220 - acc: 0.5907 - val_loss: 4219.3623 - val_acc: 0.6182\n",
            "Epoch 20/100\n",
            "60000/60000 [==============================] - 0s 1us/sample - loss: 4153.0244 - acc: 0.6188 - val_loss: 1609.6071 - val_acc: 0.5951\n",
            "Epoch 21/100\n",
            "60000/60000 [==============================] - 0s 1us/sample - loss: 1560.2539 - acc: 0.6019 - val_loss: 2450.3853 - val_acc: 0.5217\n",
            "Epoch 22/100\n",
            "60000/60000 [==============================] - 0s 1us/sample - loss: 2352.2346 - acc: 0.5333 - val_loss: 4354.9805 - val_acc: 0.5404\n",
            "Epoch 23/100\n",
            "60000/60000 [==============================] - 0s 1us/sample - loss: 4298.6924 - acc: 0.5510 - val_loss: 4807.6758 - val_acc: 0.6169\n",
            "Epoch 24/100\n",
            "60000/60000 [==============================] - 0s 1us/sample - loss: 4732.3330 - acc: 0.6226 - val_loss: 1838.1080 - val_acc: 0.6405\n",
            "Epoch 25/100\n",
            "60000/60000 [==============================] - 0s 1us/sample - loss: 1791.9282 - acc: 0.6428 - val_loss: 1725.9561 - val_acc: 0.6074\n",
            "Epoch 26/100\n",
            "60000/60000 [==============================] - 0s 1us/sample - loss: 1639.3651 - acc: 0.6216 - val_loss: 2749.5051 - val_acc: 0.6621\n",
            "Epoch 27/100\n",
            "60000/60000 [==============================] - 0s 1us/sample - loss: 2705.8965 - acc: 0.6741 - val_loss: 1452.0551 - val_acc: 0.7152\n",
            "Epoch 28/100\n",
            "60000/60000 [==============================] - 0s 1us/sample - loss: 1425.3511 - acc: 0.7211 - val_loss: 1042.2328 - val_acc: 0.6507\n",
            "Epoch 29/100\n",
            "60000/60000 [==============================] - 0s 1us/sample - loss: 992.0511 - acc: 0.6570 - val_loss: 2177.7451 - val_acc: 0.6021\n",
            "Epoch 30/100\n",
            "60000/60000 [==============================] - 0s 1us/sample - loss: 2129.7131 - acc: 0.6093 - val_loss: 3552.9868 - val_acc: 0.5464\n",
            "Epoch 31/100\n",
            "60000/60000 [==============================] - 0s 1us/sample - loss: 3422.7639 - acc: 0.5506 - val_loss: 5593.1909 - val_acc: 0.6166\n",
            "Epoch 32/100\n",
            "60000/60000 [==============================] - 0s 1us/sample - loss: 5493.8853 - acc: 0.6221 - val_loss: 3868.8403 - val_acc: 0.6552\n",
            "Epoch 33/100\n",
            "60000/60000 [==============================] - 0s 1us/sample - loss: 3829.1399 - acc: 0.6582 - val_loss: 2086.1602 - val_acc: 0.6797\n",
            "Epoch 34/100\n",
            "60000/60000 [==============================] - 0s 1us/sample - loss: 2028.8890 - acc: 0.6796 - val_loss: 1717.2328 - val_acc: 0.6527\n",
            "Epoch 35/100\n",
            "60000/60000 [==============================] - 0s 1us/sample - loss: 1675.7107 - acc: 0.6609 - val_loss: 1214.0986 - val_acc: 0.6739\n",
            "Epoch 36/100\n",
            "60000/60000 [==============================] - 0s 1us/sample - loss: 1166.9231 - acc: 0.6763 - val_loss: 2318.3201 - val_acc: 0.5969\n",
            "Epoch 37/100\n",
            "60000/60000 [==============================] - 0s 1us/sample - loss: 2249.8491 - acc: 0.6019 - val_loss: 1630.4656 - val_acc: 0.6669\n",
            "Epoch 38/100\n",
            "60000/60000 [==============================] - 0s 1us/sample - loss: 1571.0660 - acc: 0.6696 - val_loss: 2244.8108 - val_acc: 0.6362\n",
            "Epoch 39/100\n",
            "60000/60000 [==============================] - 0s 1us/sample - loss: 2184.4817 - acc: 0.6448 - val_loss: 1887.7792 - val_acc: 0.6817\n",
            "Epoch 40/100\n",
            "60000/60000 [==============================] - 0s 1us/sample - loss: 1821.0984 - acc: 0.6955 - val_loss: 1829.3824 - val_acc: 0.6989\n",
            "Epoch 41/100\n",
            "60000/60000 [==============================] - 0s 1us/sample - loss: 1784.5439 - acc: 0.7056 - val_loss: 2157.9988 - val_acc: 0.6644\n",
            "Epoch 42/100\n",
            "60000/60000 [==============================] - 0s 1us/sample - loss: 2114.2002 - acc: 0.6706 - val_loss: 3429.9675 - val_acc: 0.5815\n",
            "Epoch 43/100\n",
            "60000/60000 [==============================] - 0s 1us/sample - loss: 3305.7222 - acc: 0.5898 - val_loss: 4767.1655 - val_acc: 0.6572\n",
            "Epoch 44/100\n",
            "60000/60000 [==============================] - 0s 1us/sample - loss: 4690.3276 - acc: 0.6629 - val_loss: 3551.3464 - val_acc: 0.6723\n",
            "Epoch 45/100\n",
            "60000/60000 [==============================] - 0s 1us/sample - loss: 3507.6982 - acc: 0.6757 - val_loss: 2074.3220 - val_acc: 0.6918\n",
            "Epoch 46/100\n",
            "60000/60000 [==============================] - 0s 1us/sample - loss: 2013.7245 - acc: 0.6938 - val_loss: 1595.7983 - val_acc: 0.7041\n",
            "Epoch 47/100\n",
            "60000/60000 [==============================] - 0s 1us/sample - loss: 1554.5565 - acc: 0.7128 - val_loss: 1016.2554 - val_acc: 0.7223\n",
            "Epoch 48/100\n",
            "60000/60000 [==============================] - 0s 1us/sample - loss: 982.3300 - acc: 0.7332 - val_loss: 1191.7030 - val_acc: 0.6397\n",
            "Epoch 49/100\n",
            "60000/60000 [==============================] - 0s 1us/sample - loss: 1104.5242 - acc: 0.6542 - val_loss: 2823.5110 - val_acc: 0.6965\n",
            "Epoch 50/100\n",
            "60000/60000 [==============================] - 0s 1us/sample - loss: 2779.0950 - acc: 0.7091 - val_loss: 2140.8489 - val_acc: 0.6722\n",
            "Epoch 51/100\n",
            "60000/60000 [==============================] - 0s 1us/sample - loss: 2086.9963 - acc: 0.6741 - val_loss: 2345.0352 - val_acc: 0.6529\n",
            "Epoch 52/100\n",
            "60000/60000 [==============================] - 0s 1us/sample - loss: 2301.9915 - acc: 0.6589 - val_loss: 3615.2344 - val_acc: 0.5760\n",
            "Epoch 53/100\n",
            "60000/60000 [==============================] - 0s 1us/sample - loss: 3485.6885 - acc: 0.5853 - val_loss: 4425.4932 - val_acc: 0.6715\n",
            "Epoch 54/100\n",
            "60000/60000 [==============================] - 0s 1us/sample - loss: 4354.8374 - acc: 0.6757 - val_loss: 3571.8784 - val_acc: 0.6809\n",
            "Epoch 55/100\n",
            "60000/60000 [==============================] - 0s 1us/sample - loss: 3524.0544 - acc: 0.6848 - val_loss: 2105.7461 - val_acc: 0.7018\n",
            "Epoch 56/100\n",
            "60000/60000 [==============================] - 0s 1us/sample - loss: 2045.1897 - acc: 0.7047 - val_loss: 1440.5668 - val_acc: 0.7139\n",
            "Epoch 57/100\n",
            "60000/60000 [==============================] - 0s 1us/sample - loss: 1398.2485 - acc: 0.7210 - val_loss: 947.3342 - val_acc: 0.7319\n",
            "Epoch 58/100\n",
            "60000/60000 [==============================] - 0s 1us/sample - loss: 911.3100 - acc: 0.7401 - val_loss: 1274.2958 - val_acc: 0.6610\n",
            "Epoch 59/100\n",
            "60000/60000 [==============================] - 0s 1us/sample - loss: 1191.4066 - acc: 0.6755 - val_loss: 2303.2073 - val_acc: 0.7341\n",
            "Epoch 60/100\n",
            "60000/60000 [==============================] - 0s 1us/sample - loss: 2269.8574 - acc: 0.7430 - val_loss: 1162.2980 - val_acc: 0.7225\n",
            "Epoch 61/100\n",
            "60000/60000 [==============================] - 0s 1us/sample - loss: 1127.9121 - acc: 0.7319 - val_loss: 856.6327 - val_acc: 0.7109\n",
            "Epoch 62/100\n",
            "60000/60000 [==============================] - 0s 1us/sample - loss: 796.7755 - acc: 0.7267 - val_loss: 1362.6184 - val_acc: 0.7239\n",
            "Epoch 63/100\n",
            "60000/60000 [==============================] - 0s 1us/sample - loss: 1335.7640 - acc: 0.7308 - val_loss: 744.6423 - val_acc: 0.7392\n",
            "Epoch 64/100\n",
            "60000/60000 [==============================] - 0s 1us/sample - loss: 694.5188 - acc: 0.7514 - val_loss: 861.7557 - val_acc: 0.7214\n",
            "Epoch 65/100\n",
            "60000/60000 [==============================] - 0s 1us/sample - loss: 825.1879 - acc: 0.7220 - val_loss: 1980.2841 - val_acc: 0.6483\n",
            "Epoch 66/100\n",
            "60000/60000 [==============================] - 0s 1us/sample - loss: 1909.1024 - acc: 0.6579 - val_loss: 1772.6876 - val_acc: 0.6756\n",
            "Epoch 67/100\n",
            "60000/60000 [==============================] - 0s 1us/sample - loss: 1731.4979 - acc: 0.6851 - val_loss: 1461.3506 - val_acc: 0.6773\n",
            "Epoch 68/100\n",
            "60000/60000 [==============================] - 0s 1us/sample - loss: 1401.5885 - acc: 0.6864 - val_loss: 2216.7383 - val_acc: 0.5960\n",
            "Epoch 69/100\n",
            "60000/60000 [==============================] - 0s 1us/sample - loss: 2109.7764 - acc: 0.6070 - val_loss: 2951.6389 - val_acc: 0.7190\n",
            "Epoch 70/100\n",
            "60000/60000 [==============================] - 0s 1us/sample - loss: 2915.7505 - acc: 0.7283 - val_loss: 1753.3108 - val_acc: 0.7106\n",
            "Epoch 71/100\n",
            "60000/60000 [==============================] - 0s 1us/sample - loss: 1711.2164 - acc: 0.7156 - val_loss: 1945.9637 - val_acc: 0.6756\n",
            "Epoch 72/100\n",
            "60000/60000 [==============================] - 0s 1us/sample - loss: 1895.7274 - acc: 0.6836 - val_loss: 3021.4768 - val_acc: 0.6408\n",
            "Epoch 73/100\n",
            "60000/60000 [==============================] - 0s 1us/sample - loss: 2892.1514 - acc: 0.6555 - val_loss: 3634.0601 - val_acc: 0.6782\n",
            "Epoch 74/100\n",
            "60000/60000 [==============================] - 0s 1us/sample - loss: 3568.4751 - acc: 0.6862 - val_loss: 3070.6748 - val_acc: 0.6882\n",
            "Epoch 75/100\n",
            "60000/60000 [==============================] - 0s 1us/sample - loss: 3021.4075 - acc: 0.6949 - val_loss: 1554.0527 - val_acc: 0.7274\n",
            "Epoch 76/100\n",
            "60000/60000 [==============================] - 0s 1us/sample - loss: 1495.1666 - acc: 0.7329 - val_loss: 899.6752 - val_acc: 0.7140\n",
            "Epoch 77/100\n",
            "60000/60000 [==============================] - 0s 1us/sample - loss: 851.7712 - acc: 0.7277 - val_loss: 1155.1774 - val_acc: 0.7170\n",
            "Epoch 78/100\n",
            "60000/60000 [==============================] - 0s 1us/sample - loss: 1112.9591 - acc: 0.7250 - val_loss: 1299.4587 - val_acc: 0.7122\n",
            "Epoch 79/100\n",
            "60000/60000 [==============================] - 0s 1us/sample - loss: 1241.5739 - acc: 0.7258 - val_loss: 1233.7585 - val_acc: 0.7199\n",
            "Epoch 80/100\n",
            "60000/60000 [==============================] - 0s 1us/sample - loss: 1193.1864 - acc: 0.7248 - val_loss: 1139.0807 - val_acc: 0.7220\n",
            "Epoch 81/100\n",
            "60000/60000 [==============================] - 0s 1us/sample - loss: 1084.2811 - acc: 0.7332 - val_loss: 1118.9650 - val_acc: 0.7001\n",
            "Epoch 82/100\n",
            "60000/60000 [==============================] - 0s 1us/sample - loss: 1072.6753 - acc: 0.7053 - val_loss: 1996.3138 - val_acc: 0.6725\n",
            "Epoch 83/100\n",
            "60000/60000 [==============================] - 0s 1us/sample - loss: 1930.4656 - acc: 0.6809 - val_loss: 1134.7312 - val_acc: 0.7017\n",
            "Epoch 84/100\n",
            "60000/60000 [==============================] - 0s 1us/sample - loss: 1087.6558 - acc: 0.7103 - val_loss: 1081.3221 - val_acc: 0.7006\n",
            "Epoch 85/100\n",
            "60000/60000 [==============================] - 0s 1us/sample - loss: 1010.1055 - acc: 0.7103 - val_loss: 1438.6923 - val_acc: 0.7031\n",
            "Epoch 86/100\n",
            "60000/60000 [==============================] - 0s 1us/sample - loss: 1393.8124 - acc: 0.7082 - val_loss: 1996.5656 - val_acc: 0.7046\n",
            "Epoch 87/100\n",
            "60000/60000 [==============================] - 0s 1us/sample - loss: 1935.0140 - acc: 0.7132 - val_loss: 882.7046 - val_acc: 0.7573\n",
            "Epoch 88/100\n",
            "60000/60000 [==============================] - 0s 1us/sample - loss: 845.2794 - acc: 0.7674 - val_loss: 774.4739 - val_acc: 0.7177\n",
            "Epoch 89/100\n",
            "60000/60000 [==============================] - 0s 1us/sample - loss: 704.6942 - acc: 0.7354 - val_loss: 2058.2166 - val_acc: 0.7405\n",
            "Epoch 90/100\n",
            "60000/60000 [==============================] - 0s 1us/sample - loss: 2023.5544 - acc: 0.7497 - val_loss: 1416.6484 - val_acc: 0.7221\n",
            "Epoch 91/100\n",
            "60000/60000 [==============================] - 0s 1us/sample - loss: 1369.7920 - acc: 0.7266 - val_loss: 1838.6530 - val_acc: 0.7166\n",
            "Epoch 92/100\n",
            "60000/60000 [==============================] - 0s 1us/sample - loss: 1783.7786 - acc: 0.7296 - val_loss: 823.6694 - val_acc: 0.7733\n",
            "Epoch 93/100\n",
            "60000/60000 [==============================] - 0s 1us/sample - loss: 786.3072 - acc: 0.7821 - val_loss: 1028.0972 - val_acc: 0.6988\n",
            "Epoch 94/100\n",
            "60000/60000 [==============================] - 0s 1us/sample - loss: 945.7178 - acc: 0.7128 - val_loss: 2629.7151 - val_acc: 0.7243\n",
            "Epoch 95/100\n",
            "60000/60000 [==============================] - 0s 1us/sample - loss: 2585.8577 - acc: 0.7369 - val_loss: 2077.7925 - val_acc: 0.7089\n",
            "Epoch 96/100\n",
            "60000/60000 [==============================] - 0s 1us/sample - loss: 2028.5475 - acc: 0.7113 - val_loss: 1706.3604 - val_acc: 0.7241\n",
            "Epoch 97/100\n",
            "60000/60000 [==============================] - 0s 1us/sample - loss: 1665.8107 - acc: 0.7300 - val_loss: 2435.5942 - val_acc: 0.6485\n",
            "Epoch 98/100\n",
            "60000/60000 [==============================] - 0s 1us/sample - loss: 2323.3103 - acc: 0.6620 - val_loss: 2978.8496 - val_acc: 0.7240\n",
            "Epoch 99/100\n",
            "60000/60000 [==============================] - 0s 1us/sample - loss: 2934.1846 - acc: 0.7328 - val_loss: 2845.3057 - val_acc: 0.6976\n",
            "Epoch 100/100\n",
            "60000/60000 [==============================] - 0s 1us/sample - loss: 2785.3318 - acc: 0.7030 - val_loss: 1886.4830 - val_acc: 0.7269\n"
          ],
          "name": "stdout"
        },
        {
          "output_type": "execute_result",
          "data": {
            "text/plain": [
              "<tensorflow.python.keras.callbacks.History at 0x7f463080f110>"
            ]
          },
          "metadata": {
            "tags": []
          },
          "execution_count": 51
        }
      ]
    },
    {
      "cell_type": "markdown",
      "metadata": {
        "id": "JdzDtGwDOIVF",
        "colab_type": "text"
      },
      "source": [
        "### In the above Neural Network model add Batch Normalization layer after the input layer and repeat the steps."
      ]
    },
    {
      "cell_type": "code",
      "metadata": {
        "id": "riWADQx_nsLt",
        "colab_type": "code",
        "colab": {}
      },
      "source": [
        "model = tf.keras.models.Sequential()\n",
        "model.add(tf.keras.layers.Reshape((784,),input_shape=(28,28,)))\n",
        "model.add(tf.keras.layers.BatchNormalization())\n",
        "model.add(tf.keras.layers.Dense(10, activation='softmax'))\n",
        "model.compile(optimizer='sgd', loss='categorical_crossentropy', \n",
        "              metrics=['accuracy'])"
      ],
      "execution_count": 0,
      "outputs": []
    },
    {
      "cell_type": "code",
      "metadata": {
        "id": "kndfpdidOIVI",
        "colab_type": "code",
        "colab": {}
      },
      "source": [
        ""
      ],
      "execution_count": 0,
      "outputs": []
    },
    {
      "cell_type": "markdown",
      "metadata": {
        "id": "mwk3T5LJOIVN",
        "colab_type": "text"
      },
      "source": [
        "### Execute the model"
      ]
    },
    {
      "cell_type": "code",
      "metadata": {
        "id": "JNLR8tcBOIVP",
        "colab_type": "code",
        "colab": {
          "base_uri": "https://localhost:8080/",
          "height": 428
        },
        "outputId": "1c8be0df-a6ee-4e27-e584-4589144f638b"
      },
      "source": [
        "model.fit(trainX, train_Y, \n",
        "          validation_data=(testX, test_Y), \n",
        "          epochs=10,\n",
        "          batch_size=32)"
      ],
      "execution_count": 54,
      "outputs": [
        {
          "output_type": "stream",
          "text": [
            "Train on 60000 samples, validate on 10000 samples\n",
            "Epoch 1/10\n",
            "60000/60000 [==============================] - 3s 50us/sample - loss: 0.4280 - acc: 0.8502 - val_loss: 0.4681 - val_acc: 0.8424\n",
            "Epoch 2/10\n",
            "60000/60000 [==============================] - 3s 50us/sample - loss: 0.4262 - acc: 0.8511 - val_loss: 0.4767 - val_acc: 0.8411\n",
            "Epoch 3/10\n",
            "60000/60000 [==============================] - 3s 49us/sample - loss: 0.4250 - acc: 0.8523 - val_loss: 0.4740 - val_acc: 0.8423\n",
            "Epoch 4/10\n",
            "60000/60000 [==============================] - 3s 49us/sample - loss: 0.4241 - acc: 0.8521 - val_loss: 0.4737 - val_acc: 0.8414\n",
            "Epoch 5/10\n",
            "60000/60000 [==============================] - 3s 49us/sample - loss: 0.4227 - acc: 0.8526 - val_loss: 0.4680 - val_acc: 0.8381\n",
            "Epoch 6/10\n",
            "60000/60000 [==============================] - 3s 49us/sample - loss: 0.4208 - acc: 0.8532 - val_loss: 0.4585 - val_acc: 0.8416\n",
            "Epoch 7/10\n",
            "60000/60000 [==============================] - 3s 49us/sample - loss: 0.4191 - acc: 0.8539 - val_loss: 0.4698 - val_acc: 0.8433\n",
            "Epoch 8/10\n",
            "60000/60000 [==============================] - 3s 49us/sample - loss: 0.4182 - acc: 0.8544 - val_loss: 0.4782 - val_acc: 0.8417\n",
            "Epoch 9/10\n",
            "60000/60000 [==============================] - 3s 49us/sample - loss: 0.4168 - acc: 0.8547 - val_loss: 0.4678 - val_acc: 0.8410\n",
            "Epoch 10/10\n",
            "60000/60000 [==============================] - 3s 49us/sample - loss: 0.4176 - acc: 0.8535 - val_loss: 0.4623 - val_acc: 0.8396\n"
          ],
          "name": "stdout"
        },
        {
          "output_type": "execute_result",
          "data": {
            "text/plain": [
              "<tensorflow.python.keras.callbacks.History at 0x7f46307cb950>"
            ]
          },
          "metadata": {
            "tags": []
          },
          "execution_count": 54
        }
      ]
    },
    {
      "cell_type": "markdown",
      "metadata": {
        "id": "Py-KwkmjOIVU",
        "colab_type": "text"
      },
      "source": [
        "### Customize the learning rate to 0.001 in sgd optimizer and run the model"
      ]
    },
    {
      "cell_type": "code",
      "metadata": {
        "id": "yLXUE9jWOIVV",
        "colab_type": "code",
        "colab": {}
      },
      "source": [
        "sgd_optimizer = tf.keras.optimizers.SGD(lr=0.001)    \n",
        "model.compile(optimizer=sgd_optimizer, loss='categorical_crossentropy', metrics=['accuracy'])"
      ],
      "execution_count": 0,
      "outputs": []
    },
    {
      "cell_type": "code",
      "metadata": {
        "id": "pJUqA5T4OIVc",
        "colab_type": "code",
        "colab": {
          "base_uri": "https://localhost:8080/",
          "height": 428
        },
        "outputId": "b877f224-3e58-42eb-ecb2-e17f3652de9b"
      },
      "source": [
        "model.fit(trainX, train_Y, \n",
        "          validation_data=(testX, test_Y), \n",
        "          epochs=10,\n",
        "          batch_size=32)"
      ],
      "execution_count": 57,
      "outputs": [
        {
          "output_type": "stream",
          "text": [
            "Train on 60000 samples, validate on 10000 samples\n",
            "Epoch 1/10\n",
            "60000/60000 [==============================] - 3s 51us/sample - loss: 0.4028 - acc: 0.8595 - val_loss: 0.4645 - val_acc: 0.8430\n",
            "Epoch 2/10\n",
            "60000/60000 [==============================] - 3s 50us/sample - loss: 0.4056 - acc: 0.8587 - val_loss: 0.4651 - val_acc: 0.8437\n",
            "Epoch 3/10\n",
            "60000/60000 [==============================] - 3s 49us/sample - loss: 0.4022 - acc: 0.8592 - val_loss: 0.4544 - val_acc: 0.8440\n",
            "Epoch 4/10\n",
            "60000/60000 [==============================] - 3s 51us/sample - loss: 0.4047 - acc: 0.8595 - val_loss: 0.4639 - val_acc: 0.8442\n",
            "Epoch 5/10\n",
            "60000/60000 [==============================] - 3s 53us/sample - loss: 0.4042 - acc: 0.8586 - val_loss: 0.4763 - val_acc: 0.8447\n",
            "Epoch 6/10\n",
            "60000/60000 [==============================] - 3s 51us/sample - loss: 0.4040 - acc: 0.8585 - val_loss: 0.4624 - val_acc: 0.8428\n",
            "Epoch 7/10\n",
            "60000/60000 [==============================] - 3s 53us/sample - loss: 0.4034 - acc: 0.8593 - val_loss: 0.4666 - val_acc: 0.8437\n",
            "Epoch 8/10\n",
            "60000/60000 [==============================] - 3s 54us/sample - loss: 0.4002 - acc: 0.8597 - val_loss: 0.4579 - val_acc: 0.8449\n",
            "Epoch 9/10\n",
            "60000/60000 [==============================] - 6s 98us/sample - loss: 0.4055 - acc: 0.8582 - val_loss: 0.4573 - val_acc: 0.8439\n",
            "Epoch 10/10\n",
            "60000/60000 [==============================] - 7s 116us/sample - loss: 0.4010 - acc: 0.8610 - val_loss: 0.4709 - val_acc: 0.8416\n"
          ],
          "name": "stdout"
        },
        {
          "output_type": "execute_result",
          "data": {
            "text/plain": [
              "<tensorflow.python.keras.callbacks.History at 0x7f45f0abdc50>"
            ]
          },
          "metadata": {
            "tags": []
          },
          "execution_count": 57
        }
      ]
    },
    {
      "cell_type": "markdown",
      "metadata": {
        "id": "j9CSqKvpOIVk",
        "colab_type": "text"
      },
      "source": [
        "### Build the Neural Network model with 3 Dense layers with 100,100,10 neurons respectively in each layer. Use cross entropy loss function and singmoid as activation in the hidden layers and softmax as activation function in the output layer. Use sgd optimizer with learning rate 0.03."
      ]
    },
    {
      "cell_type": "code",
      "metadata": {
        "id": "GGAad54JOIVm",
        "colab_type": "code",
        "colab": {}
      },
      "source": [
        "model2 = tf.keras.models.Sequential()\n",
        "\n",
        "#Reshape data from 2D to 1D -> 28x28 to 784\n",
        "model2.add(tf.keras.layers.Reshape((784,),input_shape=(28,28,)))\n",
        "\n",
        "#Normalize the data\n",
        "model2.add(tf.keras.layers.BatchNormalization())"
      ],
      "execution_count": 0,
      "outputs": []
    },
    {
      "cell_type": "code",
      "metadata": {
        "id": "MQ7oIymROIVp",
        "colab_type": "code",
        "colab": {}
      },
      "source": [
        "model2.add(tf.keras.layers.Dense(100, activation='sigmoid'))\n",
        "model2.add(tf.keras.layers.Dense(100, activation='sigmoid'))\n",
        "model2.add(tf.keras.layers.Dense(10, activation='softmax'))   # softmax gives the probability of classes"
      ],
      "execution_count": 0,
      "outputs": []
    },
    {
      "cell_type": "code",
      "metadata": {
        "id": "X-O-fFxnOIVt",
        "colab_type": "code",
        "colab": {}
      },
      "source": [
        "sgd_optimizer = tf.keras.optimizers.SGD(lr=0.001)    \n",
        "model2.compile(optimizer=sgd_optimizer, loss='categorical_crossentropy', metrics=['accuracy'])"
      ],
      "execution_count": 0,
      "outputs": []
    },
    {
      "cell_type": "code",
      "metadata": {
        "id": "BiP7IL52OIVw",
        "colab_type": "code",
        "colab": {}
      },
      "source": [
        ""
      ],
      "execution_count": 0,
      "outputs": []
    },
    {
      "cell_type": "markdown",
      "metadata": {
        "id": "Nr2YsZV0OIV0",
        "colab_type": "text"
      },
      "source": [
        "## Review model"
      ]
    },
    {
      "cell_type": "code",
      "metadata": {
        "id": "h4ojW6-oOIV2",
        "colab_type": "code",
        "colab": {
          "base_uri": "https://localhost:8080/",
          "height": 337
        },
        "outputId": "431b0298-8a6e-40c1-dafc-16869f44708f"
      },
      "source": [
        "model2.summary()"
      ],
      "execution_count": 61,
      "outputs": [
        {
          "output_type": "stream",
          "text": [
            "Model: \"sequential_7\"\n",
            "_________________________________________________________________\n",
            "Layer (type)                 Output Shape              Param #   \n",
            "=================================================================\n",
            "reshape_4 (Reshape)          (None, 784)               0         \n",
            "_________________________________________________________________\n",
            "batch_normalization_5 (Batch (None, 784)               3136      \n",
            "_________________________________________________________________\n",
            "dense_6 (Dense)              (None, 100)               78500     \n",
            "_________________________________________________________________\n",
            "dense_7 (Dense)              (None, 100)               10100     \n",
            "_________________________________________________________________\n",
            "dense_8 (Dense)              (None, 10)                1010      \n",
            "=================================================================\n",
            "Total params: 92,746\n",
            "Trainable params: 91,178\n",
            "Non-trainable params: 1,568\n",
            "_________________________________________________________________\n"
          ],
          "name": "stdout"
        }
      ]
    },
    {
      "cell_type": "markdown",
      "metadata": {
        "id": "gfFGmbZLOIV5",
        "colab_type": "text"
      },
      "source": [
        "### Run the model"
      ]
    },
    {
      "cell_type": "code",
      "metadata": {
        "id": "bIkbMEN5OIV7",
        "colab_type": "code",
        "colab": {
          "base_uri": "https://localhost:8080/",
          "height": 784
        },
        "outputId": "e4b6ce0f-c195-44c3-b15c-03702de7aed2"
      },
      "source": [
        "model2.fit(trainX,train_Y,          \n",
        "          validation_data=(testX,test_Y),\n",
        "          epochs=20,\n",
        "          batch_size=32)"
      ],
      "execution_count": 64,
      "outputs": [
        {
          "output_type": "stream",
          "text": [
            "Train on 60000 samples, validate on 10000 samples\n",
            "Epoch 1/20\n",
            "60000/60000 [==============================] - 10s 159us/sample - loss: 2.2321 - acc: 0.3600 - val_loss: 2.1071 - val_acc: 0.5502\n",
            "Epoch 2/20\n",
            "60000/60000 [==============================] - 9s 158us/sample - loss: 2.0218 - acc: 0.5999 - val_loss: 1.9253 - val_acc: 0.6294\n",
            "Epoch 3/20\n",
            "60000/60000 [==============================] - 9s 157us/sample - loss: 1.8471 - acc: 0.6412 - val_loss: 1.7528 - val_acc: 0.6618\n",
            "Epoch 4/20\n",
            "60000/60000 [==============================] - 10s 158us/sample - loss: 1.6815 - acc: 0.6600 - val_loss: 1.5911 - val_acc: 0.6779\n",
            "Epoch 5/20\n",
            "60000/60000 [==============================] - 9s 157us/sample - loss: 1.5321 - acc: 0.6778 - val_loss: 1.4524 - val_acc: 0.6873\n",
            "Epoch 6/20\n",
            "60000/60000 [==============================] - 10s 163us/sample - loss: 1.4029 - acc: 0.6873 - val_loss: 1.3295 - val_acc: 0.6984\n",
            "Epoch 7/20\n",
            "60000/60000 [==============================] - 9s 152us/sample - loss: 1.2932 - acc: 0.6991 - val_loss: 1.2282 - val_acc: 0.7042\n",
            "Epoch 8/20\n",
            "60000/60000 [==============================] - 9s 156us/sample - loss: 1.2016 - acc: 0.7062 - val_loss: 1.1449 - val_acc: 0.7165\n",
            "Epoch 9/20\n",
            "60000/60000 [==============================] - 9s 158us/sample - loss: 1.1224 - acc: 0.7139 - val_loss: 1.0728 - val_acc: 0.7229\n",
            "Epoch 10/20\n",
            "60000/60000 [==============================] - 9s 147us/sample - loss: 1.0566 - acc: 0.7197 - val_loss: 1.0125 - val_acc: 0.7247\n",
            "Epoch 11/20\n",
            "60000/60000 [==============================] - 9s 148us/sample - loss: 1.0009 - acc: 0.7258 - val_loss: 0.9606 - val_acc: 0.7323\n",
            "Epoch 12/20\n",
            "60000/60000 [==============================] - 10s 160us/sample - loss: 0.9532 - acc: 0.7302 - val_loss: 0.9175 - val_acc: 0.7368\n",
            "Epoch 13/20\n",
            "60000/60000 [==============================] - 10s 163us/sample - loss: 0.9130 - acc: 0.7345 - val_loss: 0.8804 - val_acc: 0.7387\n",
            "Epoch 14/20\n",
            "60000/60000 [==============================] - 9s 150us/sample - loss: 0.8766 - acc: 0.7370 - val_loss: 0.8479 - val_acc: 0.7427\n",
            "Epoch 15/20\n",
            "60000/60000 [==============================] - 9s 158us/sample - loss: 0.8480 - acc: 0.7408 - val_loss: 0.8196 - val_acc: 0.7466\n",
            "Epoch 16/20\n",
            "60000/60000 [==============================] - 9s 153us/sample - loss: 0.8206 - acc: 0.7436 - val_loss: 0.7967 - val_acc: 0.7486\n",
            "Epoch 17/20\n",
            "60000/60000 [==============================] - 9s 153us/sample - loss: 0.7983 - acc: 0.7470 - val_loss: 0.7756 - val_acc: 0.7503\n",
            "Epoch 18/20\n",
            "60000/60000 [==============================] - 9s 150us/sample - loss: 0.7787 - acc: 0.7494 - val_loss: 0.7572 - val_acc: 0.7533\n",
            "Epoch 19/20\n",
            "60000/60000 [==============================] - 9s 154us/sample - loss: 0.7589 - acc: 0.7524 - val_loss: 0.7398 - val_acc: 0.7559\n",
            "Epoch 20/20\n",
            "60000/60000 [==============================] - 9s 152us/sample - loss: 0.7441 - acc: 0.7545 - val_loss: 0.7247 - val_acc: 0.7588\n"
          ],
          "name": "stdout"
        },
        {
          "output_type": "execute_result",
          "data": {
            "text/plain": [
              "<tensorflow.python.keras.callbacks.History at 0x7f46307bd090>"
            ]
          },
          "metadata": {
            "tags": []
          },
          "execution_count": 64
        }
      ]
    },
    {
      "cell_type": "code",
      "metadata": {
        "id": "tFZ_6PbDtcmA",
        "colab_type": "code",
        "colab": {}
      },
      "source": [
        ""
      ],
      "execution_count": 0,
      "outputs": []
    },
    {
      "cell_type": "code",
      "metadata": {
        "id": "94KB93yptc--",
        "colab_type": "code",
        "colab": {}
      },
      "source": [
        "model.save('fashion_model.h5')"
      ],
      "execution_count": 0,
      "outputs": []
    },
    {
      "cell_type": "code",
      "metadata": {
        "id": "qwQZ-gECuqjK",
        "colab_type": "code",
        "colab": {}
      },
      "source": [
        "from google.colab import files\n",
        "\n",
        "files.download('fashion_model.h5')"
      ],
      "execution_count": 0,
      "outputs": []
    },
    {
      "cell_type": "code",
      "metadata": {
        "id": "ouM3gTxVv_3c",
        "colab_type": "code",
        "colab": {
          "base_uri": "https://localhost:8080/",
          "height": 88
        },
        "outputId": "3df946dc-186a-49ac-89ed-bec758d1948e"
      },
      "source": [
        "!ls -l"
      ],
      "execution_count": 76,
      "outputs": [
        {
          "output_type": "stream",
          "text": [
            "total 72\n",
            "drwx------ 4 root root  4096 Jan 15 18:15 drive\n",
            "-rw-r--r-- 1 root root 63472 Jan 15 19:47 fashion_model.h5\n",
            "drwxr-xr-x 1 root root  4096 Jan 15 19:43 sample_data\n"
          ],
          "name": "stdout"
        }
      ]
    },
    {
      "cell_type": "code",
      "metadata": {
        "id": "9kXKJd6ZwBXe",
        "colab_type": "code",
        "colab": {
          "base_uri": "https://localhost:8080/",
          "height": 197
        },
        "outputId": "b34bfeb6-0787-4db8-ebe9-4e6bf157a636"
      },
      "source": [
        "model = tf.keras.models.load_model('fashion_model.h5')"
      ],
      "execution_count": 77,
      "outputs": [
        {
          "output_type": "stream",
          "text": [
            "W0115 19:49:42.386457 139943159408512 deprecation.py:506] From /usr/local/lib/python2.7/dist-packages/tensorflow_core/python/ops/init_ops.py:97: calling __init__ (from tensorflow.python.ops.init_ops) with dtype is deprecated and will be removed in a future version.\n",
            "Instructions for updating:\n",
            "Call initializer instance with the dtype argument instead of passing it to the constructor\n",
            "W0115 19:49:42.387969 139943159408512 deprecation.py:506] From /usr/local/lib/python2.7/dist-packages/tensorflow_core/python/ops/init_ops.py:97: calling __init__ (from tensorflow.python.ops.init_ops) with dtype is deprecated and will be removed in a future version.\n",
            "Instructions for updating:\n",
            "Call initializer instance with the dtype argument instead of passing it to the constructor\n",
            "W0115 19:49:42.441092 139943159408512 deprecation.py:506] From /usr/local/lib/python2.7/dist-packages/tensorflow_core/python/ops/init_ops.py:97: calling __init__ (from tensorflow.python.ops.init_ops) with dtype is deprecated and will be removed in a future version.\n",
            "Instructions for updating:\n",
            "Call initializer instance with the dtype argument instead of passing it to the constructor\n"
          ],
          "name": "stderr"
        }
      ]
    },
    {
      "cell_type": "code",
      "metadata": {
        "id": "QKCOg1OZwWVk",
        "colab_type": "code",
        "colab": {
          "base_uri": "https://localhost:8080/",
          "height": 35
        },
        "outputId": "94b0be3f-202d-4fd9-e25e-5bc9e6ff48c1"
      },
      "source": [
        "model.input"
      ],
      "execution_count": 78,
      "outputs": [
        {
          "output_type": "execute_result",
          "data": {
            "text/plain": [
              "<tf.Tensor 'reshape_3_input_1:0' shape=(?, 28, 28) dtype=float32>"
            ]
          },
          "metadata": {
            "tags": []
          },
          "execution_count": 78
        }
      ]
    },
    {
      "cell_type": "code",
      "metadata": {
        "id": "EFeZQX6Swf2H",
        "colab_type": "code",
        "colab": {
          "base_uri": "https://localhost:8080/",
          "height": 35
        },
        "outputId": "f17c45cc-f21f-4514-e9eb-6e40daabeccc"
      },
      "source": [
        "testX[0].shape"
      ],
      "execution_count": 79,
      "outputs": [
        {
          "output_type": "execute_result",
          "data": {
            "text/plain": [
              "(28, 28)"
            ]
          },
          "metadata": {
            "tags": []
          },
          "execution_count": 79
        }
      ]
    },
    {
      "cell_type": "code",
      "metadata": {
        "id": "4JZVAilzwkie",
        "colab_type": "code",
        "colab": {
          "base_uri": "https://localhost:8080/",
          "height": 35
        },
        "outputId": "593e8c6a-69d5-4bcd-9c8a-999ea9570c70"
      },
      "source": [
        "input_data = np.expand_dims(testX[0], axis=0)\n",
        "input_data.shape"
      ],
      "execution_count": 80,
      "outputs": [
        {
          "output_type": "execute_result",
          "data": {
            "text/plain": [
              "(1, 28, 28)"
            ]
          },
          "metadata": {
            "tags": []
          },
          "execution_count": 80
        }
      ]
    },
    {
      "cell_type": "code",
      "metadata": {
        "id": "yJIEeY8jwwXp",
        "colab_type": "code",
        "colab": {
          "base_uri": "https://localhost:8080/",
          "height": 70
        },
        "outputId": "d69eba08-d699-456a-d58c-18df2fb86654"
      },
      "source": [
        "pred = model.predict(input_data)\n",
        "pred"
      ],
      "execution_count": 81,
      "outputs": [
        {
          "output_type": "execute_result",
          "data": {
            "text/plain": [
              "array([[1.8907616e-06, 8.0928703e-07, 6.2155028e-05, 1.9422927e-05,\n",
              "        1.3192765e-05, 8.6489260e-02, 7.3778756e-05, 6.6310771e-02,\n",
              "        5.6630103e-03, 8.4136581e-01]], dtype=float32)"
            ]
          },
          "metadata": {
            "tags": []
          },
          "execution_count": 81
        }
      ]
    },
    {
      "cell_type": "code",
      "metadata": {
        "id": "B-smvNwtxD60",
        "colab_type": "code",
        "colab": {
          "base_uri": "https://localhost:8080/",
          "height": 35
        },
        "outputId": "8dac39f2-3356-4b7d-d3c3-fd223c3cb34b"
      },
      "source": [
        "np.argmax(pred[0])"
      ],
      "execution_count": 87,
      "outputs": [
        {
          "output_type": "execute_result",
          "data": {
            "text/plain": [
              "9"
            ]
          },
          "metadata": {
            "tags": []
          },
          "execution_count": 87
        }
      ]
    },
    {
      "cell_type": "code",
      "metadata": {
        "id": "9HPORfvUxEwF",
        "colab_type": "code",
        "colab": {
          "base_uri": "https://localhost:8080/",
          "height": 287
        },
        "outputId": "f808b228-af39-4c6d-ffdf-50c04bdbbff7"
      },
      "source": [
        "#Lets print the image as well\n",
        "import matplotlib.pyplot as plt\n",
        "\n",
        "plt.imshow(testX[0],cmap='gray')"
      ],
      "execution_count": 83,
      "outputs": [
        {
          "output_type": "execute_result",
          "data": {
            "text/plain": [
              "<matplotlib.image.AxesImage at 0x7f4644b36b50>"
            ]
          },
          "metadata": {
            "tags": []
          },
          "execution_count": 83
        },
        {
          "output_type": "display_data",
          "data": {
            "image/png": "[encoded data removed]",
            "text/plain": [
              "<Figure size 432x288 with 1 Axes>"
            ]
          },
          "metadata": {
            "tags": []
          }
        }
      ]
    }
  ]
}